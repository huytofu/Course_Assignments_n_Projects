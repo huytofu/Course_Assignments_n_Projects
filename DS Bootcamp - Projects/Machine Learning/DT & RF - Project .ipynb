{
 "cells": [
  {
   "cell_type": "markdown",
   "metadata": {},
   "source": [
    "___\n",
    "\n",
    "<a href='http://www.pieriandata.com'> <img src='../Pierian_Data_Logo.png' /></a>\n",
    "___\n",
    "# Random Forest Project \n",
    "\n",
    "For this project we will be exploring publicly available data from [LendingClub.com](www.lendingclub.com). Lending Club connects people who need money (borrowers) with people who have money (investors). Hopefully, as an investor you would want to invest in people who showed a profile of having a high probability of paying you back. We will try to create a model that will help predict this.\n",
    "\n",
    "Lending club had a [very interesting year in 2016](https://en.wikipedia.org/wiki/Lending_Club#2016), so let's check out some of their data and keep the context in mind. This data is from before they even went public.\n",
    "\n",
    "We will use lending data from 2007-2010 and be trying to classify and predict whether or not the borrower paid back their loan in full. You can download the data from [here](https://www.lendingclub.com/info/download-data.action) or just use the csv already provided. It's recommended you use the csv provided as it has been cleaned of NA values.\n",
    "\n",
    "Here are what the columns represent:\n",
    "* credit.policy: 1 if the customer meets the credit underwriting criteria of LendingClub.com, and 0 otherwise.\n",
    "* purpose: The purpose of the loan (takes values \"credit_card\", \"debt_consolidation\", \"educational\", \"major_purchase\", \"small_business\", and \"all_other\").\n",
    "* int.rate: The interest rate of the loan, as a proportion (a rate of 11% would be stored as 0.11). Borrowers judged by LendingClub.com to be more risky are assigned higher interest rates.\n",
    "* installment: The monthly installments owed by the borrower if the loan is funded.\n",
    "* log.annual.inc: The natural log of the self-reported annual income of the borrower.\n",
    "* dti: The debt-to-income ratio of the borrower (amount of debt divided by annual income).\n",
    "* fico: The FICO credit score of the borrower.\n",
    "* days.with.cr.line: The number of days the borrower has had a credit line.\n",
    "* revol.bal: The borrower's revolving balance (amount unpaid at the end of the credit card billing cycle).\n",
    "* revol.util: The borrower's revolving line utilization rate (the amount of the credit line used relative to total credit available).\n",
    "* inq.last.6mths: The borrower's number of inquiries by creditors in the last 6 months.\n",
    "* delinq.2yrs: The number of times the borrower had been 30+ days past due on a payment in the past 2 years.\n",
    "* pub.rec: The borrower's number of derogatory public records (bankruptcy filings, tax liens, or judgments)."
   ]
  },
  {
   "cell_type": "markdown",
   "metadata": {},
   "source": [
    "# Import Libraries\n",
    "\n",
    "**Import the usual libraries for pandas and plotting. You can import sklearn later on.**"
   ]
  },
  {
   "cell_type": "code",
   "execution_count": 1,
   "metadata": {},
   "outputs": [],
   "source": [
    "import pandas as pd\n",
    "import numpy as np\n",
    "import matplotlib.pyplot as plt\n",
    "import seaborn as sns"
   ]
  },
  {
   "cell_type": "markdown",
   "metadata": {},
   "source": [
    "## Get the Data\n",
    "\n",
    "** Use pandas to read loan_data.csv as a dataframe called loans.**"
   ]
  },
  {
   "cell_type": "code",
   "execution_count": 3,
   "metadata": {},
   "outputs": [],
   "source": [
    "clean_df = pd.read_csv('loan_data.csv')\n"
   ]
  },
  {
   "cell_type": "markdown",
   "metadata": {},
   "source": [
    "** Check out the info(), head(), and describe() methods on loans.**"
   ]
  },
  {
   "cell_type": "code",
   "execution_count": 4,
   "metadata": {},
   "outputs": [
    {
     "data": {
      "text/html": [
       "<div>\n",
       "<style scoped>\n",
       "    .dataframe tbody tr th:only-of-type {\n",
       "        vertical-align: middle;\n",
       "    }\n",
       "\n",
       "    .dataframe tbody tr th {\n",
       "        vertical-align: top;\n",
       "    }\n",
       "\n",
       "    .dataframe thead th {\n",
       "        text-align: right;\n",
       "    }\n",
       "</style>\n",
       "<table border=\"1\" class=\"dataframe\">\n",
       "  <thead>\n",
       "    <tr style=\"text-align: right;\">\n",
       "      <th></th>\n",
       "      <th>credit.policy</th>\n",
       "      <th>purpose</th>\n",
       "      <th>int.rate</th>\n",
       "      <th>installment</th>\n",
       "      <th>log.annual.inc</th>\n",
       "      <th>dti</th>\n",
       "      <th>fico</th>\n",
       "      <th>days.with.cr.line</th>\n",
       "      <th>revol.bal</th>\n",
       "      <th>revol.util</th>\n",
       "      <th>inq.last.6mths</th>\n",
       "      <th>delinq.2yrs</th>\n",
       "      <th>pub.rec</th>\n",
       "      <th>not.fully.paid</th>\n",
       "    </tr>\n",
       "  </thead>\n",
       "  <tbody>\n",
       "    <tr>\n",
       "      <th>0</th>\n",
       "      <td>1</td>\n",
       "      <td>debt_consolidation</td>\n",
       "      <td>0.1189</td>\n",
       "      <td>829.10</td>\n",
       "      <td>11.350407</td>\n",
       "      <td>19.48</td>\n",
       "      <td>737</td>\n",
       "      <td>5639.958333</td>\n",
       "      <td>28854</td>\n",
       "      <td>52.1</td>\n",
       "      <td>0</td>\n",
       "      <td>0</td>\n",
       "      <td>0</td>\n",
       "      <td>0</td>\n",
       "    </tr>\n",
       "    <tr>\n",
       "      <th>1</th>\n",
       "      <td>1</td>\n",
       "      <td>credit_card</td>\n",
       "      <td>0.1071</td>\n",
       "      <td>228.22</td>\n",
       "      <td>11.082143</td>\n",
       "      <td>14.29</td>\n",
       "      <td>707</td>\n",
       "      <td>2760.000000</td>\n",
       "      <td>33623</td>\n",
       "      <td>76.7</td>\n",
       "      <td>0</td>\n",
       "      <td>0</td>\n",
       "      <td>0</td>\n",
       "      <td>0</td>\n",
       "    </tr>\n",
       "    <tr>\n",
       "      <th>2</th>\n",
       "      <td>1</td>\n",
       "      <td>debt_consolidation</td>\n",
       "      <td>0.1357</td>\n",
       "      <td>366.86</td>\n",
       "      <td>10.373491</td>\n",
       "      <td>11.63</td>\n",
       "      <td>682</td>\n",
       "      <td>4710.000000</td>\n",
       "      <td>3511</td>\n",
       "      <td>25.6</td>\n",
       "      <td>1</td>\n",
       "      <td>0</td>\n",
       "      <td>0</td>\n",
       "      <td>0</td>\n",
       "    </tr>\n",
       "    <tr>\n",
       "      <th>3</th>\n",
       "      <td>1</td>\n",
       "      <td>debt_consolidation</td>\n",
       "      <td>0.1008</td>\n",
       "      <td>162.34</td>\n",
       "      <td>11.350407</td>\n",
       "      <td>8.10</td>\n",
       "      <td>712</td>\n",
       "      <td>2699.958333</td>\n",
       "      <td>33667</td>\n",
       "      <td>73.2</td>\n",
       "      <td>1</td>\n",
       "      <td>0</td>\n",
       "      <td>0</td>\n",
       "      <td>0</td>\n",
       "    </tr>\n",
       "    <tr>\n",
       "      <th>4</th>\n",
       "      <td>1</td>\n",
       "      <td>credit_card</td>\n",
       "      <td>0.1426</td>\n",
       "      <td>102.92</td>\n",
       "      <td>11.299732</td>\n",
       "      <td>14.97</td>\n",
       "      <td>667</td>\n",
       "      <td>4066.000000</td>\n",
       "      <td>4740</td>\n",
       "      <td>39.5</td>\n",
       "      <td>0</td>\n",
       "      <td>1</td>\n",
       "      <td>0</td>\n",
       "      <td>0</td>\n",
       "    </tr>\n",
       "  </tbody>\n",
       "</table>\n",
       "</div>"
      ],
      "text/plain": [
       "   credit.policy             purpose  int.rate  installment  log.annual.inc  \\\n",
       "0              1  debt_consolidation    0.1189       829.10       11.350407   \n",
       "1              1         credit_card    0.1071       228.22       11.082143   \n",
       "2              1  debt_consolidation    0.1357       366.86       10.373491   \n",
       "3              1  debt_consolidation    0.1008       162.34       11.350407   \n",
       "4              1         credit_card    0.1426       102.92       11.299732   \n",
       "\n",
       "     dti  fico  days.with.cr.line  revol.bal  revol.util  inq.last.6mths  \\\n",
       "0  19.48   737        5639.958333      28854        52.1               0   \n",
       "1  14.29   707        2760.000000      33623        76.7               0   \n",
       "2  11.63   682        4710.000000       3511        25.6               1   \n",
       "3   8.10   712        2699.958333      33667        73.2               1   \n",
       "4  14.97   667        4066.000000       4740        39.5               0   \n",
       "\n",
       "   delinq.2yrs  pub.rec  not.fully.paid  \n",
       "0            0        0               0  \n",
       "1            0        0               0  \n",
       "2            0        0               0  \n",
       "3            0        0               0  \n",
       "4            1        0               0  "
      ]
     },
     "execution_count": 4,
     "metadata": {},
     "output_type": "execute_result"
    }
   ],
   "source": [
    "clean_df.head()"
   ]
  },
  {
   "cell_type": "code",
   "execution_count": 5,
   "metadata": {},
   "outputs": [
    {
     "name": "stdout",
     "output_type": "stream",
     "text": [
      "<class 'pandas.core.frame.DataFrame'>\n",
      "RangeIndex: 9578 entries, 0 to 9577\n",
      "Data columns (total 14 columns):\n",
      "credit.policy        9578 non-null int64\n",
      "purpose              9578 non-null object\n",
      "int.rate             9578 non-null float64\n",
      "installment          9578 non-null float64\n",
      "log.annual.inc       9578 non-null float64\n",
      "dti                  9578 non-null float64\n",
      "fico                 9578 non-null int64\n",
      "days.with.cr.line    9578 non-null float64\n",
      "revol.bal            9578 non-null int64\n",
      "revol.util           9578 non-null float64\n",
      "inq.last.6mths       9578 non-null int64\n",
      "delinq.2yrs          9578 non-null int64\n",
      "pub.rec              9578 non-null int64\n",
      "not.fully.paid       9578 non-null int64\n",
      "dtypes: float64(6), int64(7), object(1)\n",
      "memory usage: 1.0+ MB\n"
     ]
    }
   ],
   "source": [
    "clean_df.info()"
   ]
  },
  {
   "cell_type": "code",
   "execution_count": 6,
   "metadata": {},
   "outputs": [
    {
     "data": {
      "text/html": [
       "<div>\n",
       "<style scoped>\n",
       "    .dataframe tbody tr th:only-of-type {\n",
       "        vertical-align: middle;\n",
       "    }\n",
       "\n",
       "    .dataframe tbody tr th {\n",
       "        vertical-align: top;\n",
       "    }\n",
       "\n",
       "    .dataframe thead th {\n",
       "        text-align: right;\n",
       "    }\n",
       "</style>\n",
       "<table border=\"1\" class=\"dataframe\">\n",
       "  <thead>\n",
       "    <tr style=\"text-align: right;\">\n",
       "      <th></th>\n",
       "      <th>credit.policy</th>\n",
       "      <th>int.rate</th>\n",
       "      <th>installment</th>\n",
       "      <th>log.annual.inc</th>\n",
       "      <th>dti</th>\n",
       "      <th>fico</th>\n",
       "      <th>days.with.cr.line</th>\n",
       "      <th>revol.bal</th>\n",
       "      <th>revol.util</th>\n",
       "      <th>inq.last.6mths</th>\n",
       "      <th>delinq.2yrs</th>\n",
       "      <th>pub.rec</th>\n",
       "      <th>not.fully.paid</th>\n",
       "    </tr>\n",
       "  </thead>\n",
       "  <tbody>\n",
       "    <tr>\n",
       "      <th>count</th>\n",
       "      <td>9578.000000</td>\n",
       "      <td>9578.000000</td>\n",
       "      <td>9578.000000</td>\n",
       "      <td>9578.000000</td>\n",
       "      <td>9578.000000</td>\n",
       "      <td>9578.000000</td>\n",
       "      <td>9578.000000</td>\n",
       "      <td>9.578000e+03</td>\n",
       "      <td>9578.000000</td>\n",
       "      <td>9578.000000</td>\n",
       "      <td>9578.000000</td>\n",
       "      <td>9578.000000</td>\n",
       "      <td>9578.000000</td>\n",
       "    </tr>\n",
       "    <tr>\n",
       "      <th>mean</th>\n",
       "      <td>0.804970</td>\n",
       "      <td>0.122640</td>\n",
       "      <td>319.089413</td>\n",
       "      <td>10.932117</td>\n",
       "      <td>12.606679</td>\n",
       "      <td>710.846314</td>\n",
       "      <td>4560.767197</td>\n",
       "      <td>1.691396e+04</td>\n",
       "      <td>46.799236</td>\n",
       "      <td>1.577469</td>\n",
       "      <td>0.163708</td>\n",
       "      <td>0.062122</td>\n",
       "      <td>0.160054</td>\n",
       "    </tr>\n",
       "    <tr>\n",
       "      <th>std</th>\n",
       "      <td>0.396245</td>\n",
       "      <td>0.026847</td>\n",
       "      <td>207.071301</td>\n",
       "      <td>0.614813</td>\n",
       "      <td>6.883970</td>\n",
       "      <td>37.970537</td>\n",
       "      <td>2496.930377</td>\n",
       "      <td>3.375619e+04</td>\n",
       "      <td>29.014417</td>\n",
       "      <td>2.200245</td>\n",
       "      <td>0.546215</td>\n",
       "      <td>0.262126</td>\n",
       "      <td>0.366676</td>\n",
       "    </tr>\n",
       "    <tr>\n",
       "      <th>min</th>\n",
       "      <td>0.000000</td>\n",
       "      <td>0.060000</td>\n",
       "      <td>15.670000</td>\n",
       "      <td>7.547502</td>\n",
       "      <td>0.000000</td>\n",
       "      <td>612.000000</td>\n",
       "      <td>178.958333</td>\n",
       "      <td>0.000000e+00</td>\n",
       "      <td>0.000000</td>\n",
       "      <td>0.000000</td>\n",
       "      <td>0.000000</td>\n",
       "      <td>0.000000</td>\n",
       "      <td>0.000000</td>\n",
       "    </tr>\n",
       "    <tr>\n",
       "      <th>25%</th>\n",
       "      <td>1.000000</td>\n",
       "      <td>0.103900</td>\n",
       "      <td>163.770000</td>\n",
       "      <td>10.558414</td>\n",
       "      <td>7.212500</td>\n",
       "      <td>682.000000</td>\n",
       "      <td>2820.000000</td>\n",
       "      <td>3.187000e+03</td>\n",
       "      <td>22.600000</td>\n",
       "      <td>0.000000</td>\n",
       "      <td>0.000000</td>\n",
       "      <td>0.000000</td>\n",
       "      <td>0.000000</td>\n",
       "    </tr>\n",
       "    <tr>\n",
       "      <th>50%</th>\n",
       "      <td>1.000000</td>\n",
       "      <td>0.122100</td>\n",
       "      <td>268.950000</td>\n",
       "      <td>10.928884</td>\n",
       "      <td>12.665000</td>\n",
       "      <td>707.000000</td>\n",
       "      <td>4139.958333</td>\n",
       "      <td>8.596000e+03</td>\n",
       "      <td>46.300000</td>\n",
       "      <td>1.000000</td>\n",
       "      <td>0.000000</td>\n",
       "      <td>0.000000</td>\n",
       "      <td>0.000000</td>\n",
       "    </tr>\n",
       "    <tr>\n",
       "      <th>75%</th>\n",
       "      <td>1.000000</td>\n",
       "      <td>0.140700</td>\n",
       "      <td>432.762500</td>\n",
       "      <td>11.291293</td>\n",
       "      <td>17.950000</td>\n",
       "      <td>737.000000</td>\n",
       "      <td>5730.000000</td>\n",
       "      <td>1.824950e+04</td>\n",
       "      <td>70.900000</td>\n",
       "      <td>2.000000</td>\n",
       "      <td>0.000000</td>\n",
       "      <td>0.000000</td>\n",
       "      <td>0.000000</td>\n",
       "    </tr>\n",
       "    <tr>\n",
       "      <th>max</th>\n",
       "      <td>1.000000</td>\n",
       "      <td>0.216400</td>\n",
       "      <td>940.140000</td>\n",
       "      <td>14.528354</td>\n",
       "      <td>29.960000</td>\n",
       "      <td>827.000000</td>\n",
       "      <td>17639.958330</td>\n",
       "      <td>1.207359e+06</td>\n",
       "      <td>119.000000</td>\n",
       "      <td>33.000000</td>\n",
       "      <td>13.000000</td>\n",
       "      <td>5.000000</td>\n",
       "      <td>1.000000</td>\n",
       "    </tr>\n",
       "  </tbody>\n",
       "</table>\n",
       "</div>"
      ],
      "text/plain": [
       "       credit.policy     int.rate  installment  log.annual.inc          dti  \\\n",
       "count    9578.000000  9578.000000  9578.000000     9578.000000  9578.000000   \n",
       "mean        0.804970     0.122640   319.089413       10.932117    12.606679   \n",
       "std         0.396245     0.026847   207.071301        0.614813     6.883970   \n",
       "min         0.000000     0.060000    15.670000        7.547502     0.000000   \n",
       "25%         1.000000     0.103900   163.770000       10.558414     7.212500   \n",
       "50%         1.000000     0.122100   268.950000       10.928884    12.665000   \n",
       "75%         1.000000     0.140700   432.762500       11.291293    17.950000   \n",
       "max         1.000000     0.216400   940.140000       14.528354    29.960000   \n",
       "\n",
       "              fico  days.with.cr.line     revol.bal   revol.util  \\\n",
       "count  9578.000000        9578.000000  9.578000e+03  9578.000000   \n",
       "mean    710.846314        4560.767197  1.691396e+04    46.799236   \n",
       "std      37.970537        2496.930377  3.375619e+04    29.014417   \n",
       "min     612.000000         178.958333  0.000000e+00     0.000000   \n",
       "25%     682.000000        2820.000000  3.187000e+03    22.600000   \n",
       "50%     707.000000        4139.958333  8.596000e+03    46.300000   \n",
       "75%     737.000000        5730.000000  1.824950e+04    70.900000   \n",
       "max     827.000000       17639.958330  1.207359e+06   119.000000   \n",
       "\n",
       "       inq.last.6mths  delinq.2yrs      pub.rec  not.fully.paid  \n",
       "count     9578.000000  9578.000000  9578.000000     9578.000000  \n",
       "mean         1.577469     0.163708     0.062122        0.160054  \n",
       "std          2.200245     0.546215     0.262126        0.366676  \n",
       "min          0.000000     0.000000     0.000000        0.000000  \n",
       "25%          0.000000     0.000000     0.000000        0.000000  \n",
       "50%          1.000000     0.000000     0.000000        0.000000  \n",
       "75%          2.000000     0.000000     0.000000        0.000000  \n",
       "max         33.000000    13.000000     5.000000        1.000000  "
      ]
     },
     "execution_count": 6,
     "metadata": {},
     "output_type": "execute_result"
    }
   ],
   "source": [
    "clean_df.describe()"
   ]
  },
  {
   "cell_type": "code",
   "execution_count": 8,
   "metadata": {},
   "outputs": [
    {
     "data": {
      "text/plain": [
       "array(['debt_consolidation', 'credit_card', 'all_other',\n",
       "       'home_improvement', 'small_business', 'major_purchase',\n",
       "       'educational'], dtype=object)"
      ]
     },
     "execution_count": 8,
     "metadata": {},
     "output_type": "execute_result"
    }
   ],
   "source": [
    "clean_df['purpose'].unique()"
   ]
  },
  {
   "cell_type": "markdown",
   "metadata": {},
   "source": [
    "# Exploratory Data Analysis\n",
    "\n",
    "Let's do some data visualization! We'll use seaborn and pandas built-in plotting capabilities, but feel free to use whatever library you want. Don't worry about the colors matching, just worry about getting the main idea of the plot.\n",
    "\n",
    "** Create a histogram of two FICO distributions on top of each other, one for each credit.policy outcome.**\n",
    "\n",
    "*Note: This is pretty tricky, feel free to reference the solutions. You'll probably need one line of code for each histogram, I also recommend just using pandas built in .hist()*"
   ]
  },
  {
   "cell_type": "code",
   "execution_count": 38,
   "metadata": {},
   "outputs": [
    {
     "data": {
      "text/plain": [
       "<Figure size 1080x288 with 0 Axes>"
      ]
     },
     "execution_count": 38,
     "metadata": {},
     "output_type": "execute_result"
    }
   ],
   "source": []
  },
  {
   "cell_type": "code",
   "execution_count": 137,
   "metadata": {},
   "outputs": [
    {
     "name": "stderr",
     "output_type": "stream",
     "text": [
      "C:\\Users\\admin\\Anaconda3\\lib\\site-packages\\matplotlib\\axes\\_axes.py:6462: UserWarning: The 'normed' kwarg is deprecated, and has been replaced by the 'density' kwarg.\n",
      "  warnings.warn(\"The 'normed' kwarg is deprecated, and has been \"\n",
      "C:\\Users\\admin\\Anaconda3\\lib\\site-packages\\matplotlib\\axes\\_axes.py:6462: UserWarning: The 'normed' kwarg is deprecated, and has been replaced by the 'density' kwarg.\n",
      "  warnings.warn(\"The 'normed' kwarg is deprecated, and has been \"\n"
     ]
    },
    {
     "data": {
      "text/plain": [
       "<matplotlib.legend.Legend at 0x151f1ba8>"
      ]
     },
     "execution_count": 137,
     "metadata": {},
     "output_type": "execute_result"
    },
    {
     "data": {
      "image/png": "[encoded data removed]",
      "text/plain": [
       "<Figure size 720x360 with 1 Axes>"
      ]
     },
     "metadata": {},
     "output_type": "display_data"
    }
   ],
   "source": [
    "plt.style.use('ggplot')\n",
    "fig = plt.figure(figsize=[10,5])\n",
    "ax = fig.add_axes(figsize=[15,4])\n",
    "sns.distplot(kde=False, a=clean_df[clean_df['credit.policy']==1]['fico'], ax=ax, bins=30, label='credit policy = 1')\n",
    "sns.distplot(kde=False, a=clean_df[clean_df['credit.policy']==0]['fico'], ax=ax, bins=30, label='credit policy = 0')\n",
    "plt.legend()\n"
   ]
  },
  {
   "cell_type": "code",
   "execution_count": 7,
   "metadata": {},
   "outputs": [
    {
     "data": {
      "text/plain": [
       "<matplotlib.text.Text at 0x119b1f518>"
      ]
     },
     "execution_count": 7,
     "metadata": {},
     "output_type": "execute_result"
    },
    {
     "data": {
      "image/png": "[encoded data removed]",
      "text/plain": [
       "<matplotlib.figure.Figure at 0x119b0cc18>"
      ]
     },
     "metadata": {},
     "output_type": "display_data"
    }
   ],
   "source": []
  },
  {
   "cell_type": "markdown",
   "metadata": {},
   "source": [
    "** Create a similar figure, except this time select by the not.fully.paid column.**"
   ]
  },
  {
   "cell_type": "code",
   "execution_count": 185,
   "metadata": {},
   "outputs": [
    {
     "name": "stderr",
     "output_type": "stream",
     "text": [
      "C:\\Users\\admin\\Anaconda3\\lib\\site-packages\\matplotlib\\axes\\_axes.py:6462: UserWarning: The 'normed' kwarg is deprecated, and has been replaced by the 'density' kwarg.\n",
      "  warnings.warn(\"The 'normed' kwarg is deprecated, and has been \"\n",
      "C:\\Users\\admin\\Anaconda3\\lib\\site-packages\\matplotlib\\axes\\_axes.py:6462: UserWarning: The 'normed' kwarg is deprecated, and has been replaced by the 'density' kwarg.\n",
      "  warnings.warn(\"The 'normed' kwarg is deprecated, and has been \"\n"
     ]
    },
    {
     "data": {
      "text/plain": [
       "Text(0.5,1,'Huy')"
      ]
     },
     "execution_count": 185,
     "metadata": {},
     "output_type": "execute_result"
    },
    {
     "data": {
      "image/png": "[encoded data removed]",
      "text/plain": [
       "<Figure size 720x360 with 1 Axes>"
      ]
     },
     "metadata": {},
     "output_type": "display_data"
    }
   ],
   "source": [
    "fig = plt.figure(figsize=[10,5])\n",
    "ax = fig.add_axes(figsize=[15,4])\n",
    "sns.distplot(kde=False, a=clean_df[clean_df['not.fully.paid']==1]['fico'], ax=ax, bins=30, label='No Paid = 1')\n",
    "sns.distplot(kde=False, a=clean_df[clean_df['not.fully.paid']==0]['fico'], ax=ax, bins=30, label='No Paid = 0')\n",
    "plt.legend()\n",
    "plt.title('Huy')"
   ]
  },
  {
   "cell_type": "code",
   "execution_count": 8,
   "metadata": {},
   "outputs": [
    {
     "data": {
      "text/plain": [
       "<matplotlib.text.Text at 0x11a2cdd30>"
      ]
     },
     "execution_count": 8,
     "metadata": {},
     "output_type": "execute_result"
    },
    {
     "data": {
      "image/png": "[encoded data removed]",
      "text/plain": [
       "<matplotlib.figure.Figure at 0x119b0c780>"
      ]
     },
     "metadata": {},
     "output_type": "display_data"
    }
   ],
   "source": []
  },
  {
   "cell_type": "markdown",
   "metadata": {},
   "source": [
    "** Create a countplot using seaborn showing the counts of loans by purpose, with the color hue defined by not.fully.paid. **"
   ]
  },
  {
   "cell_type": "code",
   "execution_count": 52,
   "metadata": {},
   "outputs": [
    {
     "data": {
      "text/plain": [
       "<matplotlib.axes._subplots.AxesSubplot at 0xca97278>"
      ]
     },
     "execution_count": 52,
     "metadata": {},
     "output_type": "execute_result"
    },
    {
     "data": {
      "image/png": "[encoded data removed]",
      "text/plain": [
       "<Figure size 864x432 with 1 Axes>"
      ]
     },
     "metadata": {},
     "output_type": "display_data"
    }
   ],
   "source": [
    "plt.figure(figsize=[12,6])\n",
    "sns.countplot(x='purpose', data=clean_df, hue='not.fully.paid')"
   ]
  },
  {
   "cell_type": "code",
   "execution_count": 9,
   "metadata": {},
   "outputs": [
    {
     "data": {
      "text/plain": [
       "<matplotlib.axes._subplots.AxesSubplot at 0x11a508cf8>"
      ]
     },
     "execution_count": 9,
     "metadata": {},
     "output_type": "execute_result"
    },
    {
     "data": {
      "image/png": "[encoded data removed]",
      "text/plain": [
       "<matplotlib.figure.Figure at 0x11a52c390>"
      ]
     },
     "metadata": {},
     "output_type": "display_data"
    }
   ],
   "source": []
  },
  {
   "cell_type": "markdown",
   "metadata": {},
   "source": [
    "** Let's see the trend between FICO score and interest rate. Recreate the following jointplot.**"
   ]
  },
  {
   "cell_type": "code",
   "execution_count": 58,
   "metadata": {},
   "outputs": [
    {
     "name": "stderr",
     "output_type": "stream",
     "text": [
      "C:\\Users\\admin\\Anaconda3\\lib\\site-packages\\matplotlib\\axes\\_axes.py:6462: UserWarning: The 'normed' kwarg is deprecated, and has been replaced by the 'density' kwarg.\n",
      "  warnings.warn(\"The 'normed' kwarg is deprecated, and has been \"\n",
      "C:\\Users\\admin\\Anaconda3\\lib\\site-packages\\matplotlib\\axes\\_axes.py:6462: UserWarning: The 'normed' kwarg is deprecated, and has been replaced by the 'density' kwarg.\n",
      "  warnings.warn(\"The 'normed' kwarg is deprecated, and has been \"\n"
     ]
    },
    {
     "data": {
      "text/plain": [
       "<seaborn.axisgrid.JointGrid at 0xe6f6438>"
      ]
     },
     "execution_count": 58,
     "metadata": {},
     "output_type": "execute_result"
    },
    {
     "data": {
      "image/png": "[encoded data removed]",
      "text/plain": [
       "<Figure size 432x432 with 3 Axes>"
      ]
     },
     "metadata": {},
     "output_type": "display_data"
    }
   ],
   "source": [
    "sns.jointplot(y='int.rate', x='fico', data=clean_df, size=6, space=1)"
   ]
  },
  {
   "cell_type": "code",
   "execution_count": 10,
   "metadata": {},
   "outputs": [
    {
     "data": {
      "text/plain": [
       "<seaborn.axisgrid.JointGrid at 0x11a87d7f0>"
      ]
     },
     "execution_count": 10,
     "metadata": {},
     "output_type": "execute_result"
    },
    {
     "data": {
      "image/png": "[encoded data removed]",
      "text/plain": [
       "<matplotlib.figure.Figure at 0x11a87d748>"
      ]
     },
     "metadata": {},
     "output_type": "display_data"
    }
   ],
   "source": []
  },
  {
   "cell_type": "markdown",
   "metadata": {},
   "source": [
    "** Create the following lmplots to see if the trend differed between not.fully.paid and credit.policy. Check the documentation for lmplot() if you can't figure out how to separate it into columns.**"
   ]
  },
  {
   "cell_type": "code",
   "execution_count": 71,
   "metadata": {},
   "outputs": [
    {
     "data": {
      "text/plain": [
       "<seaborn.axisgrid.FacetGrid at 0x100387f0>"
      ]
     },
     "execution_count": 71,
     "metadata": {},
     "output_type": "execute_result"
    },
    {
     "data": {
      "image/png": "[encoded data removed]",
      "text/plain": [
       "<Figure size 801.625x360 with 2 Axes>"
      ]
     },
     "metadata": {},
     "output_type": "display_data"
    }
   ],
   "source": [
    "sns.lmplot(x='fico', y='int.rate',col='not.fully.paid', data=clean_df, hue='credit.policy')"
   ]
  },
  {
   "cell_type": "code",
   "execution_count": 11,
   "metadata": {},
   "outputs": [
    {
     "data": {
      "text/plain": [
       "<seaborn.axisgrid.FacetGrid at 0x11ac4cb70>"
      ]
     },
     "execution_count": 11,
     "metadata": {},
     "output_type": "execute_result"
    },
    {
     "data": {
      "text/plain": [
       "<matplotlib.figure.Figure at 0x11ad7e048>"
      ]
     },
     "metadata": {},
     "output_type": "display_data"
    },
    {
     "data": {
      "image/png": "[encoded data removed]",
      "text/plain": [
       "<matplotlib.figure.Figure at 0x11ac1b6d8>"
      ]
     },
     "metadata": {},
     "output_type": "display_data"
    }
   ],
   "source": []
  },
  {
   "cell_type": "markdown",
   "metadata": {},
   "source": [
    "# Setting up the Data\n",
    "\n",
    "Let's get ready to set up our data for our Random Forest Classification Model!\n",
    "\n",
    "**Check loans.info() again.**"
   ]
  },
  {
   "cell_type": "code",
   "execution_count": 72,
   "metadata": {},
   "outputs": [
    {
     "name": "stdout",
     "output_type": "stream",
     "text": [
      "<class 'pandas.core.frame.DataFrame'>\n",
      "RangeIndex: 9578 entries, 0 to 9577\n",
      "Data columns (total 14 columns):\n",
      "credit.policy        9578 non-null int64\n",
      "purpose              9578 non-null object\n",
      "int.rate             9578 non-null float64\n",
      "installment          9578 non-null float64\n",
      "log.annual.inc       9578 non-null float64\n",
      "dti                  9578 non-null float64\n",
      "fico                 9578 non-null int64\n",
      "days.with.cr.line    9578 non-null float64\n",
      "revol.bal            9578 non-null int64\n",
      "revol.util           9578 non-null float64\n",
      "inq.last.6mths       9578 non-null int64\n",
      "delinq.2yrs          9578 non-null int64\n",
      "pub.rec              9578 non-null int64\n",
      "not.fully.paid       9578 non-null int64\n",
      "dtypes: float64(6), int64(7), object(1)\n",
      "memory usage: 1.0+ MB\n"
     ]
    }
   ],
   "source": [
    "clean_df.info()"
   ]
  },
  {
   "cell_type": "markdown",
   "metadata": {},
   "source": [
    "## Categorical Features\n",
    "\n",
    "Notice that the **purpose** column as categorical\n",
    "\n",
    "That means we need to transform them using dummy variables so sklearn will be able to understand them. Let's do this in one clean step using pd.get_dummies.\n",
    "\n",
    "Let's show you a way of dealing with these columns that can be expanded to multiple categorical features if necessary.\n",
    "\n",
    "**Create a list of 1 element containing the string 'purpose'. Call this list cat_feats.**"
   ]
  },
  {
   "cell_type": "code",
   "execution_count": 80,
   "metadata": {},
   "outputs": [
    {
     "data": {
      "text/html": [
       "<div>\n",
       "<style scoped>\n",
       "    .dataframe tbody tr th:only-of-type {\n",
       "        vertical-align: middle;\n",
       "    }\n",
       "\n",
       "    .dataframe tbody tr th {\n",
       "        vertical-align: top;\n",
       "    }\n",
       "\n",
       "    .dataframe thead th {\n",
       "        text-align: right;\n",
       "    }\n",
       "</style>\n",
       "<table border=\"1\" class=\"dataframe\">\n",
       "  <thead>\n",
       "    <tr style=\"text-align: right;\">\n",
       "      <th></th>\n",
       "      <th>credit.policy</th>\n",
       "      <th>int.rate</th>\n",
       "      <th>installment</th>\n",
       "      <th>log.annual.inc</th>\n",
       "      <th>dti</th>\n",
       "      <th>fico</th>\n",
       "      <th>days.with.cr.line</th>\n",
       "      <th>revol.bal</th>\n",
       "      <th>revol.util</th>\n",
       "      <th>inq.last.6mths</th>\n",
       "      <th>delinq.2yrs</th>\n",
       "      <th>pub.rec</th>\n",
       "      <th>not.fully.paid</th>\n",
       "      <th>purpose_credit_card</th>\n",
       "      <th>purpose_debt_consolidation</th>\n",
       "      <th>purpose_educational</th>\n",
       "      <th>purpose_home_improvement</th>\n",
       "      <th>purpose_major_purchase</th>\n",
       "      <th>purpose_small_business</th>\n",
       "    </tr>\n",
       "  </thead>\n",
       "  <tbody>\n",
       "    <tr>\n",
       "      <th>0</th>\n",
       "      <td>1</td>\n",
       "      <td>0.1189</td>\n",
       "      <td>829.10</td>\n",
       "      <td>11.350407</td>\n",
       "      <td>19.48</td>\n",
       "      <td>737</td>\n",
       "      <td>5639.958333</td>\n",
       "      <td>28854</td>\n",
       "      <td>52.1</td>\n",
       "      <td>0</td>\n",
       "      <td>0</td>\n",
       "      <td>0</td>\n",
       "      <td>0</td>\n",
       "      <td>0</td>\n",
       "      <td>1</td>\n",
       "      <td>0</td>\n",
       "      <td>0</td>\n",
       "      <td>0</td>\n",
       "      <td>0</td>\n",
       "    </tr>\n",
       "    <tr>\n",
       "      <th>1</th>\n",
       "      <td>1</td>\n",
       "      <td>0.1071</td>\n",
       "      <td>228.22</td>\n",
       "      <td>11.082143</td>\n",
       "      <td>14.29</td>\n",
       "      <td>707</td>\n",
       "      <td>2760.000000</td>\n",
       "      <td>33623</td>\n",
       "      <td>76.7</td>\n",
       "      <td>0</td>\n",
       "      <td>0</td>\n",
       "      <td>0</td>\n",
       "      <td>0</td>\n",
       "      <td>1</td>\n",
       "      <td>0</td>\n",
       "      <td>0</td>\n",
       "      <td>0</td>\n",
       "      <td>0</td>\n",
       "      <td>0</td>\n",
       "    </tr>\n",
       "    <tr>\n",
       "      <th>2</th>\n",
       "      <td>1</td>\n",
       "      <td>0.1357</td>\n",
       "      <td>366.86</td>\n",
       "      <td>10.373491</td>\n",
       "      <td>11.63</td>\n",
       "      <td>682</td>\n",
       "      <td>4710.000000</td>\n",
       "      <td>3511</td>\n",
       "      <td>25.6</td>\n",
       "      <td>1</td>\n",
       "      <td>0</td>\n",
       "      <td>0</td>\n",
       "      <td>0</td>\n",
       "      <td>0</td>\n",
       "      <td>1</td>\n",
       "      <td>0</td>\n",
       "      <td>0</td>\n",
       "      <td>0</td>\n",
       "      <td>0</td>\n",
       "    </tr>\n",
       "    <tr>\n",
       "      <th>3</th>\n",
       "      <td>1</td>\n",
       "      <td>0.1008</td>\n",
       "      <td>162.34</td>\n",
       "      <td>11.350407</td>\n",
       "      <td>8.10</td>\n",
       "      <td>712</td>\n",
       "      <td>2699.958333</td>\n",
       "      <td>33667</td>\n",
       "      <td>73.2</td>\n",
       "      <td>1</td>\n",
       "      <td>0</td>\n",
       "      <td>0</td>\n",
       "      <td>0</td>\n",
       "      <td>0</td>\n",
       "      <td>1</td>\n",
       "      <td>0</td>\n",
       "      <td>0</td>\n",
       "      <td>0</td>\n",
       "      <td>0</td>\n",
       "    </tr>\n",
       "    <tr>\n",
       "      <th>4</th>\n",
       "      <td>1</td>\n",
       "      <td>0.1426</td>\n",
       "      <td>102.92</td>\n",
       "      <td>11.299732</td>\n",
       "      <td>14.97</td>\n",
       "      <td>667</td>\n",
       "      <td>4066.000000</td>\n",
       "      <td>4740</td>\n",
       "      <td>39.5</td>\n",
       "      <td>0</td>\n",
       "      <td>1</td>\n",
       "      <td>0</td>\n",
       "      <td>0</td>\n",
       "      <td>1</td>\n",
       "      <td>0</td>\n",
       "      <td>0</td>\n",
       "      <td>0</td>\n",
       "      <td>0</td>\n",
       "      <td>0</td>\n",
       "    </tr>\n",
       "  </tbody>\n",
       "</table>\n",
       "</div>"
      ],
      "text/plain": [
       "   credit.policy  int.rate  installment  log.annual.inc    dti  fico  \\\n",
       "0              1    0.1189       829.10       11.350407  19.48   737   \n",
       "1              1    0.1071       228.22       11.082143  14.29   707   \n",
       "2              1    0.1357       366.86       10.373491  11.63   682   \n",
       "3              1    0.1008       162.34       11.350407   8.10   712   \n",
       "4              1    0.1426       102.92       11.299732  14.97   667   \n",
       "\n",
       "   days.with.cr.line  revol.bal  revol.util  inq.last.6mths  delinq.2yrs  \\\n",
       "0        5639.958333      28854        52.1               0            0   \n",
       "1        2760.000000      33623        76.7               0            0   \n",
       "2        4710.000000       3511        25.6               1            0   \n",
       "3        2699.958333      33667        73.2               1            0   \n",
       "4        4066.000000       4740        39.5               0            1   \n",
       "\n",
       "   pub.rec  not.fully.paid  purpose_credit_card  purpose_debt_consolidation  \\\n",
       "0        0               0                    0                           1   \n",
       "1        0               0                    1                           0   \n",
       "2        0               0                    0                           1   \n",
       "3        0               0                    0                           1   \n",
       "4        0               0                    1                           0   \n",
       "\n",
       "   purpose_educational  purpose_home_improvement  purpose_major_purchase  \\\n",
       "0                    0                         0                       0   \n",
       "1                    0                         0                       0   \n",
       "2                    0                         0                       0   \n",
       "3                    0                         0                       0   \n",
       "4                    0                         0                       0   \n",
       "\n",
       "   purpose_small_business  \n",
       "0                       0  \n",
       "1                       0  \n",
       "2                       0  \n",
       "3                       0  \n",
       "4                       0  "
      ]
     },
     "execution_count": 80,
     "metadata": {},
     "output_type": "execute_result"
    }
   ],
   "source": [
    "clean_df = pd.get_dummies(clean_df, columns=['purpose'],drop_first=True)\n",
    "clean_df.head()"
   ]
  },
  {
   "cell_type": "code",
   "execution_count": 81,
   "metadata": {},
   "outputs": [],
   "source": [
    "from sklearn.preprocessing import StandardScaler\n",
    "scaler = StandardScaler()"
   ]
  },
  {
   "cell_type": "code",
   "execution_count": 85,
   "metadata": {},
   "outputs": [
    {
     "data": {
      "text/plain": [
       "array([[-0.13931753,  2.46309947,  0.68038804, ...,  0.4322297 ,\n",
       "         0.35373245,  0.18270369],\n",
       "       [-0.57886837, -0.43885443,  0.2440308 , ..., -0.72123005,\n",
       "         0.49501762,  1.03060231],\n",
       "       [ 0.48648368,  0.23070836, -0.90865897, ...,  0.05976963,\n",
       "        -0.39707277, -0.73068304],\n",
       "       ...,\n",
       "       [-0.57886837, -1.06867038, -0.54569448, ..., -0.44485963,\n",
       "        -0.20376479,  1.24430034],\n",
       "       [ 1.39166043,  0.1569135 , -0.18272998, ..., -1.10572219,\n",
       "        -0.50108875, -1.50275334],\n",
       "       [ 0.61685894,  2.58060136,  0.54059439, ...,  0.07178501,\n",
       "         0.62110478,  0.35159406]])"
      ]
     },
     "execution_count": 85,
     "metadata": {},
     "output_type": "execute_result"
    }
   ],
   "source": [
    "scaler.fit_transform(clean_df.iloc[:,1:9])"
   ]
  },
  {
   "cell_type": "code",
   "execution_count": 88,
   "metadata": {},
   "outputs": [
    {
     "data": {
      "text/html": [
       "<div>\n",
       "<style scoped>\n",
       "    .dataframe tbody tr th:only-of-type {\n",
       "        vertical-align: middle;\n",
       "    }\n",
       "\n",
       "    .dataframe tbody tr th {\n",
       "        vertical-align: top;\n",
       "    }\n",
       "\n",
       "    .dataframe thead th {\n",
       "        text-align: right;\n",
       "    }\n",
       "</style>\n",
       "<table border=\"1\" class=\"dataframe\">\n",
       "  <thead>\n",
       "    <tr style=\"text-align: right;\">\n",
       "      <th></th>\n",
       "      <th>credit.policy</th>\n",
       "      <th>int.rate</th>\n",
       "      <th>installment</th>\n",
       "      <th>log.annual.inc</th>\n",
       "      <th>dti</th>\n",
       "      <th>fico</th>\n",
       "      <th>days.with.cr.line</th>\n",
       "      <th>revol.bal</th>\n",
       "      <th>revol.util</th>\n",
       "      <th>inq.last.6mths</th>\n",
       "      <th>delinq.2yrs</th>\n",
       "      <th>pub.rec</th>\n",
       "      <th>not.fully.paid</th>\n",
       "      <th>purpose_credit_card</th>\n",
       "      <th>purpose_debt_consolidation</th>\n",
       "      <th>purpose_educational</th>\n",
       "      <th>purpose_home_improvement</th>\n",
       "      <th>purpose_major_purchase</th>\n",
       "      <th>purpose_small_business</th>\n",
       "    </tr>\n",
       "  </thead>\n",
       "  <tbody>\n",
       "    <tr>\n",
       "      <th>0</th>\n",
       "      <td>1</td>\n",
       "      <td>-0.139318</td>\n",
       "      <td>2.463099</td>\n",
       "      <td>0.680388</td>\n",
       "      <td>0.998505</td>\n",
       "      <td>0.688825</td>\n",
       "      <td>0.432230</td>\n",
       "      <td>0.353732</td>\n",
       "      <td>0.182704</td>\n",
       "      <td>0</td>\n",
       "      <td>0</td>\n",
       "      <td>0</td>\n",
       "      <td>0</td>\n",
       "      <td>0</td>\n",
       "      <td>1</td>\n",
       "      <td>0</td>\n",
       "      <td>0</td>\n",
       "      <td>0</td>\n",
       "      <td>0</td>\n",
       "    </tr>\n",
       "    <tr>\n",
       "      <th>1</th>\n",
       "      <td>1</td>\n",
       "      <td>-0.578868</td>\n",
       "      <td>-0.438854</td>\n",
       "      <td>0.244031</td>\n",
       "      <td>0.244540</td>\n",
       "      <td>-0.101303</td>\n",
       "      <td>-0.721230</td>\n",
       "      <td>0.495018</td>\n",
       "      <td>1.030602</td>\n",
       "      <td>0</td>\n",
       "      <td>0</td>\n",
       "      <td>0</td>\n",
       "      <td>0</td>\n",
       "      <td>1</td>\n",
       "      <td>0</td>\n",
       "      <td>0</td>\n",
       "      <td>0</td>\n",
       "      <td>0</td>\n",
       "      <td>0</td>\n",
       "    </tr>\n",
       "    <tr>\n",
       "      <th>2</th>\n",
       "      <td>1</td>\n",
       "      <td>0.486484</td>\n",
       "      <td>0.230708</td>\n",
       "      <td>-0.908659</td>\n",
       "      <td>-0.141885</td>\n",
       "      <td>-0.759742</td>\n",
       "      <td>0.059770</td>\n",
       "      <td>-0.397073</td>\n",
       "      <td>-0.730683</td>\n",
       "      <td>1</td>\n",
       "      <td>0</td>\n",
       "      <td>0</td>\n",
       "      <td>0</td>\n",
       "      <td>0</td>\n",
       "      <td>1</td>\n",
       "      <td>0</td>\n",
       "      <td>0</td>\n",
       "      <td>0</td>\n",
       "      <td>0</td>\n",
       "    </tr>\n",
       "    <tr>\n",
       "      <th>3</th>\n",
       "      <td>1</td>\n",
       "      <td>-0.813544</td>\n",
       "      <td>-0.757022</td>\n",
       "      <td>0.680388</td>\n",
       "      <td>-0.654697</td>\n",
       "      <td>0.030385</td>\n",
       "      <td>-0.745277</td>\n",
       "      <td>0.496321</td>\n",
       "      <td>0.909966</td>\n",
       "      <td>1</td>\n",
       "      <td>0</td>\n",
       "      <td>0</td>\n",
       "      <td>0</td>\n",
       "      <td>0</td>\n",
       "      <td>1</td>\n",
       "      <td>0</td>\n",
       "      <td>0</td>\n",
       "      <td>0</td>\n",
       "      <td>0</td>\n",
       "    </tr>\n",
       "    <tr>\n",
       "      <th>4</th>\n",
       "      <td>1</td>\n",
       "      <td>0.743509</td>\n",
       "      <td>-1.043992</td>\n",
       "      <td>0.597961</td>\n",
       "      <td>0.343326</td>\n",
       "      <td>-1.154806</td>\n",
       "      <td>-0.198161</td>\n",
       "      <td>-0.360663</td>\n",
       "      <td>-0.251586</td>\n",
       "      <td>0</td>\n",
       "      <td>1</td>\n",
       "      <td>0</td>\n",
       "      <td>0</td>\n",
       "      <td>1</td>\n",
       "      <td>0</td>\n",
       "      <td>0</td>\n",
       "      <td>0</td>\n",
       "      <td>0</td>\n",
       "      <td>0</td>\n",
       "    </tr>\n",
       "  </tbody>\n",
       "</table>\n",
       "</div>"
      ],
      "text/plain": [
       "   credit.policy  int.rate  installment  log.annual.inc       dti      fico  \\\n",
       "0              1 -0.139318     2.463099        0.680388  0.998505  0.688825   \n",
       "1              1 -0.578868    -0.438854        0.244031  0.244540 -0.101303   \n",
       "2              1  0.486484     0.230708       -0.908659 -0.141885 -0.759742   \n",
       "3              1 -0.813544    -0.757022        0.680388 -0.654697  0.030385   \n",
       "4              1  0.743509    -1.043992        0.597961  0.343326 -1.154806   \n",
       "\n",
       "   days.with.cr.line  revol.bal  revol.util  inq.last.6mths  delinq.2yrs  \\\n",
       "0           0.432230   0.353732    0.182704               0            0   \n",
       "1          -0.721230   0.495018    1.030602               0            0   \n",
       "2           0.059770  -0.397073   -0.730683               1            0   \n",
       "3          -0.745277   0.496321    0.909966               1            0   \n",
       "4          -0.198161  -0.360663   -0.251586               0            1   \n",
       "\n",
       "   pub.rec  not.fully.paid  purpose_credit_card  purpose_debt_consolidation  \\\n",
       "0        0               0                    0                           1   \n",
       "1        0               0                    1                           0   \n",
       "2        0               0                    0                           1   \n",
       "3        0               0                    0                           1   \n",
       "4        0               0                    1                           0   \n",
       "\n",
       "   purpose_educational  purpose_home_improvement  purpose_major_purchase  \\\n",
       "0                    0                         0                       0   \n",
       "1                    0                         0                       0   \n",
       "2                    0                         0                       0   \n",
       "3                    0                         0                       0   \n",
       "4                    0                         0                       0   \n",
       "\n",
       "   purpose_small_business  \n",
       "0                       0  \n",
       "1                       0  \n",
       "2                       0  \n",
       "3                       0  \n",
       "4                       0  "
      ]
     },
     "execution_count": 88,
     "metadata": {},
     "output_type": "execute_result"
    }
   ],
   "source": [
    "new_data.iloc[:,1:9] = scaler.fit_transform(clean_df.iloc[:,1:9])\n",
    "new_data.head()"
   ]
  },
  {
   "cell_type": "markdown",
   "metadata": {},
   "source": [
    "**Now use pd.get_dummies(loans,columns=cat_feats,drop_first=True) to create a fixed larger dataframe that has new feature columns with dummy variables. Set this dataframe as final_data.**"
   ]
  },
  {
   "cell_type": "code",
   "execution_count": 14,
   "metadata": {},
   "outputs": [],
   "source": []
  },
  {
   "cell_type": "markdown",
   "metadata": {},
   "source": [
    "## Train Test Split\n",
    "\n",
    "Now its time to split our data into a training set and a testing set!\n",
    "\n",
    "** Use sklearn to split your data into a training set and a testing set as we've done in the past.**"
   ]
  },
  {
   "cell_type": "code",
   "execution_count": 90,
   "metadata": {},
   "outputs": [],
   "source": [
    "from sklearn.model_selection import train_test_split\n",
    "X1 = new_data[['credit.policy', 'int.rate', 'installment', 'log.annual.inc', 'dti',\n",
    "       'fico', 'days.with.cr.line', 'revol.bal', 'revol.util',\n",
    "       'inq.last.6mths', 'delinq.2yrs', 'pub.rec', 'purpose_credit_card', 'purpose_debt_consolidation',\n",
    "       'purpose_educational', 'purpose_home_improvement',\n",
    "       'purpose_major_purchase', 'purpose_small_business']]\n",
    "y1 = new_data['not.fully.paid']\n",
    "X2 = clean_df[['credit.policy', 'int.rate', 'installment', 'log.annual.inc', 'dti',\n",
    "       'fico', 'days.with.cr.line', 'revol.bal', 'revol.util',\n",
    "       'inq.last.6mths', 'delinq.2yrs', 'pub.rec', 'purpose_credit_card', 'purpose_debt_consolidation',\n",
    "       'purpose_educational', 'purpose_home_improvement',\n",
    "       'purpose_major_purchase', 'purpose_small_business']]\n",
    "y2 = clean_df['not.fully.paid']"
   ]
  },
  {
   "cell_type": "code",
   "execution_count": 91,
   "metadata": {},
   "outputs": [],
   "source": [
    "X1_train, X1_test, y1_train, y1_test = train_test_split(X1, y1, test_size=0.3, random_state=101)\n",
    "X2_train, X2_test, y2_train, y2_test = train_test_split(X2, y2, test_size=0.3, random_state=101)"
   ]
  },
  {
   "cell_type": "markdown",
   "metadata": {},
   "source": [
    "## Training a Decision Tree Model\n",
    "\n",
    "Let's start by training a single decision tree first!\n",
    "\n",
    "** Import DecisionTreeClassifier**"
   ]
  },
  {
   "cell_type": "code",
   "execution_count": 92,
   "metadata": {},
   "outputs": [],
   "source": [
    "from sklearn.tree import DecisionTreeClassifier"
   ]
  },
  {
   "cell_type": "markdown",
   "metadata": {},
   "source": [
    "**Create an instance of DecisionTreeClassifier() called dtree and fit it to the training data.**"
   ]
  },
  {
   "cell_type": "code",
   "execution_count": 175,
   "metadata": {},
   "outputs": [],
   "source": [
    "dtree1 = DecisionTreeClassifier(criterion='entropy')\n",
    "dtree2 = DecisionTreeClassifier(criterion='entropy')"
   ]
  },
  {
   "cell_type": "code",
   "execution_count": 176,
   "metadata": {},
   "outputs": [
    {
     "data": {
      "text/plain": [
       "DecisionTreeClassifier(class_weight=None, criterion='entropy', max_depth=None,\n",
       "            max_features=None, max_leaf_nodes=None,\n",
       "            min_impurity_decrease=0.0, min_impurity_split=None,\n",
       "            min_samples_leaf=1, min_samples_split=2,\n",
       "            min_weight_fraction_leaf=0.0, presort=False, random_state=None,\n",
       "            splitter='best')"
      ]
     },
     "execution_count": 176,
     "metadata": {},
     "output_type": "execute_result"
    }
   ],
   "source": [
    "dtree1.fit(X1_train, y1_train)\n",
    "dtree2.fit(X2_train, y2_train)"
   ]
  },
  {
   "cell_type": "markdown",
   "metadata": {},
   "source": [
    "## Predictions and Evaluation of Decision Tree\n",
    "**Create predictions from the test set and create a classification report and a confusion matrix.**"
   ]
  },
  {
   "cell_type": "code",
   "execution_count": 177,
   "metadata": {},
   "outputs": [],
   "source": [
    "predictions1 = dtree1.predict(X1_test)"
   ]
  },
  {
   "cell_type": "code",
   "execution_count": 178,
   "metadata": {},
   "outputs": [],
   "source": [
    "predictions2 = dtree1.predict(X2_test)"
   ]
  },
  {
   "cell_type": "code",
   "execution_count": 179,
   "metadata": {},
   "outputs": [],
   "source": [
    "from sklearn.metrics import classification_report, confusion_matrix"
   ]
  },
  {
   "cell_type": "code",
   "execution_count": 180,
   "metadata": {},
   "outputs": [
    {
     "name": "stdout",
     "output_type": "stream",
     "text": [
      "             precision    recall  f1-score   support\n",
      "\n",
      "          0       0.85      0.84      0.84      2431\n",
      "          1       0.18      0.21      0.19       443\n",
      "\n",
      "avg / total       0.75      0.74      0.74      2874\n",
      "\n",
      "\n",
      "             precision    recall  f1-score   support\n",
      "\n",
      "          0       0.88      0.78      0.83      2431\n",
      "          1       0.25      0.40      0.31       443\n",
      "\n",
      "avg / total       0.78      0.72      0.75      2874\n",
      "\n"
     ]
    }
   ],
   "source": [
    "print(classification_report(y1_test, predictions1))\n",
    "print()\n",
    "print(classification_report(y2_test, predictions2))"
   ]
  },
  {
   "cell_type": "code",
   "execution_count": 23,
   "metadata": {},
   "outputs": [
    {
     "name": "stdout",
     "output_type": "stream",
     "text": [
      "             precision    recall  f1-score   support\n",
      "\n",
      "          0       0.85      0.81      0.83      2431\n",
      "          1       0.16      0.20      0.18       443\n",
      "\n",
      "avg / total       0.74      0.72      0.73      2874\n",
      "\n"
     ]
    }
   ],
   "source": []
  },
  {
   "cell_type": "code",
   "execution_count": 102,
   "metadata": {},
   "outputs": [
    {
     "name": "stdout",
     "output_type": "stream",
     "text": [
      "[[1988  443]\n",
      " [ 335  108]]\n",
      "\n",
      "[[1890  541]\n",
      " [ 264  179]]\n"
     ]
    }
   ],
   "source": [
    "print(confusion_matrix(y1_test, predictions1))\n",
    "print()\n",
    "print(confusion_matrix(y2_test, predictions2))"
   ]
  },
  {
   "cell_type": "code",
   "execution_count": 24,
   "metadata": {},
   "outputs": [
    {
     "name": "stdout",
     "output_type": "stream",
     "text": [
      "[[1980  451]\n",
      " [ 355   88]]\n"
     ]
    }
   ],
   "source": []
  },
  {
   "cell_type": "markdown",
   "metadata": {},
   "source": [
    "## Training the Random Forest model\n",
    "\n",
    "Now its time to train our model!\n",
    "\n",
    "**Create an instance of the RandomForestClassifier class and fit it to our training data from the previous step.**"
   ]
  },
  {
   "cell_type": "code",
   "execution_count": 171,
   "metadata": {},
   "outputs": [],
   "source": [
    "from sklearn.ensemble import RandomForestClassifier\n",
    "rf1 = RandomForestClassifier(n_estimators=50, criterion='entropy')\n",
    "rf2 = RandomForestClassifier(n_estimators=50, criterion='entropy')"
   ]
  },
  {
   "cell_type": "code",
   "execution_count": 172,
   "metadata": {},
   "outputs": [],
   "source": [
    "rf1.fit(X1_train, y1_train)\n",
    "predictions1 = rf1.predict(X1_test)\n",
    "rf2.fit(X2_train, y2_train)\n",
    "predictions2 = rf2.predict(X2_test)"
   ]
  },
  {
   "cell_type": "code",
   "execution_count": 27,
   "metadata": {},
   "outputs": [
    {
     "data": {
      "text/plain": [
       "RandomForestClassifier(bootstrap=True, class_weight=None, criterion='gini',\n",
       "            max_depth=None, max_features='auto', max_leaf_nodes=None,\n",
       "            min_samples_leaf=1, min_samples_split=2,\n",
       "            min_weight_fraction_leaf=0.0, n_estimators=600, n_jobs=1,\n",
       "            oob_score=False, random_state=None, verbose=0,\n",
       "            warm_start=False)"
      ]
     },
     "execution_count": 27,
     "metadata": {},
     "output_type": "execute_result"
    }
   ],
   "source": []
  },
  {
   "cell_type": "markdown",
   "metadata": {},
   "source": [
    "## Predictions and Evaluation\n",
    "\n",
    "Let's predict off the y_test values and evaluate our model.\n",
    "\n",
    "** Predict the class of not.fully.paid for the X_test data.**"
   ]
  },
  {
   "cell_type": "code",
   "execution_count": 28,
   "metadata": {},
   "outputs": [],
   "source": []
  },
  {
   "cell_type": "markdown",
   "metadata": {},
   "source": [
    "**Now create a classification report from the results. Do you get anything strange or some sort of warning?**"
   ]
  },
  {
   "cell_type": "code",
   "execution_count": 173,
   "metadata": {},
   "outputs": [
    {
     "name": "stdout",
     "output_type": "stream",
     "text": [
      "             precision    recall  f1-score   support\n",
      "\n",
      "          0       0.85      1.00      0.92      2431\n",
      "          1       0.52      0.02      0.05       443\n",
      "\n",
      "avg / total       0.80      0.85      0.78      2874\n",
      "\n",
      "\n",
      "             precision    recall  f1-score   support\n",
      "\n",
      "          0       0.85      1.00      0.92      2431\n",
      "          1       0.52      0.03      0.05       443\n",
      "\n",
      "avg / total       0.80      0.85      0.78      2874\n",
      "\n"
     ]
    }
   ],
   "source": [
    "print(classification_report(y1_test, predictions1))\n",
    "print()\n",
    "print(classification_report(y2_test, predictions2))"
   ]
  },
  {
   "cell_type": "code",
   "execution_count": 30,
   "metadata": {},
   "outputs": [
    {
     "name": "stdout",
     "output_type": "stream",
     "text": [
      "             precision    recall  f1-score   support\n",
      "\n",
      "          0       0.85      1.00      0.92      2431\n",
      "          1       0.56      0.01      0.02       443\n",
      "\n",
      "avg / total       0.80      0.85      0.78      2874\n",
      "\n"
     ]
    }
   ],
   "source": []
  },
  {
   "cell_type": "code",
   "execution_count": 174,
   "metadata": {},
   "outputs": [
    {
     "name": "stdout",
     "output_type": "stream",
     "text": [
      "[[2421   10]\n",
      " [ 432   11]]\n",
      "\n",
      "[[2420   11]\n",
      " [ 431   12]]\n"
     ]
    }
   ],
   "source": [
    "print(confusion_matrix(y1_test, predictions1))\n",
    "print()\n",
    "print(confusion_matrix(y2_test, predictions2))"
   ]
  },
  {
   "cell_type": "markdown",
   "metadata": {},
   "source": [
    "**Show the Confusion Matrix for the predictions.**"
   ]
  },
  {
   "cell_type": "code",
   "execution_count": 31,
   "metadata": {},
   "outputs": [
    {
     "name": "stdout",
     "output_type": "stream",
     "text": [
      "[[2427    4]\n",
      " [ 438    5]]\n"
     ]
    }
   ],
   "source": []
  },
  {
   "cell_type": "markdown",
   "metadata": {
    "collapsed": true
   },
   "source": [
    "**What performed better the random forest or the decision tree?**"
   ]
  },
  {
   "cell_type": "code",
   "execution_count": 118,
   "metadata": {},
   "outputs": [],
   "source": [
    "from sklearn.model_selection import GridSearchCV"
   ]
  },
  {
   "cell_type": "code",
   "execution_count": 126,
   "metadata": {},
   "outputs": [
    {
     "data": {
      "text/plain": [
       "{'n_estimators': array([  1,   2,   3,   4,   5,   6,   7,   8,   9,  10,  11,  12,  13,\n",
       "         14,  15,  16,  17,  18,  19,  20,  21,  22,  23,  24,  25,  26,\n",
       "         27,  28,  29,  30,  31,  32,  33,  34,  35,  36,  37,  38,  39,\n",
       "         40,  41,  42,  43,  44,  45,  46,  47,  48,  49,  50,  51,  52,\n",
       "         53,  54,  55,  56,  57,  58,  59,  60,  61,  62,  63,  64,  65,\n",
       "         66,  67,  68,  69,  70,  71,  72,  73,  74,  75,  76,  77,  78,\n",
       "         79,  80,  81,  82,  83,  84,  85,  86,  87,  88,  89,  90,  91,\n",
       "         92,  93,  94,  95,  96,  97,  98,  99, 100, 101, 102, 103, 104,\n",
       "        105, 106, 107, 108, 109, 110, 111, 112, 113, 114, 115, 116, 117,\n",
       "        118, 119, 120, 121, 122, 123, 124, 125, 126, 127, 128, 129, 130,\n",
       "        131, 132, 133, 134, 135, 136, 137, 138, 139, 140, 141, 142, 143,\n",
       "        144, 145, 146, 147, 148, 149, 150, 151, 152, 153, 154, 155, 156,\n",
       "        157, 158, 159, 160, 161, 162, 163, 164, 165, 166, 167, 168, 169,\n",
       "        170, 171, 172, 173, 174, 175, 176, 177, 178, 179, 180, 181, 182,\n",
       "        183, 184, 185, 186, 187, 188, 189, 190, 191, 192, 193, 194, 195,\n",
       "        196, 197, 198, 199, 200])}"
      ]
     },
     "execution_count": 126,
     "metadata": {},
     "output_type": "execute_result"
    }
   ],
   "source": [
    "param_grid = {'n_estimators': np.arange(1,201)}\n",
    "param_grid"
   ]
  },
  {
   "cell_type": "code",
   "execution_count": 128,
   "metadata": {},
   "outputs": [],
   "source": [
    "grid = GridSearchCV(RandomForestClassifier(), param_grid, verbose=3)"
   ]
  },
  {
   "cell_type": "code",
   "execution_count": 129,
   "metadata": {},
   "outputs": [
    {
     "name": "stdout",
     "output_type": "stream",
     "text": [
      "Fitting 3 folds for each of 200 candidates, totalling 600 fits\n",
      "[CV] n_estimators=1 ..................................................\n",
      "[CV] ......... n_estimators=1, score=0.7397137745974955, total=   0.0s\n",
      "[CV] n_estimators=1 ..................................................\n",
      "[CV] ......... n_estimators=1, score=0.7493285586392122, total=   0.0s\n",
      "[CV] n_estimators=1 ..................................................\n",
      "[CV] ......... n_estimators=1, score=0.7211280214861235, total=   0.0s\n",
      "[CV] n_estimators=2 ..................................................\n",
      "[CV] ......... n_estimators=2, score=0.8135062611806798, total=   0.0s\n",
      "[CV] n_estimators=2 ..................................................\n",
      "[CV] ......... n_estimators=2, score=0.8164726947179947, total=   0.0s\n",
      "[CV] n_estimators=2 ..................................................\n",
      "[CV] ......... n_estimators=2, score=0.8227394807520143, total=   0.0s\n",
      "[CV] n_estimators=3 ..................................................\n",
      "[CV] .......... n_estimators=3, score=0.789355992844365, total=   0.0s\n",
      "[CV] n_estimators=3 ..................................................\n"
     ]
    },
    {
     "name": "stderr",
     "output_type": "stream",
     "text": [
      "[Parallel(n_jobs=1)]: Done   1 out of   1 | elapsed:    0.4s remaining:    0.0s\n",
      "[Parallel(n_jobs=1)]: Done   2 out of   2 | elapsed:    0.4s remaining:    0.0s\n"
     ]
    },
    {
     "name": "stdout",
     "output_type": "stream",
     "text": [
      "[CV] ......... n_estimators=3, score=0.7820053715308863, total=   0.0s\n",
      "[CV] n_estimators=3 ..................................................\n",
      "[CV] ......... n_estimators=3, score=0.7730528200537153, total=   0.0s\n",
      "[CV] n_estimators=4 ..................................................\n",
      "[CV] ......... n_estimators=4, score=0.8144007155635062, total=   0.0s\n",
      "[CV] n_estimators=4 ..................................................\n",
      "[CV] ......... n_estimators=4, score=0.8209489704565801, total=   0.0s\n",
      "[CV] n_estimators=4 ..................................................\n",
      "[CV] ......... n_estimators=4, score=0.8209489704565801, total=   0.0s\n",
      "[CV] n_estimators=5 ..................................................\n",
      "[CV] ......... n_estimators=5, score=0.8032200357781754, total=   0.0s\n",
      "[CV] n_estimators=5 ..................................................\n",
      "[CV] ......... n_estimators=5, score=0.8124440465532676, total=   0.0s\n",
      "[CV] n_estimators=5 ..................................................\n",
      "[CV] ......... n_estimators=5, score=0.8021486123545211, total=   0.0s\n",
      "[CV] n_estimators=6 ..................................................\n",
      "[CV] ......... n_estimators=6, score=0.8255813953488372, total=   0.0s\n",
      "[CV] n_estimators=6 ..................................................\n",
      "[CV] ......... n_estimators=6, score=0.8218442256042973, total=   0.0s\n",
      "[CV] n_estimators=6 ..................................................\n",
      "[CV] ......... n_estimators=6, score=0.8182632050134289, total=   0.0s\n",
      "[CV] n_estimators=7 ..................................................\n",
      "[CV] ......... n_estimators=7, score=0.8117173524150268, total=   0.0s\n",
      "[CV] n_estimators=7 ..................................................\n",
      "[CV] .......... n_estimators=7, score=0.824977618621307, total=   0.0s\n",
      "[CV] n_estimators=7 ..................................................\n",
      "[CV] ......... n_estimators=7, score=0.8164726947179947, total=   0.0s\n",
      "[CV] n_estimators=8 ..................................................\n",
      "[CV] ......... n_estimators=8, score=0.8197674418604651, total=   0.0s\n",
      "[CV] n_estimators=8 ..................................................\n",
      "[CV] ......... n_estimators=8, score=0.8303491495076096, total=   0.0s\n",
      "[CV] n_estimators=8 ..................................................\n",
      "[CV] ......... n_estimators=8, score=0.8267681289167412, total=   0.0s\n",
      "[CV] n_estimators=9 ..................................................\n",
      "[CV] .......... n_estimators=9, score=0.825134168157424, total=   0.0s\n",
      "[CV] n_estimators=9 ..................................................\n",
      "[CV] .......... n_estimators=9, score=0.824977618621307, total=   0.0s\n",
      "[CV] n_estimators=9 ..................................................\n",
      "[CV] ......... n_estimators=9, score=0.8178155774395702, total=   0.0s\n",
      "[CV] n_estimators=10 .................................................\n",
      "[CV] ........ n_estimators=10, score=0.8237924865831843, total=   0.0s\n",
      "[CV] n_estimators=10 .................................................\n",
      "[CV] ........ n_estimators=10, score=0.8316920322291853, total=   0.0s\n",
      "[CV] n_estimators=10 .................................................\n",
      "[CV] ........ n_estimators=10, score=0.8290062667860341, total=   0.0s\n",
      "[CV] n_estimators=11 .................................................\n",
      "[CV] ........ n_estimators=11, score=0.8260286225402504, total=   0.0s\n",
      "[CV] n_estimators=11 .................................................\n",
      "[CV] ........ n_estimators=11, score=0.8321396598030438, total=   0.0s\n",
      "[CV] n_estimators=11 .................................................\n",
      "[CV] ........ n_estimators=11, score=0.8213965980304386, total=   0.0s\n",
      "[CV] n_estimators=12 .................................................\n",
      "[CV] ........ n_estimators=12, score=0.8242397137745975, total=   0.0s\n",
      "[CV] n_estimators=12 .................................................\n",
      "[CV] ........ n_estimators=12, score=0.8285586392121754, total=   0.0s\n",
      "[CV] n_estimators=12 .................................................\n",
      "[CV] ........ n_estimators=12, score=0.8312444046553268, total=   0.0s\n",
      "[CV] n_estimators=13 .................................................\n",
      "[CV] ........ n_estimators=13, score=0.8264758497316637, total=   0.0s\n",
      "[CV] n_estimators=13 .................................................\n",
      "[CV] ........ n_estimators=13, score=0.8316920322291853, total=   0.0s\n",
      "[CV] n_estimators=13 .................................................\n",
      "[CV] ........ n_estimators=13, score=0.8299015219337511, total=   0.1s\n",
      "[CV] n_estimators=14 .................................................\n",
      "[CV] ........ n_estimators=14, score=0.8340787119856887, total=   0.1s\n",
      "[CV] n_estimators=14 .................................................\n",
      "[CV] ........ n_estimators=14, score=0.8334825425246195, total=   0.0s\n",
      "[CV] n_estimators=14 .................................................\n",
      "[CV] ........ n_estimators=14, score=0.8263205013428827, total=   0.0s\n",
      "[CV] n_estimators=15 .................................................\n",
      "[CV] ........ n_estimators=15, score=0.8264758497316637, total=   0.0s\n",
      "[CV] n_estimators=15 .................................................\n",
      "[CV] ........ n_estimators=15, score=0.8307967770814683, total=   0.0s\n",
      "[CV] n_estimators=15 .................................................\n",
      "[CV] ........ n_estimators=15, score=0.8281110116383169, total=   0.0s\n",
      "[CV] n_estimators=16 .................................................\n",
      "[CV] ........ n_estimators=16, score=0.8246869409660107, total=   0.0s\n",
      "[CV] n_estimators=16 .................................................\n",
      "[CV] ......... n_estimators=16, score=0.833930170098478, total=   0.0s\n",
      "[CV] n_estimators=16 .................................................\n",
      "[CV] ........ n_estimators=16, score=0.8299015219337511, total=   0.0s\n",
      "[CV] n_estimators=17 .................................................\n",
      "[CV] ......... n_estimators=17, score=0.825134168157424, total=   0.0s\n",
      "[CV] n_estimators=17 .................................................\n",
      "[CV] ........ n_estimators=17, score=0.8312444046553268, total=   0.0s\n",
      "[CV] n_estimators=17 .................................................\n",
      "[CV] ........ n_estimators=17, score=0.8263205013428827, total=   0.1s\n",
      "[CV] n_estimators=18 .................................................\n",
      "[CV] ........ n_estimators=18, score=0.8287119856887298, total=   0.1s\n",
      "[CV] n_estimators=18 .................................................\n",
      "[CV] ........ n_estimators=18, score=0.8352730528200537, total=   0.1s\n",
      "[CV] n_estimators=18 .................................................\n",
      "[CV] ........ n_estimators=18, score=0.8276633840644584, total=   0.1s\n",
      "[CV] n_estimators=19 .................................................\n",
      "[CV] ........ n_estimators=19, score=0.8291592128801432, total=   0.1s\n",
      "[CV] n_estimators=19 .................................................\n",
      "[CV] ........ n_estimators=19, score=0.8334825425246195, total=   0.1s\n",
      "[CV] n_estimators=19 .................................................\n",
      "[CV] ........ n_estimators=19, score=0.8258728737690242, total=   0.1s\n",
      "[CV] n_estimators=20 .................................................\n",
      "[CV] ........ n_estimators=20, score=0.8305008944543828, total=   0.1s\n",
      "[CV] n_estimators=20 .................................................\n",
      "[CV] ........ n_estimators=20, score=0.8334825425246195, total=   0.1s\n",
      "[CV] n_estimators=20 .................................................\n",
      "[CV] ........ n_estimators=20, score=0.8299015219337511, total=   0.1s\n",
      "[CV] n_estimators=21 .................................................\n",
      "[CV] ........ n_estimators=21, score=0.8313953488372093, total=   0.1s\n",
      "[CV] n_estimators=21 .................................................\n",
      "[CV] ........ n_estimators=21, score=0.8366159355416294, total=   0.1s\n",
      "[CV] n_estimators=21 .................................................\n",
      "[CV] ........ n_estimators=21, score=0.8312444046553268, total=   0.1s\n",
      "[CV] n_estimators=22 .................................................\n",
      "[CV] ........ n_estimators=22, score=0.8287119856887298, total=   0.1s\n",
      "[CV] n_estimators=22 .................................................\n",
      "[CV] ........ n_estimators=22, score=0.8379588182632051, total=   0.1s\n",
      "[CV] n_estimators=22 .................................................\n"
     ]
    },
    {
     "name": "stdout",
     "output_type": "stream",
     "text": [
      "[CV] ........ n_estimators=22, score=0.8272157564905999, total=   0.1s\n",
      "[CV] n_estimators=23 .................................................\n",
      "[CV] ........ n_estimators=23, score=0.8313953488372093, total=   0.1s\n",
      "[CV] n_estimators=23 .................................................\n",
      "[CV] ........ n_estimators=23, score=0.8343777976723367, total=   0.1s\n",
      "[CV] n_estimators=23 .................................................\n",
      "[CV] ........ n_estimators=23, score=0.8276633840644584, total=   0.1s\n",
      "[CV] n_estimators=24 .................................................\n",
      "[CV] ........ n_estimators=24, score=0.8313953488372093, total=   0.1s\n",
      "[CV] n_estimators=24 .................................................\n",
      "[CV] ........ n_estimators=24, score=0.8366159355416294, total=   0.1s\n",
      "[CV] n_estimators=24 .................................................\n",
      "[CV] ........ n_estimators=24, score=0.8285586392121754, total=   0.1s\n",
      "[CV] n_estimators=25 .................................................\n",
      "[CV] ........ n_estimators=25, score=0.8291592128801432, total=   0.1s\n",
      "[CV] n_estimators=25 .................................................\n",
      "[CV] ........ n_estimators=25, score=0.8384064458370636, total=   0.1s\n",
      "[CV] n_estimators=25 .................................................\n",
      "[CV] ........ n_estimators=25, score=0.8267681289167412, total=   0.1s\n",
      "[CV] n_estimators=26 .................................................\n",
      "[CV] ........ n_estimators=26, score=0.8322898032200358, total=   0.1s\n",
      "[CV] n_estimators=26 .................................................\n",
      "[CV] ........ n_estimators=26, score=0.8361683079677709, total=   0.1s\n",
      "[CV] n_estimators=26 .................................................\n",
      "[CV] ........ n_estimators=26, score=0.8334825425246195, total=   0.1s\n",
      "[CV] n_estimators=27 .................................................\n",
      "[CV] ........ n_estimators=27, score=0.8313953488372093, total=   0.1s\n",
      "[CV] n_estimators=27 .................................................\n",
      "[CV] ........ n_estimators=27, score=0.8348254252461952, total=   0.1s\n",
      "[CV] n_estimators=27 .................................................\n",
      "[CV] ........ n_estimators=27, score=0.8267681289167412, total=   0.1s\n",
      "[CV] n_estimators=28 .................................................\n",
      "[CV] ........ n_estimators=28, score=0.8300536672629696, total=   0.1s\n",
      "[CV] n_estimators=28 .................................................\n",
      "[CV] ........ n_estimators=28, score=0.8370635631154879, total=   0.1s\n",
      "[CV] n_estimators=28 .................................................\n",
      "[CV] ........ n_estimators=28, score=0.8299015219337511, total=   0.1s\n",
      "[CV] n_estimators=29 .................................................\n",
      "[CV] ........ n_estimators=29, score=0.8331842576028623, total=   0.1s\n",
      "[CV] n_estimators=29 .................................................\n",
      "[CV] ........ n_estimators=29, score=0.8370635631154879, total=   0.2s\n",
      "[CV] n_estimators=29 .................................................\n",
      "[CV] ........ n_estimators=29, score=0.8321396598030438, total=   0.1s\n",
      "[CV] n_estimators=30 .................................................\n",
      "[CV] ........ n_estimators=30, score=0.8318425760286225, total=   0.2s\n",
      "[CV] n_estimators=30 .................................................\n",
      "[CV] ........ n_estimators=30, score=0.8370635631154879, total=   0.2s\n",
      "[CV] n_estimators=30 .................................................\n",
      "[CV] ........ n_estimators=30, score=0.8281110116383169, total=   0.2s\n",
      "[CV] n_estimators=31 .................................................\n",
      "[CV] ........ n_estimators=31, score=0.8336314847942755, total=   0.2s\n",
      "[CV] n_estimators=31 .................................................\n",
      "[CV] ........ n_estimators=31, score=0.8361683079677709, total=   0.2s\n",
      "[CV] n_estimators=31 .................................................\n",
      "[CV] ......... n_estimators=31, score=0.833034914950761, total=   0.2s\n",
      "[CV] n_estimators=32 .................................................\n",
      "[CV] ........ n_estimators=32, score=0.8331842576028623, total=   0.2s\n",
      "[CV] n_estimators=32 .................................................\n",
      "[CV] ........ n_estimators=32, score=0.8375111906893464, total=   0.2s\n",
      "[CV] n_estimators=32 .................................................\n",
      "[CV] ........ n_estimators=32, score=0.8285586392121754, total=   0.2s\n",
      "[CV] n_estimators=33 .................................................\n",
      "[CV] ........ n_estimators=33, score=0.8363148479427549, total=   0.2s\n",
      "[CV] n_estimators=33 .................................................\n",
      "[CV] ........ n_estimators=33, score=0.8348254252461952, total=   0.2s\n",
      "[CV] n_estimators=33 .................................................\n",
      "[CV] ........ n_estimators=33, score=0.8272157564905999, total=   0.2s\n",
      "[CV] n_estimators=34 .................................................\n",
      "[CV] ........ n_estimators=34, score=0.8358676207513417, total=   0.2s\n",
      "[CV] n_estimators=34 .................................................\n",
      "[CV] ........ n_estimators=34, score=0.8370635631154879, total=   0.2s\n",
      "[CV] n_estimators=34 .................................................\n",
      "[CV] ........ n_estimators=34, score=0.8299015219337511, total=   0.2s\n",
      "[CV] n_estimators=35 .................................................\n",
      "[CV] ........ n_estimators=35, score=0.8349731663685152, total=   0.2s\n",
      "[CV] n_estimators=35 .................................................\n",
      "[CV] ........ n_estimators=35, score=0.8352730528200537, total=   0.2s\n",
      "[CV] n_estimators=35 .................................................\n",
      "[CV] ......... n_estimators=35, score=0.833034914950761, total=   0.2s\n",
      "[CV] n_estimators=36 .................................................\n",
      "[CV] ........ n_estimators=36, score=0.8354203935599285, total=   0.2s\n",
      "[CV] n_estimators=36 .................................................\n",
      "[CV] ........ n_estimators=36, score=0.8361683079677709, total=   0.2s\n",
      "[CV] n_estimators=36 .................................................\n",
      "[CV] ........ n_estimators=36, score=0.8312444046553268, total=   0.2s\n",
      "[CV] n_estimators=37 .................................................\n",
      "[CV] ........ n_estimators=37, score=0.8336314847942755, total=   0.2s\n",
      "[CV] n_estimators=37 .................................................\n",
      "[CV] ........ n_estimators=37, score=0.8397493285586393, total=   0.2s\n",
      "[CV] n_estimators=37 .................................................\n",
      "[CV] ........ n_estimators=37, score=0.8290062667860341, total=   0.2s\n",
      "[CV] n_estimators=38 .................................................\n",
      "[CV] ........ n_estimators=38, score=0.8340787119856887, total=   0.2s\n",
      "[CV] n_estimators=38 .................................................\n",
      "[CV] ........ n_estimators=38, score=0.8343777976723367, total=   0.2s\n",
      "[CV] n_estimators=38 .................................................\n",
      "[CV] ........ n_estimators=38, score=0.8316920322291853, total=   0.2s\n",
      "[CV] n_estimators=39 .................................................\n",
      "[CV] ........ n_estimators=39, score=0.8340787119856887, total=   0.2s\n",
      "[CV] n_estimators=39 .................................................\n",
      "[CV] ........ n_estimators=39, score=0.8366159355416294, total=   0.2s\n",
      "[CV] n_estimators=39 .................................................\n",
      "[CV] ........ n_estimators=39, score=0.8312444046553268, total=   0.2s\n",
      "[CV] n_estimators=40 .................................................\n",
      "[CV] ........ n_estimators=40, score=0.8349731663685152, total=   0.2s\n",
      "[CV] n_estimators=40 .................................................\n",
      "[CV] ........ n_estimators=40, score=0.8384064458370636, total=   0.2s\n",
      "[CV] n_estimators=40 .................................................\n",
      "[CV] ........ n_estimators=40, score=0.8357206803939122, total=   0.3s\n",
      "[CV] n_estimators=41 .................................................\n",
      "[CV] ........ n_estimators=41, score=0.8322898032200358, total=   0.2s\n",
      "[CV] n_estimators=41 .................................................\n",
      "[CV] ........ n_estimators=41, score=0.8388540734109221, total=   0.3s\n",
      "[CV] n_estimators=41 .................................................\n",
      "[CV] ........ n_estimators=41, score=0.8316920322291853, total=   0.3s\n",
      "[CV] n_estimators=42 .................................................\n"
     ]
    },
    {
     "name": "stdout",
     "output_type": "stream",
     "text": [
      "[CV] ........ n_estimators=42, score=0.8336314847942755, total=   0.3s\n",
      "[CV] n_estimators=42 .................................................\n",
      "[CV] ........ n_estimators=42, score=0.8361683079677709, total=   0.3s\n",
      "[CV] n_estimators=42 .................................................\n",
      "[CV] ........ n_estimators=42, score=0.8276633840644584, total=   0.3s\n",
      "[CV] n_estimators=43 .................................................\n",
      "[CV] ........ n_estimators=43, score=0.8331842576028623, total=   0.3s\n",
      "[CV] n_estimators=43 .................................................\n",
      "[CV] ........ n_estimators=43, score=0.8370635631154879, total=   0.3s\n",
      "[CV] n_estimators=43 .................................................\n",
      "[CV] ........ n_estimators=43, score=0.8352730528200537, total=   0.3s\n",
      "[CV] n_estimators=44 .................................................\n",
      "[CV] ........ n_estimators=44, score=0.8349731663685152, total=   0.3s\n",
      "[CV] n_estimators=44 .................................................\n",
      "[CV] ........ n_estimators=44, score=0.8357206803939122, total=   0.3s\n",
      "[CV] n_estimators=44 .................................................\n",
      "[CV] ........ n_estimators=44, score=0.8312444046553268, total=   0.3s\n",
      "[CV] n_estimators=45 .................................................\n",
      "[CV] ........ n_estimators=45, score=0.8287119856887298, total=   0.3s\n",
      "[CV] n_estimators=45 .................................................\n",
      "[CV] ........ n_estimators=45, score=0.8343777976723367, total=   0.3s\n",
      "[CV] n_estimators=45 .................................................\n",
      "[CV] ........ n_estimators=45, score=0.8281110116383169, total=   0.3s\n",
      "[CV] n_estimators=46 .................................................\n",
      "[CV] ........ n_estimators=46, score=0.8354203935599285, total=   0.3s\n",
      "[CV] n_estimators=46 .................................................\n",
      "[CV] ........ n_estimators=46, score=0.8384064458370636, total=   0.3s\n",
      "[CV] n_estimators=46 .................................................\n",
      "[CV] ........ n_estimators=46, score=0.8348254252461952, total=   0.3s\n",
      "[CV] n_estimators=47 .................................................\n",
      "[CV] ........ n_estimators=47, score=0.8340787119856887, total=   0.3s\n",
      "[CV] n_estimators=47 .................................................\n",
      "[CV] ........ n_estimators=47, score=0.8397493285586393, total=   0.3s\n",
      "[CV] n_estimators=47 .................................................\n",
      "[CV] ........ n_estimators=47, score=0.8334825425246195, total=   0.3s\n",
      "[CV] n_estimators=48 .................................................\n",
      "[CV] ........ n_estimators=48, score=0.8345259391771019, total=   0.3s\n",
      "[CV] n_estimators=48 .................................................\n",
      "[CV] ........ n_estimators=48, score=0.8366159355416294, total=   0.3s\n",
      "[CV] n_estimators=48 .................................................\n",
      "[CV] ........ n_estimators=48, score=0.8299015219337511, total=   0.3s\n",
      "[CV] n_estimators=49 .................................................\n",
      "[CV] ........ n_estimators=49, score=0.8345259391771019, total=   0.3s\n",
      "[CV] n_estimators=49 .................................................\n",
      "[CV] ........ n_estimators=49, score=0.8370635631154879, total=   0.3s\n",
      "[CV] n_estimators=49 .................................................\n",
      "[CV] ........ n_estimators=49, score=0.8285586392121754, total=   0.3s\n",
      "[CV] n_estimators=50 .................................................\n",
      "[CV] ........ n_estimators=50, score=0.8340787119856887, total=   0.3s\n",
      "[CV] n_estimators=50 .................................................\n",
      "[CV] ........ n_estimators=50, score=0.8352730528200537, total=   0.3s\n",
      "[CV] n_estimators=50 .................................................\n",
      "[CV] ........ n_estimators=50, score=0.8334825425246195, total=   0.3s\n",
      "[CV] n_estimators=51 .................................................\n",
      "[CV] ........ n_estimators=51, score=0.8336314847942755, total=   0.4s\n",
      "[CV] n_estimators=51 .................................................\n",
      "[CV] ........ n_estimators=51, score=0.8357206803939122, total=   0.4s\n",
      "[CV] n_estimators=51 .................................................\n",
      "[CV] ........ n_estimators=51, score=0.8325872873769025, total=   0.4s\n",
      "[CV] n_estimators=52 .................................................\n",
      "[CV] ........ n_estimators=52, score=0.8340787119856887, total=   0.3s\n",
      "[CV] n_estimators=52 .................................................\n",
      "[CV] ........ n_estimators=52, score=0.8352730528200537, total=   0.4s\n",
      "[CV] n_estimators=52 .................................................\n",
      "[CV] ........ n_estimators=52, score=0.8312444046553268, total=   0.4s\n",
      "[CV] n_estimators=53 .................................................\n",
      "[CV] ........ n_estimators=53, score=0.8349731663685152, total=   0.3s\n",
      "[CV] n_estimators=53 .................................................\n",
      "[CV] ........ n_estimators=53, score=0.8375111906893464, total=   0.4s\n",
      "[CV] n_estimators=53 .................................................\n",
      "[CV] ........ n_estimators=53, score=0.8316920322291853, total=   0.4s\n",
      "[CV] n_estimators=54 .................................................\n",
      "[CV] ........ n_estimators=54, score=0.8354203935599285, total=   0.4s\n",
      "[CV] n_estimators=54 .................................................\n",
      "[CV] ........ n_estimators=54, score=0.8379588182632051, total=   0.4s\n",
      "[CV] n_estimators=54 .................................................\n",
      "[CV] ......... n_estimators=54, score=0.833034914950761, total=   0.4s\n",
      "[CV] n_estimators=55 .................................................\n",
      "[CV] ........ n_estimators=55, score=0.8372093023255814, total=   0.4s\n",
      "[CV] n_estimators=55 .................................................\n",
      "[CV] ........ n_estimators=55, score=0.8410922112802148, total=   0.4s\n",
      "[CV] n_estimators=55 .................................................\n",
      "[CV] ........ n_estimators=55, score=0.8334825425246195, total=   0.4s\n",
      "[CV] n_estimators=56 .................................................\n",
      "[CV] ........ n_estimators=56, score=0.8354203935599285, total=   0.5s\n",
      "[CV] n_estimators=56 .................................................\n",
      "[CV] ........ n_estimators=56, score=0.8384064458370636, total=   0.4s\n",
      "[CV] n_estimators=56 .................................................\n",
      "[CV] ........ n_estimators=56, score=0.8299015219337511, total=   0.4s\n",
      "[CV] n_estimators=57 .................................................\n",
      "[CV] ........ n_estimators=57, score=0.8318425760286225, total=   0.4s\n",
      "[CV] n_estimators=57 .................................................\n",
      "[CV] ........ n_estimators=57, score=0.8348254252461952, total=   0.4s\n",
      "[CV] n_estimators=57 .................................................\n",
      "[CV] ........ n_estimators=57, score=0.8379588182632051, total=   0.4s\n",
      "[CV] n_estimators=58 .................................................\n",
      "[CV] ......... n_estimators=58, score=0.832737030411449, total=   0.4s\n",
      "[CV] n_estimators=58 .................................................\n",
      "[CV] ........ n_estimators=58, score=0.8366159355416294, total=   0.4s\n",
      "[CV] n_estimators=58 .................................................\n",
      "[CV] ........ n_estimators=58, score=0.8321396598030438, total=   0.4s\n",
      "[CV] n_estimators=59 .................................................\n",
      "[CV] ......... n_estimators=59, score=0.832737030411449, total=   0.4s\n",
      "[CV] n_estimators=59 .................................................\n",
      "[CV] ........ n_estimators=59, score=0.8370635631154879, total=   0.4s\n",
      "[CV] n_estimators=59 .................................................\n",
      "[CV] ........ n_estimators=59, score=0.8325872873769025, total=   0.4s\n",
      "[CV] n_estimators=60 .................................................\n",
      "[CV] ........ n_estimators=60, score=0.8322898032200358, total=   0.4s\n",
      "[CV] n_estimators=60 .................................................\n",
      "[CV] ........ n_estimators=60, score=0.8388540734109221, total=   0.4s\n",
      "[CV] n_estimators=60 .................................................\n",
      "[CV] ........ n_estimators=60, score=0.8316920322291853, total=   0.4s\n",
      "[CV] n_estimators=61 .................................................\n",
      "[CV] ........ n_estimators=61, score=0.8349731663685152, total=   0.4s\n",
      "[CV] n_estimators=61 .................................................\n"
     ]
    },
    {
     "name": "stdout",
     "output_type": "stream",
     "text": [
      "[CV] ........ n_estimators=61, score=0.8366159355416294, total=   0.5s\n",
      "[CV] n_estimators=61 .................................................\n",
      "[CV] ........ n_estimators=61, score=0.8325872873769025, total=   0.4s\n",
      "[CV] n_estimators=62 .................................................\n",
      "[CV] ........ n_estimators=62, score=0.8345259391771019, total=   0.4s\n",
      "[CV] n_estimators=62 .................................................\n",
      "[CV] ........ n_estimators=62, score=0.8379588182632051, total=   0.5s\n",
      "[CV] n_estimators=62 .................................................\n",
      "[CV] ........ n_estimators=62, score=0.8321396598030438, total=   0.4s\n",
      "[CV] n_estimators=63 .................................................\n",
      "[CV] ........ n_estimators=63, score=0.8322898032200358, total=   0.4s\n",
      "[CV] n_estimators=63 .................................................\n",
      "[CV] ........ n_estimators=63, score=0.8384064458370636, total=   0.4s\n",
      "[CV] n_estimators=63 .................................................\n",
      "[CV] ........ n_estimators=63, score=0.8307967770814683, total=   0.4s\n",
      "[CV] n_estimators=64 .................................................\n",
      "[CV] ........ n_estimators=64, score=0.8336314847942755, total=   0.4s\n",
      "[CV] n_estimators=64 .................................................\n",
      "[CV] ........ n_estimators=64, score=0.8384064458370636, total=   0.4s\n",
      "[CV] n_estimators=64 .................................................\n",
      "[CV] ........ n_estimators=64, score=0.8316920322291853, total=   0.4s\n",
      "[CV] n_estimators=65 .................................................\n",
      "[CV] ........ n_estimators=65, score=0.8331842576028623, total=   0.4s\n",
      "[CV] n_estimators=65 .................................................\n",
      "[CV] ........ n_estimators=65, score=0.8379588182632051, total=   0.5s\n",
      "[CV] n_estimators=65 .................................................\n",
      "[CV] ........ n_estimators=65, score=0.8312444046553268, total=   0.4s\n",
      "[CV] n_estimators=66 .................................................\n",
      "[CV] ........ n_estimators=66, score=0.8381037567084079, total=   0.4s\n",
      "[CV] n_estimators=66 .................................................\n",
      "[CV] ........ n_estimators=66, score=0.8357206803939122, total=   0.4s\n",
      "[CV] n_estimators=66 .................................................\n",
      "[CV] ........ n_estimators=66, score=0.8375111906893464, total=   0.5s\n",
      "[CV] n_estimators=67 .................................................\n",
      "[CV] ........ n_estimators=67, score=0.8331842576028623, total=   0.5s\n",
      "[CV] n_estimators=67 .................................................\n",
      "[CV] ........ n_estimators=67, score=0.8370635631154879, total=   0.4s\n",
      "[CV] n_estimators=67 .................................................\n",
      "[CV] ........ n_estimators=67, score=0.8307967770814683, total=   0.5s\n",
      "[CV] n_estimators=68 .................................................\n",
      "[CV] ........ n_estimators=68, score=0.8313953488372093, total=   0.5s\n",
      "[CV] n_estimators=68 .................................................\n",
      "[CV] ........ n_estimators=68, score=0.8379588182632051, total=   0.5s\n",
      "[CV] n_estimators=68 .................................................\n",
      "[CV] ........ n_estimators=68, score=0.8334825425246195, total=   0.5s\n",
      "[CV] n_estimators=69 .................................................\n",
      "[CV] ........ n_estimators=69, score=0.8340787119856887, total=   0.5s\n",
      "[CV] n_estimators=69 .................................................\n",
      "[CV] ........ n_estimators=69, score=0.8366159355416294, total=   0.5s\n",
      "[CV] n_estimators=69 .................................................\n",
      "[CV] ......... n_estimators=69, score=0.833034914950761, total=   0.5s\n",
      "[CV] n_estimators=70 .................................................\n",
      "[CV] ........ n_estimators=70, score=0.8354203935599285, total=   0.5s\n",
      "[CV] n_estimators=70 .................................................\n",
      "[CV] ........ n_estimators=70, score=0.8388540734109221, total=   0.5s\n",
      "[CV] n_estimators=70 .................................................\n",
      "[CV] ......... n_estimators=70, score=0.833034914950761, total=   0.5s\n",
      "[CV] n_estimators=71 .................................................\n",
      "[CV] ........ n_estimators=71, score=0.8322898032200358, total=   0.5s\n",
      "[CV] n_estimators=71 .................................................\n",
      "[CV] ........ n_estimators=71, score=0.8361683079677709, total=   0.5s\n",
      "[CV] n_estimators=71 .................................................\n",
      "[CV] ........ n_estimators=71, score=0.8294538943598926, total=   0.5s\n",
      "[CV] n_estimators=72 .................................................\n",
      "[CV] ........ n_estimators=72, score=0.8354203935599285, total=   0.5s\n",
      "[CV] n_estimators=72 .................................................\n",
      "[CV] ........ n_estimators=72, score=0.8361683079677709, total=   0.5s\n",
      "[CV] n_estimators=72 .................................................\n",
      "[CV] ........ n_estimators=72, score=0.8307967770814683, total=   0.5s\n",
      "[CV] n_estimators=73 .................................................\n",
      "[CV] ........ n_estimators=73, score=0.8345259391771019, total=   0.6s\n",
      "[CV] n_estimators=73 .................................................\n",
      "[CV] ........ n_estimators=73, score=0.8375111906893464, total=   0.5s\n",
      "[CV] n_estimators=73 .................................................\n",
      "[CV] ........ n_estimators=73, score=0.8321396598030438, total=   0.6s\n",
      "[CV] n_estimators=74 .................................................\n",
      "[CV] ........ n_estimators=74, score=0.8376565295169947, total=   0.5s\n",
      "[CV] n_estimators=74 .................................................\n",
      "[CV] ........ n_estimators=74, score=0.8397493285586393, total=   0.5s\n",
      "[CV] n_estimators=74 .................................................\n",
      "[CV] ........ n_estimators=74, score=0.8348254252461952, total=   0.5s\n",
      "[CV] n_estimators=75 .................................................\n",
      "[CV] ........ n_estimators=75, score=0.8354203935599285, total=   0.5s\n",
      "[CV] n_estimators=75 .................................................\n",
      "[CV] ........ n_estimators=75, score=0.8384064458370636, total=   0.5s\n",
      "[CV] n_estimators=75 .................................................\n",
      "[CV] ........ n_estimators=75, score=0.8325872873769025, total=   0.5s\n",
      "[CV] n_estimators=76 .................................................\n",
      "[CV] ........ n_estimators=76, score=0.8318425760286225, total=   0.5s\n",
      "[CV] n_estimators=76 .................................................\n",
      "[CV] ........ n_estimators=76, score=0.8379588182632051, total=   0.5s\n",
      "[CV] n_estimators=76 .................................................\n",
      "[CV] ........ n_estimators=76, score=0.8343777976723367, total=   0.5s\n",
      "[CV] n_estimators=77 .................................................\n",
      "[CV] ........ n_estimators=77, score=0.8336314847942755, total=   0.5s\n",
      "[CV] n_estimators=77 .................................................\n",
      "[CV] ........ n_estimators=77, score=0.8375111906893464, total=   0.5s\n",
      "[CV] n_estimators=77 .................................................\n",
      "[CV] ........ n_estimators=77, score=0.8321396598030438, total=   0.5s\n",
      "[CV] n_estimators=78 .................................................\n",
      "[CV] ........ n_estimators=78, score=0.8349731663685152, total=   0.5s\n",
      "[CV] n_estimators=78 .................................................\n",
      "[CV] ........ n_estimators=78, score=0.8401969561324978, total=   0.5s\n",
      "[CV] n_estimators=78 .................................................\n",
      "[CV] ........ n_estimators=78, score=0.8290062667860341, total=   0.5s\n",
      "[CV] n_estimators=79 .................................................\n",
      "[CV] ........ n_estimators=79, score=0.8349731663685152, total=   0.5s\n",
      "[CV] n_estimators=79 .................................................\n",
      "[CV] ........ n_estimators=79, score=0.8384064458370636, total=   0.6s\n",
      "[CV] n_estimators=79 .................................................\n",
      "[CV] ........ n_estimators=79, score=0.8343777976723367, total=   0.6s\n",
      "[CV] n_estimators=80 .................................................\n",
      "[CV] ........ n_estimators=80, score=0.8336314847942755, total=   0.6s\n",
      "[CV] n_estimators=80 .................................................\n",
      "[CV] ........ n_estimators=80, score=0.8393017009847806, total=   0.6s\n",
      "[CV] n_estimators=80 .................................................\n"
     ]
    },
    {
     "name": "stdout",
     "output_type": "stream",
     "text": [
      "[CV] ........ n_estimators=80, score=0.8343777976723367, total=   0.6s\n",
      "[CV] n_estimators=81 .................................................\n",
      "[CV] ........ n_estimators=81, score=0.8376565295169947, total=   0.6s\n",
      "[CV] n_estimators=81 .................................................\n",
      "[CV] ........ n_estimators=81, score=0.8401969561324978, total=   0.6s\n",
      "[CV] n_estimators=81 .................................................\n",
      "[CV] ........ n_estimators=81, score=0.8343777976723367, total=   0.6s\n",
      "[CV] n_estimators=82 .................................................\n",
      "[CV] ........ n_estimators=82, score=0.8354203935599285, total=   0.6s\n",
      "[CV] n_estimators=82 .................................................\n",
      "[CV] ........ n_estimators=82, score=0.8393017009847806, total=   0.6s\n",
      "[CV] n_estimators=82 .................................................\n",
      "[CV] ........ n_estimators=82, score=0.8334825425246195, total=   0.6s\n",
      "[CV] n_estimators=83 .................................................\n",
      "[CV] ........ n_estimators=83, score=0.8345259391771019, total=   0.6s\n",
      "[CV] n_estimators=83 .................................................\n",
      "[CV] ........ n_estimators=83, score=0.8384064458370636, total=   0.6s\n",
      "[CV] n_estimators=83 .................................................\n",
      "[CV] ........ n_estimators=83, score=0.8316920322291853, total=   0.6s\n",
      "[CV] n_estimators=84 .................................................\n",
      "[CV] ........ n_estimators=84, score=0.8363148479427549, total=   0.7s\n",
      "[CV] n_estimators=84 .................................................\n",
      "[CV] ........ n_estimators=84, score=0.8384064458370636, total=   0.6s\n",
      "[CV] n_estimators=84 .................................................\n",
      "[CV] ........ n_estimators=84, score=0.8299015219337511, total=   0.6s\n",
      "[CV] n_estimators=85 .................................................\n",
      "[CV] ........ n_estimators=85, score=0.8322898032200358, total=   0.6s\n",
      "[CV] n_estimators=85 .................................................\n",
      "[CV] ........ n_estimators=85, score=0.8384064458370636, total=   0.6s\n",
      "[CV] n_estimators=85 .................................................\n",
      "[CV] ........ n_estimators=85, score=0.8299015219337511, total=   0.6s\n",
      "[CV] n_estimators=86 .................................................\n",
      "[CV] ........ n_estimators=86, score=0.8358676207513417, total=   0.6s\n",
      "[CV] n_estimators=86 .................................................\n",
      "[CV] ........ n_estimators=86, score=0.8401969561324978, total=   0.7s\n",
      "[CV] n_estimators=86 .................................................\n",
      "[CV] ......... n_estimators=86, score=0.833930170098478, total=   0.6s\n",
      "[CV] n_estimators=87 .................................................\n",
      "[CV] ........ n_estimators=87, score=0.8345259391771019, total=   0.6s\n",
      "[CV] n_estimators=87 .................................................\n",
      "[CV] ........ n_estimators=87, score=0.8370635631154879, total=   0.6s\n",
      "[CV] n_estimators=87 .................................................\n",
      "[CV] ........ n_estimators=87, score=0.8299015219337511, total=   0.6s\n",
      "[CV] n_estimators=88 .................................................\n",
      "[CV] ........ n_estimators=88, score=0.8349731663685152, total=   0.6s\n",
      "[CV] n_estimators=88 .................................................\n",
      "[CV] ........ n_estimators=88, score=0.8401969561324978, total=   0.6s\n",
      "[CV] n_estimators=88 .................................................\n",
      "[CV] ......... n_estimators=88, score=0.833034914950761, total=   0.6s\n",
      "[CV] n_estimators=89 .................................................\n",
      "[CV] ........ n_estimators=89, score=0.8358676207513417, total=   0.6s\n",
      "[CV] n_estimators=89 .................................................\n",
      "[CV] ........ n_estimators=89, score=0.8375111906893464, total=   0.6s\n",
      "[CV] n_estimators=89 .................................................\n",
      "[CV] ........ n_estimators=89, score=0.8316920322291853, total=   0.6s\n",
      "[CV] n_estimators=90 .................................................\n",
      "[CV] ........ n_estimators=90, score=0.8345259391771019, total=   0.6s\n",
      "[CV] n_estimators=90 .................................................\n",
      "[CV] ........ n_estimators=90, score=0.8410922112802148, total=   0.6s\n",
      "[CV] n_estimators=90 .................................................\n",
      "[CV] ........ n_estimators=90, score=0.8290062667860341, total=   0.6s\n",
      "[CV] n_estimators=91 .................................................\n",
      "[CV] ........ n_estimators=91, score=0.8340787119856887, total=   0.6s\n",
      "[CV] n_estimators=91 .................................................\n",
      "[CV] ........ n_estimators=91, score=0.8401969561324978, total=   0.7s\n",
      "[CV] n_estimators=91 .................................................\n",
      "[CV] ........ n_estimators=91, score=0.8321396598030438, total=   0.7s\n",
      "[CV] n_estimators=92 .................................................\n",
      "[CV] ........ n_estimators=92, score=0.8363148479427549, total=   0.6s\n",
      "[CV] n_estimators=92 .................................................\n",
      "[CV] ........ n_estimators=92, score=0.8401969561324978, total=   0.7s\n",
      "[CV] n_estimators=92 .................................................\n",
      "[CV] ......... n_estimators=92, score=0.833034914950761, total=   0.7s\n",
      "[CV] n_estimators=93 .................................................\n",
      "[CV] ........ n_estimators=93, score=0.8322898032200358, total=   0.7s\n",
      "[CV] n_estimators=93 .................................................\n",
      "[CV] ........ n_estimators=93, score=0.8366159355416294, total=   0.7s\n",
      "[CV] n_estimators=93 .................................................\n",
      "[CV] ........ n_estimators=93, score=0.8334825425246195, total=   0.7s\n",
      "[CV] n_estimators=94 .................................................\n",
      "[CV] ........ n_estimators=94, score=0.8340787119856887, total=   0.7s\n",
      "[CV] n_estimators=94 .................................................\n",
      "[CV] ........ n_estimators=94, score=0.8370635631154879, total=   0.7s\n",
      "[CV] n_estimators=94 .................................................\n",
      "[CV] ........ n_estimators=94, score=0.8312444046553268, total=   0.7s\n",
      "[CV] n_estimators=95 .................................................\n",
      "[CV] ........ n_estimators=95, score=0.8340787119856887, total=   0.7s\n",
      "[CV] n_estimators=95 .................................................\n",
      "[CV] ........ n_estimators=95, score=0.8379588182632051, total=   0.7s\n",
      "[CV] n_estimators=95 .................................................\n",
      "[CV] ........ n_estimators=95, score=0.8312444046553268, total=   0.7s\n",
      "[CV] n_estimators=96 .................................................\n",
      "[CV] ........ n_estimators=96, score=0.8340787119856887, total=   0.7s\n",
      "[CV] n_estimators=96 .................................................\n",
      "[CV] ........ n_estimators=96, score=0.8388540734109221, total=   0.7s\n",
      "[CV] n_estimators=96 .................................................\n",
      "[CV] ........ n_estimators=96, score=0.8334825425246195, total=   0.7s\n",
      "[CV] n_estimators=97 .................................................\n",
      "[CV] ........ n_estimators=97, score=0.8358676207513417, total=   0.7s\n",
      "[CV] n_estimators=97 .................................................\n",
      "[CV] ........ n_estimators=97, score=0.8384064458370636, total=   0.7s\n",
      "[CV] n_estimators=97 .................................................\n",
      "[CV] ........ n_estimators=97, score=0.8290062667860341, total=   0.7s\n",
      "[CV] n_estimators=98 .................................................\n",
      "[CV] ........ n_estimators=98, score=0.8340787119856887, total=   0.7s\n",
      "[CV] n_estimators=98 .................................................\n",
      "[CV] ........ n_estimators=98, score=0.8379588182632051, total=   0.7s\n",
      "[CV] n_estimators=98 .................................................\n",
      "[CV] ........ n_estimators=98, score=0.8294538943598926, total=   0.7s\n",
      "[CV] n_estimators=99 .................................................\n",
      "[CV] ........ n_estimators=99, score=0.8367620751341681, total=   0.7s\n",
      "[CV] n_estimators=99 .................................................\n",
      "[CV] ........ n_estimators=99, score=0.8370635631154879, total=   0.7s\n",
      "[CV] n_estimators=99 .................................................\n",
      "[CV] ........ n_estimators=99, score=0.8307967770814683, total=   0.7s\n",
      "[CV] n_estimators=100 ................................................\n"
     ]
    },
    {
     "name": "stdout",
     "output_type": "stream",
     "text": [
      "[CV] ....... n_estimators=100, score=0.8385509838998211, total=   0.7s\n",
      "[CV] n_estimators=100 ................................................\n",
      "[CV] ....... n_estimators=100, score=0.8384064458370636, total=   0.7s\n",
      "[CV] n_estimators=100 ................................................\n",
      "[CV] ....... n_estimators=100, score=0.8312444046553268, total=   0.7s\n",
      "[CV] n_estimators=101 ................................................\n",
      "[CV] ....... n_estimators=101, score=0.8349731663685152, total=   0.7s\n",
      "[CV] n_estimators=101 ................................................\n",
      "[CV] ....... n_estimators=101, score=0.8401969561324978, total=   0.7s\n",
      "[CV] n_estimators=101 ................................................\n",
      "[CV] ....... n_estimators=101, score=0.8325872873769025, total=   0.7s\n",
      "[CV] n_estimators=102 ................................................\n",
      "[CV] ....... n_estimators=102, score=0.8367620751341681, total=   0.7s\n",
      "[CV] n_estimators=102 ................................................\n",
      "[CV] ....... n_estimators=102, score=0.8393017009847806, total=   0.7s\n",
      "[CV] n_estimators=102 ................................................\n",
      "[CV] ........ n_estimators=102, score=0.833034914950761, total=   0.7s\n",
      "[CV] n_estimators=103 ................................................\n",
      "[CV] ....... n_estimators=103, score=0.8349731663685152, total=   0.7s\n",
      "[CV] n_estimators=103 ................................................\n",
      "[CV] ....... n_estimators=103, score=0.8393017009847806, total=   0.8s\n",
      "[CV] n_estimators=103 ................................................\n",
      "[CV] ....... n_estimators=103, score=0.8290062667860341, total=   0.8s\n",
      "[CV] n_estimators=104 ................................................\n",
      "[CV] ....... n_estimators=104, score=0.8349731663685152, total=   0.7s\n",
      "[CV] n_estimators=104 ................................................\n",
      "[CV] ....... n_estimators=104, score=0.8379588182632051, total=   0.8s\n",
      "[CV] n_estimators=104 ................................................\n",
      "[CV] ....... n_estimators=104, score=0.8316920322291853, total=   0.8s\n",
      "[CV] n_estimators=105 ................................................\n",
      "[CV] ....... n_estimators=105, score=0.8354203935599285, total=   0.8s\n",
      "[CV] n_estimators=105 ................................................\n",
      "[CV] ....... n_estimators=105, score=0.8370635631154879, total=   0.8s\n",
      "[CV] n_estimators=105 ................................................\n",
      "[CV] ....... n_estimators=105, score=0.8343777976723367, total=   0.8s\n",
      "[CV] n_estimators=106 ................................................\n",
      "[CV] ....... n_estimators=106, score=0.8381037567084079, total=   0.8s\n",
      "[CV] n_estimators=106 ................................................\n",
      "[CV] ....... n_estimators=106, score=0.8375111906893464, total=   0.8s\n",
      "[CV] n_estimators=106 ................................................\n",
      "[CV] ....... n_estimators=106, score=0.8312444046553268, total=   0.8s\n",
      "[CV] n_estimators=107 ................................................\n",
      "[CV] ....... n_estimators=107, score=0.8372093023255814, total=   0.8s\n",
      "[CV] n_estimators=107 ................................................\n",
      "[CV] ....... n_estimators=107, score=0.8352730528200537, total=   0.8s\n",
      "[CV] n_estimators=107 ................................................\n",
      "[CV] ....... n_estimators=107, score=0.8312444046553268, total=   0.8s\n",
      "[CV] n_estimators=108 ................................................\n",
      "[CV] ....... n_estimators=108, score=0.8336314847942755, total=   0.8s\n",
      "[CV] n_estimators=108 ................................................\n",
      "[CV] ....... n_estimators=108, score=0.8388540734109221, total=   0.8s\n",
      "[CV] n_estimators=108 ................................................\n",
      "[CV] ....... n_estimators=108, score=0.8294538943598926, total=   0.8s\n",
      "[CV] n_estimators=109 ................................................\n",
      "[CV] ....... n_estimators=109, score=0.8358676207513417, total=   0.8s\n",
      "[CV] n_estimators=109 ................................................\n",
      "[CV] ....... n_estimators=109, score=0.8397493285586393, total=   0.8s\n",
      "[CV] n_estimators=109 ................................................\n",
      "[CV] ....... n_estimators=109, score=0.8321396598030438, total=   0.8s\n",
      "[CV] n_estimators=110 ................................................\n",
      "[CV] ........ n_estimators=110, score=0.832737030411449, total=   0.8s\n",
      "[CV] n_estimators=110 ................................................\n",
      "[CV] ....... n_estimators=110, score=0.8384064458370636, total=   0.8s\n",
      "[CV] n_estimators=110 ................................................\n",
      "[CV] ....... n_estimators=110, score=0.8299015219337511, total=   0.9s\n",
      "[CV] n_estimators=111 ................................................\n",
      "[CV] ....... n_estimators=111, score=0.8331842576028623, total=   0.8s\n",
      "[CV] n_estimators=111 ................................................\n",
      "[CV] ....... n_estimators=111, score=0.8384064458370636, total=   0.8s\n",
      "[CV] n_estimators=111 ................................................\n",
      "[CV] ........ n_estimators=111, score=0.833034914950761, total=   0.8s\n",
      "[CV] n_estimators=112 ................................................\n",
      "[CV] ....... n_estimators=112, score=0.8372093023255814, total=   0.8s\n",
      "[CV] n_estimators=112 ................................................\n",
      "[CV] ....... n_estimators=112, score=0.8384064458370636, total=   0.9s\n",
      "[CV] n_estimators=112 ................................................\n",
      "[CV] ....... n_estimators=112, score=0.8325872873769025, total=   0.8s\n",
      "[CV] n_estimators=113 ................................................\n",
      "[CV] ....... n_estimators=113, score=0.8354203935599285, total=   0.8s\n",
      "[CV] n_estimators=113 ................................................\n",
      "[CV] ....... n_estimators=113, score=0.8397493285586393, total=   0.8s\n",
      "[CV] n_estimators=113 ................................................\n",
      "[CV] ....... n_estimators=113, score=0.8348254252461952, total=   0.8s\n",
      "[CV] n_estimators=114 ................................................\n",
      "[CV] ....... n_estimators=114, score=0.8349731663685152, total=   0.8s\n",
      "[CV] n_estimators=114 ................................................\n",
      "[CV] ....... n_estimators=114, score=0.8388540734109221, total=   0.8s\n",
      "[CV] n_estimators=114 ................................................\n",
      "[CV] ....... n_estimators=114, score=0.8357206803939122, total=   0.8s\n",
      "[CV] n_estimators=115 ................................................\n",
      "[CV] ....... n_estimators=115, score=0.8363148479427549, total=   0.8s\n",
      "[CV] n_estimators=115 ................................................\n",
      "[CV] ....... n_estimators=115, score=0.8375111906893464, total=   0.8s\n",
      "[CV] n_estimators=115 ................................................\n",
      "[CV] ....... n_estimators=115, score=0.8316920322291853, total=   0.8s\n",
      "[CV] n_estimators=116 ................................................\n",
      "[CV] ....... n_estimators=116, score=0.8358676207513417, total=   0.8s\n",
      "[CV] n_estimators=116 ................................................\n",
      "[CV] ....... n_estimators=116, score=0.8393017009847806, total=   0.9s\n",
      "[CV] n_estimators=116 ................................................\n",
      "[CV] ....... n_estimators=116, score=0.8299015219337511, total=   0.9s\n",
      "[CV] n_estimators=117 ................................................\n",
      "[CV] ....... n_estimators=117, score=0.8322898032200358, total=   0.8s\n",
      "[CV] n_estimators=117 ................................................\n",
      "[CV] ....... n_estimators=117, score=0.8357206803939122, total=   0.9s\n",
      "[CV] n_estimators=117 ................................................\n",
      "[CV] ........ n_estimators=117, score=0.833034914950761, total=   0.9s\n",
      "[CV] n_estimators=118 ................................................\n",
      "[CV] ....... n_estimators=118, score=0.8358676207513417, total=   0.9s\n",
      "[CV] n_estimators=118 ................................................\n",
      "[CV] ....... n_estimators=118, score=0.8388540734109221, total=   0.9s\n",
      "[CV] n_estimators=118 ................................................\n",
      "[CV] ........ n_estimators=118, score=0.833034914950761, total=   0.9s\n",
      "[CV] n_estimators=119 ................................................\n",
      "[CV] ....... n_estimators=119, score=0.8349731663685152, total=   0.9s\n",
      "[CV] n_estimators=119 ................................................\n"
     ]
    },
    {
     "name": "stdout",
     "output_type": "stream",
     "text": [
      "[CV] ....... n_estimators=119, score=0.8393017009847806, total=   0.9s\n",
      "[CV] n_estimators=119 ................................................\n",
      "[CV] ....... n_estimators=119, score=0.8303491495076096, total=   0.9s\n",
      "[CV] n_estimators=120 ................................................\n",
      "[CV] ....... n_estimators=120, score=0.8367620751341681, total=   0.9s\n",
      "[CV] n_estimators=120 ................................................\n",
      "[CV] ....... n_estimators=120, score=0.8375111906893464, total=   0.9s\n",
      "[CV] n_estimators=120 ................................................\n",
      "[CV] ....... n_estimators=120, score=0.8312444046553268, total=   0.9s\n",
      "[CV] n_estimators=121 ................................................\n",
      "[CV] ....... n_estimators=121, score=0.8340787119856887, total=   0.9s\n",
      "[CV] n_estimators=121 ................................................\n",
      "[CV] ....... n_estimators=121, score=0.8393017009847806, total=   0.9s\n",
      "[CV] n_estimators=121 ................................................\n",
      "[CV] ....... n_estimators=121, score=0.8307967770814683, total=   0.9s\n",
      "[CV] n_estimators=122 ................................................\n",
      "[CV] ....... n_estimators=122, score=0.8336314847942755, total=   0.9s\n",
      "[CV] n_estimators=122 ................................................\n",
      "[CV] ....... n_estimators=122, score=0.8384064458370636, total=   0.9s\n",
      "[CV] n_estimators=122 ................................................\n",
      "[CV] ........ n_estimators=122, score=0.833034914950761, total=   0.9s\n",
      "[CV] n_estimators=123 ................................................\n",
      "[CV] ....... n_estimators=123, score=0.8363148479427549, total=   0.9s\n",
      "[CV] n_estimators=123 ................................................\n",
      "[CV] ....... n_estimators=123, score=0.8384064458370636, total=   0.9s\n",
      "[CV] n_estimators=123 ................................................\n",
      "[CV] ........ n_estimators=123, score=0.833034914950761, total=   0.9s\n",
      "[CV] n_estimators=124 ................................................\n",
      "[CV] ....... n_estimators=124, score=0.8331842576028623, total=   0.9s\n",
      "[CV] n_estimators=124 ................................................\n",
      "[CV] ....... n_estimators=124, score=0.8401969561324978, total=   0.9s\n",
      "[CV] n_estimators=124 ................................................\n",
      "[CV] ....... n_estimators=124, score=0.8325872873769025, total=   0.9s\n",
      "[CV] n_estimators=125 ................................................\n",
      "[CV] ....... n_estimators=125, score=0.8354203935599285, total=   0.9s\n",
      "[CV] n_estimators=125 ................................................\n",
      "[CV] ....... n_estimators=125, score=0.8379588182632051, total=   0.9s\n",
      "[CV] n_estimators=125 ................................................\n",
      "[CV] ....... n_estimators=125, score=0.8321396598030438, total=   0.9s\n",
      "[CV] n_estimators=126 ................................................\n",
      "[CV] ....... n_estimators=126, score=0.8340787119856887, total=   0.9s\n",
      "[CV] n_estimators=126 ................................................\n",
      "[CV] ....... n_estimators=126, score=0.8384064458370636, total=   0.9s\n",
      "[CV] n_estimators=126 ................................................\n",
      "[CV] ....... n_estimators=126, score=0.8312444046553268, total=   0.9s\n",
      "[CV] n_estimators=127 ................................................\n",
      "[CV] ....... n_estimators=127, score=0.8358676207513417, total=   0.9s\n",
      "[CV] n_estimators=127 ................................................\n",
      "[CV] ....... n_estimators=127, score=0.8388540734109221, total=   0.9s\n",
      "[CV] n_estimators=127 ................................................\n",
      "[CV] ....... n_estimators=127, score=0.8325872873769025, total=   1.0s\n",
      "[CV] n_estimators=128 ................................................\n",
      "[CV] ....... n_estimators=128, score=0.8345259391771019, total=   0.9s\n",
      "[CV] n_estimators=128 ................................................\n",
      "[CV] ....... n_estimators=128, score=0.8379588182632051, total=   0.9s\n",
      "[CV] n_estimators=128 ................................................\n",
      "[CV] ....... n_estimators=128, score=0.8294538943598926, total=   1.0s\n",
      "[CV] n_estimators=129 ................................................\n",
      "[CV] ....... n_estimators=129, score=0.8372093023255814, total=   0.9s\n",
      "[CV] n_estimators=129 ................................................\n",
      "[CV] ....... n_estimators=129, score=0.8379588182632051, total=   1.0s\n",
      "[CV] n_estimators=129 ................................................\n",
      "[CV] ....... n_estimators=129, score=0.8316920322291853, total=   1.0s\n",
      "[CV] n_estimators=130 ................................................\n",
      "[CV] ....... n_estimators=130, score=0.8363148479427549, total=   1.0s\n",
      "[CV] n_estimators=130 ................................................\n",
      "[CV] ....... n_estimators=130, score=0.8388540734109221, total=   1.0s\n",
      "[CV] n_estimators=130 ................................................\n",
      "[CV] ....... n_estimators=130, score=0.8312444046553268, total=   1.0s\n",
      "[CV] n_estimators=131 ................................................\n",
      "[CV] ....... n_estimators=131, score=0.8367620751341681, total=   1.0s\n",
      "[CV] n_estimators=131 ................................................\n",
      "[CV] ....... n_estimators=131, score=0.8406445837063563, total=   1.0s\n",
      "[CV] n_estimators=131 ................................................\n",
      "[CV] ........ n_estimators=131, score=0.833034914950761, total=   1.0s\n",
      "[CV] n_estimators=132 ................................................\n",
      "[CV] ....... n_estimators=132, score=0.8358676207513417, total=   1.0s\n",
      "[CV] n_estimators=132 ................................................\n",
      "[CV] ....... n_estimators=132, score=0.8384064458370636, total=   1.0s\n",
      "[CV] n_estimators=132 ................................................\n",
      "[CV] ........ n_estimators=132, score=0.833034914950761, total=   1.0s\n",
      "[CV] n_estimators=133 ................................................\n",
      "[CV] ....... n_estimators=133, score=0.8358676207513417, total=   1.0s\n",
      "[CV] n_estimators=133 ................................................\n",
      "[CV] ....... n_estimators=133, score=0.8388540734109221, total=   1.0s\n",
      "[CV] n_estimators=133 ................................................\n",
      "[CV] ....... n_estimators=133, score=0.8321396598030438, total=   1.0s\n",
      "[CV] n_estimators=134 ................................................\n",
      "[CV] ....... n_estimators=134, score=0.8363148479427549, total=   1.0s\n",
      "[CV] n_estimators=134 ................................................\n",
      "[CV] ....... n_estimators=134, score=0.8388540734109221, total=   1.0s\n",
      "[CV] n_estimators=134 ................................................\n",
      "[CV] ....... n_estimators=134, score=0.8343777976723367, total=   1.0s\n",
      "[CV] n_estimators=135 ................................................\n",
      "[CV] ....... n_estimators=135, score=0.8336314847942755, total=   1.0s\n",
      "[CV] n_estimators=135 ................................................\n",
      "[CV] ....... n_estimators=135, score=0.8366159355416294, total=   1.0s\n",
      "[CV] n_estimators=135 ................................................\n",
      "[CV] ....... n_estimators=135, score=0.8307967770814683, total=   1.0s\n",
      "[CV] n_estimators=136 ................................................\n",
      "[CV] ....... n_estimators=136, score=0.8340787119856887, total=   1.0s\n",
      "[CV] n_estimators=136 ................................................\n",
      "[CV] ....... n_estimators=136, score=0.8379588182632051, total=   1.0s\n",
      "[CV] n_estimators=136 ................................................\n",
      "[CV] ........ n_estimators=136, score=0.833930170098478, total=   1.0s\n",
      "[CV] n_estimators=137 ................................................\n",
      "[CV] ....... n_estimators=137, score=0.8354203935599285, total=   1.0s\n",
      "[CV] n_estimators=137 ................................................\n",
      "[CV] ....... n_estimators=137, score=0.8379588182632051, total=   1.0s\n",
      "[CV] n_estimators=137 ................................................\n",
      "[CV] ....... n_estimators=137, score=0.8334825425246195, total=   1.0s\n",
      "[CV] n_estimators=138 ................................................\n",
      "[CV] ....... n_estimators=138, score=0.8349731663685152, total=   1.0s\n",
      "[CV] n_estimators=138 ................................................\n",
      "[CV] ....... n_estimators=138, score=0.8375111906893464, total=   1.0s\n",
      "[CV] n_estimators=138 ................................................\n"
     ]
    },
    {
     "name": "stdout",
     "output_type": "stream",
     "text": [
      "[CV] ....... n_estimators=138, score=0.8321396598030438, total=   1.0s\n",
      "[CV] n_estimators=139 ................................................\n",
      "[CV] ....... n_estimators=139, score=0.8367620751341681, total=   1.0s\n",
      "[CV] n_estimators=139 ................................................\n",
      "[CV] ....... n_estimators=139, score=0.8401969561324978, total=   1.0s\n",
      "[CV] n_estimators=139 ................................................\n",
      "[CV] ....... n_estimators=139, score=0.8316920322291853, total=   1.0s\n",
      "[CV] n_estimators=140 ................................................\n",
      "[CV] ....... n_estimators=140, score=0.8363148479427549, total=   1.0s\n",
      "[CV] n_estimators=140 ................................................\n",
      "[CV] ....... n_estimators=140, score=0.8393017009847806, total=   1.1s\n",
      "[CV] n_estimators=140 ................................................\n",
      "[CV] ....... n_estimators=140, score=0.8312444046553268, total=   1.1s\n",
      "[CV] n_estimators=141 ................................................\n",
      "[CV] ....... n_estimators=141, score=0.8345259391771019, total=   1.0s\n",
      "[CV] n_estimators=141 ................................................\n",
      "[CV] ....... n_estimators=141, score=0.8379588182632051, total=   1.1s\n",
      "[CV] n_estimators=141 ................................................\n",
      "[CV] ........ n_estimators=141, score=0.833930170098478, total=   1.1s\n",
      "[CV] n_estimators=142 ................................................\n",
      "[CV] ....... n_estimators=142, score=0.8340787119856887, total=   1.0s\n",
      "[CV] n_estimators=142 ................................................\n",
      "[CV] ....... n_estimators=142, score=0.8393017009847806, total=   1.1s\n",
      "[CV] n_estimators=142 ................................................\n",
      "[CV] ....... n_estimators=142, score=0.8321396598030438, total=   1.1s\n",
      "[CV] n_estimators=143 ................................................\n",
      "[CV] ....... n_estimators=143, score=0.8358676207513417, total=   1.1s\n",
      "[CV] n_estimators=143 ................................................\n",
      "[CV] ....... n_estimators=143, score=0.8388540734109221, total=   1.1s\n",
      "[CV] n_estimators=143 ................................................\n",
      "[CV] ....... n_estimators=143, score=0.8325872873769025, total=   1.1s\n",
      "[CV] n_estimators=144 ................................................\n",
      "[CV] ....... n_estimators=144, score=0.8349731663685152, total=   1.1s\n",
      "[CV] n_estimators=144 ................................................\n",
      "[CV] ....... n_estimators=144, score=0.8384064458370636, total=   1.1s\n",
      "[CV] n_estimators=144 ................................................\n",
      "[CV] ........ n_estimators=144, score=0.833034914950761, total=   1.1s\n",
      "[CV] n_estimators=145 ................................................\n",
      "[CV] ....... n_estimators=145, score=0.8372093023255814, total=   1.1s\n",
      "[CV] n_estimators=145 ................................................\n",
      "[CV] ....... n_estimators=145, score=0.8370635631154879, total=   1.1s\n",
      "[CV] n_estimators=145 ................................................\n",
      "[CV] ....... n_estimators=145, score=0.8290062667860341, total=   1.1s\n",
      "[CV] n_estimators=146 ................................................\n",
      "[CV] ....... n_estimators=146, score=0.8363148479427549, total=   1.1s\n",
      "[CV] n_estimators=146 ................................................\n",
      "[CV] ....... n_estimators=146, score=0.8384064458370636, total=   1.1s\n",
      "[CV] n_estimators=146 ................................................\n",
      "[CV] ....... n_estimators=146, score=0.8307967770814683, total=   1.1s\n",
      "[CV] n_estimators=147 ................................................\n",
      "[CV] ....... n_estimators=147, score=0.8349731663685152, total=   1.1s\n",
      "[CV] n_estimators=147 ................................................\n",
      "[CV] ....... n_estimators=147, score=0.8397493285586393, total=   1.1s\n",
      "[CV] n_estimators=147 ................................................\n",
      "[CV] ....... n_estimators=147, score=0.8343777976723367, total=   1.1s\n",
      "[CV] n_estimators=148 ................................................\n",
      "[CV] ....... n_estimators=148, score=0.8349731663685152, total=   1.1s\n",
      "[CV] n_estimators=148 ................................................\n",
      "[CV] ....... n_estimators=148, score=0.8379588182632051, total=   1.1s\n",
      "[CV] n_estimators=148 ................................................\n",
      "[CV] ....... n_estimators=148, score=0.8316920322291853, total=   1.1s\n",
      "[CV] n_estimators=149 ................................................\n",
      "[CV] ....... n_estimators=149, score=0.8363148479427549, total=   1.1s\n",
      "[CV] n_estimators=149 ................................................\n",
      "[CV] ....... n_estimators=149, score=0.8384064458370636, total=   1.1s\n",
      "[CV] n_estimators=149 ................................................\n",
      "[CV] ....... n_estimators=149, score=0.8316920322291853, total=   1.1s\n",
      "[CV] n_estimators=150 ................................................\n",
      "[CV] ....... n_estimators=150, score=0.8322898032200358, total=   1.1s\n",
      "[CV] n_estimators=150 ................................................\n",
      "[CV] ....... n_estimators=150, score=0.8370635631154879, total=   1.1s\n",
      "[CV] n_estimators=150 ................................................\n",
      "[CV] ....... n_estimators=150, score=0.8316920322291853, total=   1.1s\n",
      "[CV] n_estimators=151 ................................................\n",
      "[CV] ....... n_estimators=151, score=0.8349731663685152, total=   1.1s\n",
      "[CV] n_estimators=151 ................................................\n",
      "[CV] ....... n_estimators=151, score=0.8384064458370636, total=   1.1s\n",
      "[CV] n_estimators=151 ................................................\n",
      "[CV] ....... n_estimators=151, score=0.8303491495076096, total=   1.2s\n",
      "[CV] n_estimators=152 ................................................\n",
      "[CV] ....... n_estimators=152, score=0.8349731663685152, total=   1.1s\n",
      "[CV] n_estimators=152 ................................................\n",
      "[CV] ....... n_estimators=152, score=0.8379588182632051, total=   1.2s\n",
      "[CV] n_estimators=152 ................................................\n",
      "[CV] ........ n_estimators=152, score=0.833930170098478, total=   1.2s\n",
      "[CV] n_estimators=153 ................................................\n",
      "[CV] ........ n_estimators=153, score=0.832737030411449, total=   1.1s\n",
      "[CV] n_estimators=153 ................................................\n",
      "[CV] ....... n_estimators=153, score=0.8379588182632051, total=   1.2s\n",
      "[CV] n_estimators=153 ................................................\n",
      "[CV] ....... n_estimators=153, score=0.8312444046553268, total=   1.2s\n",
      "[CV] n_estimators=154 ................................................\n",
      "[CV] ........ n_estimators=154, score=0.832737030411449, total=   1.2s\n",
      "[CV] n_estimators=154 ................................................\n",
      "[CV] ....... n_estimators=154, score=0.8370635631154879, total=   1.2s\n",
      "[CV] n_estimators=154 ................................................\n",
      "[CV] ....... n_estimators=154, score=0.8325872873769025, total=   1.2s\n",
      "[CV] n_estimators=155 ................................................\n",
      "[CV] ....... n_estimators=155, score=0.8345259391771019, total=   1.2s\n",
      "[CV] n_estimators=155 ................................................\n",
      "[CV] ....... n_estimators=155, score=0.8384064458370636, total=   1.2s\n",
      "[CV] n_estimators=155 ................................................\n",
      "[CV] ....... n_estimators=155, score=0.8303491495076096, total=   1.2s\n",
      "[CV] n_estimators=156 ................................................\n",
      "[CV] ....... n_estimators=156, score=0.8354203935599285, total=   1.2s\n",
      "[CV] n_estimators=156 ................................................\n",
      "[CV] ....... n_estimators=156, score=0.8384064458370636, total=   1.3s\n",
      "[CV] n_estimators=156 ................................................\n",
      "[CV] ....... n_estimators=156, score=0.8321396598030438, total=   1.3s\n",
      "[CV] n_estimators=157 ................................................\n",
      "[CV] ....... n_estimators=157, score=0.8372093023255814, total=   1.3s\n",
      "[CV] n_estimators=157 ................................................\n",
      "[CV] ....... n_estimators=157, score=0.8406445837063563, total=   1.3s\n",
      "[CV] n_estimators=157 ................................................\n",
      "[CV] ....... n_estimators=157, score=0.8312444046553268, total=   1.2s\n",
      "[CV] n_estimators=158 ................................................\n"
     ]
    },
    {
     "name": "stdout",
     "output_type": "stream",
     "text": [
      "[CV] ....... n_estimators=158, score=0.8345259391771019, total=   1.2s\n",
      "[CV] n_estimators=158 ................................................\n",
      "[CV] ....... n_estimators=158, score=0.8388540734109221, total=   1.3s\n",
      "[CV] n_estimators=158 ................................................\n",
      "[CV] ........ n_estimators=158, score=0.833034914950761, total=   1.3s\n",
      "[CV] n_estimators=159 ................................................\n",
      "[CV] ....... n_estimators=159, score=0.8336314847942755, total=   1.3s\n",
      "[CV] n_estimators=159 ................................................\n",
      "[CV] ....... n_estimators=159, score=0.8375111906893464, total=   1.2s\n",
      "[CV] n_estimators=159 ................................................\n",
      "[CV] ....... n_estimators=159, score=0.8316920322291853, total=   1.2s\n",
      "[CV] n_estimators=160 ................................................\n",
      "[CV] ....... n_estimators=160, score=0.8349731663685152, total=   1.2s\n",
      "[CV] n_estimators=160 ................................................\n",
      "[CV] ....... n_estimators=160, score=0.8384064458370636, total=   1.2s\n",
      "[CV] n_estimators=160 ................................................\n",
      "[CV] ....... n_estimators=160, score=0.8321396598030438, total=   1.2s\n",
      "[CV] n_estimators=161 ................................................\n",
      "[CV] ....... n_estimators=161, score=0.8358676207513417, total=   1.2s\n",
      "[CV] n_estimators=161 ................................................\n",
      "[CV] ....... n_estimators=161, score=0.8379588182632051, total=   1.2s\n",
      "[CV] n_estimators=161 ................................................\n",
      "[CV] ....... n_estimators=161, score=0.8294538943598926, total=   1.2s\n",
      "[CV] n_estimators=162 ................................................\n",
      "[CV] ....... n_estimators=162, score=0.8354203935599285, total=   1.2s\n",
      "[CV] n_estimators=162 ................................................\n",
      "[CV] ....... n_estimators=162, score=0.8397493285586393, total=   1.2s\n",
      "[CV] n_estimators=162 ................................................\n",
      "[CV] ....... n_estimators=162, score=0.8321396598030438, total=   1.2s\n",
      "[CV] n_estimators=163 ................................................\n",
      "[CV] ....... n_estimators=163, score=0.8358676207513417, total=   1.2s\n",
      "[CV] n_estimators=163 ................................................\n",
      "[CV] ....... n_estimators=163, score=0.8401969561324978, total=   1.2s\n",
      "[CV] n_estimators=163 ................................................\n",
      "[CV] ....... n_estimators=163, score=0.8334825425246195, total=   1.3s\n",
      "[CV] n_estimators=164 ................................................\n",
      "[CV] ....... n_estimators=164, score=0.8367620751341681, total=   1.2s\n",
      "[CV] n_estimators=164 ................................................\n",
      "[CV] ....... n_estimators=164, score=0.8375111906893464, total=   1.3s\n",
      "[CV] n_estimators=164 ................................................\n",
      "[CV] ....... n_estimators=164, score=0.8334825425246195, total=   1.7s\n",
      "[CV] n_estimators=165 ................................................\n",
      "[CV] ....... n_estimators=165, score=0.8340787119856887, total=   1.3s\n",
      "[CV] n_estimators=165 ................................................\n",
      "[CV] ....... n_estimators=165, score=0.8379588182632051, total=   1.6s\n",
      "[CV] n_estimators=165 ................................................\n",
      "[CV] ....... n_estimators=165, score=0.8325872873769025, total=   1.4s\n",
      "[CV] n_estimators=166 ................................................\n",
      "[CV] ....... n_estimators=166, score=0.8354203935599285, total=   1.3s\n",
      "[CV] n_estimators=166 ................................................\n",
      "[CV] ....... n_estimators=166, score=0.8375111906893464, total=   1.3s\n",
      "[CV] n_estimators=166 ................................................\n",
      "[CV] ....... n_estimators=166, score=0.8316920322291853, total=   1.4s\n",
      "[CV] n_estimators=167 ................................................\n",
      "[CV] ....... n_estimators=167, score=0.8340787119856887, total=   1.3s\n",
      "[CV] n_estimators=167 ................................................\n",
      "[CV] ....... n_estimators=167, score=0.8388540734109221, total=   1.5s\n",
      "[CV] n_estimators=167 ................................................\n",
      "[CV] ....... n_estimators=167, score=0.8321396598030438, total=   1.7s\n",
      "[CV] n_estimators=168 ................................................\n",
      "[CV] ....... n_estimators=168, score=0.8354203935599285, total=   1.5s\n",
      "[CV] n_estimators=168 ................................................\n",
      "[CV] ....... n_estimators=168, score=0.8397493285586393, total=   1.5s\n",
      "[CV] n_estimators=168 ................................................\n",
      "[CV] ........ n_estimators=168, score=0.833034914950761, total=   1.3s\n",
      "[CV] n_estimators=169 ................................................\n",
      "[CV] ....... n_estimators=169, score=0.8363148479427549, total=   1.4s\n",
      "[CV] n_estimators=169 ................................................\n",
      "[CV] ....... n_estimators=169, score=0.8393017009847806, total=   1.3s\n",
      "[CV] n_estimators=169 ................................................\n",
      "[CV] ....... n_estimators=169, score=0.8325872873769025, total=   1.4s\n",
      "[CV] n_estimators=170 ................................................\n",
      "[CV] ....... n_estimators=170, score=0.8345259391771019, total=   1.3s\n",
      "[CV] n_estimators=170 ................................................\n",
      "[CV] ....... n_estimators=170, score=0.8388540734109221, total=   1.5s\n",
      "[CV] n_estimators=170 ................................................\n",
      "[CV] ....... n_estimators=170, score=0.8316920322291853, total=   1.4s\n",
      "[CV] n_estimators=171 ................................................\n",
      "[CV] ....... n_estimators=171, score=0.8345259391771019, total=   1.3s\n",
      "[CV] n_estimators=171 ................................................\n",
      "[CV] ....... n_estimators=171, score=0.8384064458370636, total=   1.3s\n",
      "[CV] n_estimators=171 ................................................\n",
      "[CV] ........ n_estimators=171, score=0.833930170098478, total=   1.4s\n",
      "[CV] n_estimators=172 ................................................\n",
      "[CV] ....... n_estimators=172, score=0.8322898032200358, total=   1.5s\n",
      "[CV] n_estimators=172 ................................................\n",
      "[CV] ....... n_estimators=172, score=0.8397493285586393, total=   1.4s\n",
      "[CV] n_estimators=172 ................................................\n",
      "[CV] ....... n_estimators=172, score=0.8348254252461952, total=   1.4s\n",
      "[CV] n_estimators=173 ................................................\n",
      "[CV] ....... n_estimators=173, score=0.8345259391771019, total=   1.4s\n",
      "[CV] n_estimators=173 ................................................\n",
      "[CV] ....... n_estimators=173, score=0.8393017009847806, total=   1.4s\n",
      "[CV] n_estimators=173 ................................................\n",
      "[CV] ....... n_estimators=173, score=0.8334825425246195, total=   1.5s\n",
      "[CV] n_estimators=174 ................................................\n",
      "[CV] ....... n_estimators=174, score=0.8354203935599285, total=   1.4s\n",
      "[CV] n_estimators=174 ................................................\n",
      "[CV] ....... n_estimators=174, score=0.8384064458370636, total=   1.4s\n",
      "[CV] n_estimators=174 ................................................\n",
      "[CV] ....... n_estimators=174, score=0.8316920322291853, total=   1.5s\n",
      "[CV] n_estimators=175 ................................................\n",
      "[CV] ....... n_estimators=175, score=0.8345259391771019, total=   1.3s\n",
      "[CV] n_estimators=175 ................................................\n",
      "[CV] ....... n_estimators=175, score=0.8388540734109221, total=   1.3s\n",
      "[CV] n_estimators=175 ................................................\n",
      "[CV] ....... n_estimators=175, score=0.8321396598030438, total=   1.4s\n",
      "[CV] n_estimators=176 ................................................\n",
      "[CV] ....... n_estimators=176, score=0.8345259391771019, total=   1.5s\n",
      "[CV] n_estimators=176 ................................................\n",
      "[CV] ....... n_estimators=176, score=0.8375111906893464, total=   1.4s\n",
      "[CV] n_estimators=176 ................................................\n",
      "[CV] ....... n_estimators=176, score=0.8303491495076096, total=   1.5s\n",
      "[CV] n_estimators=177 ................................................\n",
      "[CV] ....... n_estimators=177, score=0.8381037567084079, total=   1.3s\n",
      "[CV] n_estimators=177 ................................................\n"
     ]
    },
    {
     "name": "stdout",
     "output_type": "stream",
     "text": [
      "[CV] ....... n_estimators=177, score=0.8388540734109221, total=   1.5s\n",
      "[CV] n_estimators=177 ................................................\n",
      "[CV] ....... n_estimators=177, score=0.8312444046553268, total=   1.4s\n",
      "[CV] n_estimators=178 ................................................\n",
      "[CV] ....... n_estimators=178, score=0.8376565295169947, total=   1.5s\n",
      "[CV] n_estimators=178 ................................................\n",
      "[CV] ....... n_estimators=178, score=0.8384064458370636, total=   1.4s\n",
      "[CV] n_estimators=178 ................................................\n",
      "[CV] ....... n_estimators=178, score=0.8307967770814683, total=   1.4s\n",
      "[CV] n_estimators=179 ................................................\n",
      "[CV] ....... n_estimators=179, score=0.8345259391771019, total=   1.4s\n",
      "[CV] n_estimators=179 ................................................\n",
      "[CV] ....... n_estimators=179, score=0.8384064458370636, total=   1.4s\n",
      "[CV] n_estimators=179 ................................................\n",
      "[CV] ........ n_estimators=179, score=0.833034914950761, total=   1.4s\n",
      "[CV] n_estimators=180 ................................................\n",
      "[CV] ....... n_estimators=180, score=0.8354203935599285, total=   1.5s\n",
      "[CV] n_estimators=180 ................................................\n",
      "[CV] ....... n_estimators=180, score=0.8366159355416294, total=   1.4s\n",
      "[CV] n_estimators=180 ................................................\n",
      "[CV] ....... n_estimators=180, score=0.8325872873769025, total=   1.5s\n",
      "[CV] n_estimators=181 ................................................\n",
      "[CV] ....... n_estimators=181, score=0.8363148479427549, total=   1.4s\n",
      "[CV] n_estimators=181 ................................................\n",
      "[CV] ....... n_estimators=181, score=0.8388540734109221, total=   1.6s\n",
      "[CV] n_estimators=181 ................................................\n",
      "[CV] ....... n_estimators=181, score=0.8325872873769025, total=   1.6s\n",
      "[CV] n_estimators=182 ................................................\n",
      "[CV] ....... n_estimators=182, score=0.8358676207513417, total=   1.4s\n",
      "[CV] n_estimators=182 ................................................\n",
      "[CV] ....... n_estimators=182, score=0.8384064458370636, total=   1.5s\n",
      "[CV] n_estimators=182 ................................................\n",
      "[CV] ....... n_estimators=182, score=0.8316920322291853, total=   1.4s\n",
      "[CV] n_estimators=183 ................................................\n",
      "[CV] ....... n_estimators=183, score=0.8354203935599285, total=   1.5s\n",
      "[CV] n_estimators=183 ................................................\n",
      "[CV] ....... n_estimators=183, score=0.8370635631154879, total=   1.5s\n",
      "[CV] n_estimators=183 ................................................\n",
      "[CV] ....... n_estimators=183, score=0.8334825425246195, total=   1.5s\n",
      "[CV] n_estimators=184 ................................................\n",
      "[CV] ....... n_estimators=184, score=0.8363148479427549, total=   1.4s\n",
      "[CV] n_estimators=184 ................................................\n",
      "[CV] ....... n_estimators=184, score=0.8384064458370636, total=   1.6s\n",
      "[CV] n_estimators=184 ................................................\n",
      "[CV] ....... n_estimators=184, score=0.8312444046553268, total=   1.6s\n",
      "[CV] n_estimators=185 ................................................\n",
      "[CV] ....... n_estimators=185, score=0.8354203935599285, total=   1.8s\n",
      "[CV] n_estimators=185 ................................................\n",
      "[CV] ....... n_estimators=185, score=0.8401969561324978, total=   1.7s\n",
      "[CV] n_estimators=185 ................................................\n",
      "[CV] ....... n_estimators=185, score=0.8334825425246195, total=   1.9s\n",
      "[CV] n_estimators=186 ................................................\n",
      "[CV] ....... n_estimators=186, score=0.8358676207513417, total=   1.6s\n",
      "[CV] n_estimators=186 ................................................\n",
      "[CV] ....... n_estimators=186, score=0.8384064458370636, total=   1.5s\n",
      "[CV] n_estimators=186 ................................................\n",
      "[CV] ....... n_estimators=186, score=0.8325872873769025, total=   1.6s\n",
      "[CV] n_estimators=187 ................................................\n",
      "[CV] ....... n_estimators=187, score=0.8372093023255814, total=   1.5s\n",
      "[CV] n_estimators=187 ................................................\n",
      "[CV] ....... n_estimators=187, score=0.8397493285586393, total=   1.5s\n",
      "[CV] n_estimators=187 ................................................\n",
      "[CV] ....... n_estimators=187, score=0.8299015219337511, total=   1.6s\n",
      "[CV] n_estimators=188 ................................................\n",
      "[CV] ....... n_estimators=188, score=0.8349731663685152, total=   1.6s\n",
      "[CV] n_estimators=188 ................................................\n",
      "[CV] ....... n_estimators=188, score=0.8379588182632051, total=   1.6s\n",
      "[CV] n_estimators=188 ................................................\n",
      "[CV] ....... n_estimators=188, score=0.8303491495076096, total=   1.5s\n",
      "[CV] n_estimators=189 ................................................\n",
      "[CV] ....... n_estimators=189, score=0.8349731663685152, total=   1.5s\n",
      "[CV] n_estimators=189 ................................................\n",
      "[CV] ....... n_estimators=189, score=0.8384064458370636, total=   1.5s\n",
      "[CV] n_estimators=189 ................................................\n",
      "[CV] ....... n_estimators=189, score=0.8316920322291853, total=   1.6s\n",
      "[CV] n_estimators=190 ................................................\n",
      "[CV] ....... n_estimators=190, score=0.8363148479427549, total=   1.6s\n",
      "[CV] n_estimators=190 ................................................\n",
      "[CV] ....... n_estimators=190, score=0.8388540734109221, total=   1.6s\n",
      "[CV] n_estimators=190 ................................................\n",
      "[CV] ....... n_estimators=190, score=0.8316920322291853, total=   1.6s\n",
      "[CV] n_estimators=191 ................................................\n",
      "[CV] ....... n_estimators=191, score=0.8381037567084079, total=   1.5s\n",
      "[CV] n_estimators=191 ................................................\n",
      "[CV] ....... n_estimators=191, score=0.8384064458370636, total=   1.6s\n",
      "[CV] n_estimators=191 ................................................\n",
      "[CV] ....... n_estimators=191, score=0.8325872873769025, total=   1.6s\n",
      "[CV] n_estimators=192 ................................................\n",
      "[CV] ........ n_estimators=192, score=0.832737030411449, total=   1.5s\n",
      "[CV] n_estimators=192 ................................................\n",
      "[CV] ....... n_estimators=192, score=0.8379588182632051, total=   1.6s\n",
      "[CV] n_estimators=192 ................................................\n",
      "[CV] ....... n_estimators=192, score=0.8303491495076096, total=   1.6s\n",
      "[CV] n_estimators=193 ................................................\n",
      "[CV] ....... n_estimators=193, score=0.8345259391771019, total=   1.6s\n",
      "[CV] n_estimators=193 ................................................\n",
      "[CV] ....... n_estimators=193, score=0.8397493285586393, total=   1.7s\n",
      "[CV] n_estimators=193 ................................................\n",
      "[CV] ........ n_estimators=193, score=0.833930170098478, total=   1.7s\n",
      "[CV] n_estimators=194 ................................................\n",
      "[CV] ....... n_estimators=194, score=0.8358676207513417, total=   1.6s\n",
      "[CV] n_estimators=194 ................................................\n",
      "[CV] ....... n_estimators=194, score=0.8379588182632051, total=   1.6s\n",
      "[CV] n_estimators=194 ................................................\n",
      "[CV] ....... n_estimators=194, score=0.8325872873769025, total=   1.6s\n",
      "[CV] n_estimators=195 ................................................\n",
      "[CV] ....... n_estimators=195, score=0.8345259391771019, total=   1.6s\n",
      "[CV] n_estimators=195 ................................................\n",
      "[CV] ....... n_estimators=195, score=0.8393017009847806, total=   1.7s\n",
      "[CV] n_estimators=195 ................................................\n",
      "[CV] ........ n_estimators=195, score=0.833034914950761, total=   1.7s\n",
      "[CV] n_estimators=196 ................................................\n",
      "[CV] ....... n_estimators=196, score=0.8358676207513417, total=   1.6s\n",
      "[CV] n_estimators=196 ................................................\n",
      "[CV] ....... n_estimators=196, score=0.8388540734109221, total=   1.6s\n",
      "[CV] n_estimators=196 ................................................\n"
     ]
    },
    {
     "name": "stdout",
     "output_type": "stream",
     "text": [
      "[CV] ....... n_estimators=196, score=0.8325872873769025, total=   1.6s\n",
      "[CV] n_estimators=197 ................................................\n",
      "[CV] ....... n_estimators=197, score=0.8363148479427549, total=   1.6s\n",
      "[CV] n_estimators=197 ................................................\n",
      "[CV] ....... n_estimators=197, score=0.8379588182632051, total=   1.6s\n",
      "[CV] n_estimators=197 ................................................\n",
      "[CV] ....... n_estimators=197, score=0.8321396598030438, total=   1.6s\n",
      "[CV] n_estimators=198 ................................................\n",
      "[CV] ....... n_estimators=198, score=0.8354203935599285, total=   1.7s\n",
      "[CV] n_estimators=198 ................................................\n",
      "[CV] ....... n_estimators=198, score=0.8375111906893464, total=   1.7s\n",
      "[CV] n_estimators=198 ................................................\n",
      "[CV] ....... n_estimators=198, score=0.8299015219337511, total=   2.2s\n",
      "[CV] n_estimators=199 ................................................\n",
      "[CV] ....... n_estimators=199, score=0.8372093023255814, total=   2.0s\n",
      "[CV] n_estimators=199 ................................................\n",
      "[CV] ....... n_estimators=199, score=0.8384064458370636, total=   1.6s\n",
      "[CV] n_estimators=199 ................................................\n",
      "[CV] ....... n_estimators=199, score=0.8348254252461952, total=   1.8s\n",
      "[CV] n_estimators=200 ................................................\n",
      "[CV] ....... n_estimators=200, score=0.8336314847942755, total=   1.7s\n",
      "[CV] n_estimators=200 ................................................\n",
      "[CV] ....... n_estimators=200, score=0.8397493285586393, total=   1.7s\n",
      "[CV] n_estimators=200 ................................................\n",
      "[CV] ....... n_estimators=200, score=0.8312444046553268, total=   1.7s\n"
     ]
    },
    {
     "name": "stderr",
     "output_type": "stream",
     "text": [
      "[Parallel(n_jobs=1)]: Done 600 out of 600 | elapsed:  9.4min finished\n"
     ]
    },
    {
     "data": {
      "text/plain": [
       "GridSearchCV(cv=None, error_score='raise',\n",
       "       estimator=RandomForestClassifier(bootstrap=True, class_weight=None, criterion='gini',\n",
       "            max_depth=None, max_features='auto', max_leaf_nodes=None,\n",
       "            min_impurity_decrease=0.0, min_impurity_split=None,\n",
       "            min_samples_leaf=1, min_samples_split=2,\n",
       "            min_weight_fraction_leaf=0.0, n_estimators=10, n_jobs=1,\n",
       "            oob_score=False, random_state=None, verbose=0,\n",
       "            warm_start=False),\n",
       "       fit_params=None, iid=True, n_jobs=1,\n",
       "       param_grid={'n_estimators': array([  1,   2, ..., 199, 200])},\n",
       "       pre_dispatch='2*n_jobs', refit=True, return_train_score='warn',\n",
       "       scoring=None, verbose=3)"
      ]
     },
     "execution_count": 129,
     "metadata": {},
     "output_type": "execute_result"
    }
   ],
   "source": [
    "grid.fit(X1_train, y1_train)"
   ]
  },
  {
   "cell_type": "code",
   "execution_count": 144,
   "metadata": {},
   "outputs": [
    {
     "data": {
      "text/plain": [
       "RandomForestClassifier(bootstrap=True, class_weight=None, criterion='gini',\n",
       "            max_depth=None, max_features='auto', max_leaf_nodes=None,\n",
       "            min_impurity_decrease=0.0, min_impurity_split=None,\n",
       "            min_samples_leaf=1, min_samples_split=2,\n",
       "            min_weight_fraction_leaf=0.0, n_estimators=74, n_jobs=1,\n",
       "            oob_score=False, random_state=None, verbose=0,\n",
       "            warm_start=False)"
      ]
     },
     "execution_count": 144,
     "metadata": {},
     "output_type": "execute_result"
    }
   ],
   "source": [
    "grid.best_estimator_"
   ]
  },
  {
   "cell_type": "code",
   "execution_count": 165,
   "metadata": {},
   "outputs": [
    {
     "data": {
      "text/plain": [
       "array([0.73672434, 0.8175716 , 0.78147375, 0.81876492, 0.80593675,\n",
       "       0.82189737, 0.81772076, 0.82562649, 0.8226432 , 0.82816229,\n",
       "       0.82652148, 0.82801313, 0.82935561, 0.83129475, 0.82846062,\n",
       "       0.82950477, 0.82756563, 0.83054893, 0.82950477, 0.83129475,\n",
       "       0.83308473, 0.83129475, 0.83114558, 0.83218974, 0.83144391,\n",
       "       0.83397971, 0.83099642, 0.8323389 , 0.83412888, 0.8323389 ,\n",
       "       0.83427804, 0.83308473, 0.8327864 , 0.83427804, 0.83442721,\n",
       "       0.83427804, 0.83412888, 0.83338305, 0.83397971, 0.83636635,\n",
       "       0.83427804, 0.83248807, 0.83517303, 0.83397971, 0.83039976,\n",
       "       0.83621718, 0.83576969, 0.83368138, 0.83338305, 0.83427804,\n",
       "       0.83397971, 0.83353222, 0.83472554, 0.83547136, 0.83726134,\n",
       "       0.83457637, 0.8348747 , 0.83383055, 0.83412888, 0.83427804,\n",
       "       0.83472554, 0.8348747 , 0.83383055, 0.83457637, 0.83412888,\n",
       "       0.83711217, 0.83368138, 0.83427804, 0.83457637, 0.83576969,\n",
       "       0.83263723, 0.83412888, 0.83472554, 0.8374105 , 0.83547136,\n",
       "       0.83472554, 0.83442721, 0.83472554, 0.83591885, 0.83576969,\n",
       "       0.8374105 , 0.83606802, 0.8348747 , 0.8348747 , 0.83353222,\n",
       "       0.83666468, 0.83383055, 0.83606802, 0.83502387, 0.8348747 ,\n",
       "       0.83547136, 0.83651551, 0.83412888, 0.83412888, 0.83442721,\n",
       "       0.83547136, 0.83442721, 0.83383055, 0.8348747 , 0.83606802,\n",
       "       0.83591885, 0.83636635, 0.83442721, 0.8348747 , 0.83562053,\n",
       "       0.83562053, 0.83457637, 0.83397971, 0.83591885, 0.83368138,\n",
       "       0.8348747 , 0.83606802, 0.83666468, 0.83651551, 0.83517303,\n",
       "       0.83502387, 0.83368138, 0.83591885, 0.8348747 , 0.83517303,\n",
       "       0.83472554, 0.83502387, 0.83591885, 0.8353222 , 0.83517303,\n",
       "       0.83457637, 0.83576969, 0.83397971, 0.83562053, 0.83547136,\n",
       "       0.83681384, 0.83576969, 0.83562053, 0.83651551, 0.83368138,\n",
       "       0.8353222 , 0.83562053, 0.8348747 , 0.83621718, 0.83562053,\n",
       "       0.83547136, 0.83517303, 0.83576969, 0.83547136, 0.83442721,\n",
       "       0.83517303, 0.83636635, 0.8348747 , 0.83547136, 0.83368138,\n",
       "       0.83457637, 0.83562053, 0.83397971, 0.83412888, 0.83442721,\n",
       "       0.8353222 , 0.83636635, 0.83547136, 0.83427804, 0.83517303,\n",
       "       0.83442721, 0.83576969, 0.83651551, 0.83591885, 0.8348747 ,\n",
       "       0.8348747 , 0.83502387, 0.83606802, 0.83606802, 0.83502387,\n",
       "       0.83562053, 0.83562053, 0.83576969, 0.83517303, 0.83517303,\n",
       "       0.83412888, 0.83606802, 0.83562053, 0.8353222 , 0.8348747 ,\n",
       "       0.83591885, 0.8353222 , 0.8353222 , 0.8353222 , 0.83636635,\n",
       "       0.83562053, 0.83562053, 0.83442721, 0.83502387, 0.83562053,\n",
       "       0.83636635, 0.83368138, 0.83606802, 0.83547136, 0.83562053,\n",
       "       0.83576969, 0.83547136, 0.83427804, 0.83681384, 0.8348747 ])"
      ]
     },
     "execution_count": 165,
     "metadata": {},
     "output_type": "execute_result"
    }
   ],
   "source": [
    "grid.cv_results_['mean_test_score']"
   ]
  },
  {
   "cell_type": "code",
   "execution_count": 170,
   "metadata": {},
   "outputs": [
    {
     "data": {
      "text/plain": [
       "[<matplotlib.lines.Line2D at 0x15687cf8>]"
      ]
     },
     "execution_count": 170,
     "metadata": {},
     "output_type": "execute_result"
    },
    {
     "data": {
      "image/png": "[encoded data removed]",
      "text/plain": [
       "<Figure size 1080x432 with 1 Axes>"
      ]
     },
     "metadata": {},
     "output_type": "display_data"
    }
   ],
   "source": [
    "plt.figure(figsize=[15,6])\n",
    "plt.plot(np.arange(1,201), grid.cv_results_['mean_test_score'], marker='o', markersize=4)"
   ]
  },
  {
   "cell_type": "code",
   "execution_count": 132,
   "metadata": {},
   "outputs": [],
   "source": [
    "best_pred=grid.predict(X1_test)"
   ]
  },
  {
   "cell_type": "code",
   "execution_count": 133,
   "metadata": {},
   "outputs": [
    {
     "name": "stdout",
     "output_type": "stream",
     "text": [
      "             precision    recall  f1-score   support\n",
      "\n",
      "          0       0.85      1.00      0.92      2431\n",
      "          1       0.60      0.03      0.05       443\n",
      "\n",
      "avg / total       0.81      0.85      0.78      2874\n",
      "\n",
      "\n",
      "[[2423    8]\n",
      " [ 431   12]]\n"
     ]
    }
   ],
   "source": [
    "print(classification_report(y1_test, best_pred))\n",
    "print()\n",
    "print(confusion_matrix(y1_test, best_pred))"
   ]
  },
  {
   "cell_type": "markdown",
   "metadata": {},
   "source": [
    "# Great Job!"
   ]
  },
  {
   "cell_type": "code",
   "execution_count": null,
   "metadata": {},
   "outputs": [],
   "source": []
  }
 ],
 "metadata": {
  "kernelspec": {
   "display_name": "Python 3",
   "language": "python",
   "name": "python3"
  },
  "language_info": {
   "codemirror_mode": {
    "name": "ipython",
    "version": 3
   },
   "file_extension": ".py",
   "mimetype": "text/x-python",
   "name": "python",
   "nbconvert_exporter": "python",
   "pygments_lexer": "ipython3",
   "version": "3.6.5"
  }
 },
 "nbformat": 4,
 "nbformat_minor": 1
}
