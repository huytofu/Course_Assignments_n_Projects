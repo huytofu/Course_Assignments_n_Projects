{
 "cells": [
  {
   "cell_type": "markdown",
   "metadata": {},
   "source": [
    "<br><br><br><br><br><h1 style=\"font-size:4em;color:#2467C0\">Welcome to Week 3</h1><br><br><br>"
   ]
  },
  {
   "cell_type": "markdown",
   "metadata": {},
   "source": [
    "\n",
    "<p style=\"line-height:31px;\">This document provides a running example of completing the Week 3 assignment : </p>\n",
    "<ul class=\"simple\">\n",
    "<li style=\"line-height:31px;\">You can then copy paste the commands below in pySpark. </li>\n",
    "<li style=\"line-height:31px;\">To open pySpark, type pyspark and hit enter</li>\n",
    "<br>\n",
    "Finally, make sure that your working directory contains the data file(s) (.csv) for the fastest support. <br><br> We recommend workng in your home directory (type cd ~ in your terminal). Please run any scripts using your terminal for proper settings\n",
    "<br>"
   ]
  },
  {
   "cell_type": "markdown",
   "metadata": {},
   "source": [
    "<p style=\"font-family: Arial; font-size:1.5em;color:#2462C0; font-style:bold\">\n",
    "<br><br><br>\n",
    "To run these commands in Cloudera VM: first run the setup script: setupWeek3.sh</p>"
   ]
  },
  {
   "cell_type": "code",
   "execution_count": 1,
   "metadata": {},
   "outputs": [],
   "source": [
    "from pyspark import SparkContext\n",
    "from pyspark.sql import SQLContext\n",
    "from pyspark.ml.clustering import KMeans\n",
    "from pyspark.ml.feature import VectorAssembler\n",
    "from pyspark.ml.feature import StandardScaler"
   ]
  },
  {
   "cell_type": "markdown",
   "metadata": {},
   "source": [
    "<br><br>\n",
    "\n",
    "<p style=\"font-family: Arial; font-size:1.5em;color:#2462C0; font-style:bold\">\n",
    "\n",
    "Import Data\n",
    "</p>\n",
    "\n",
    " "
   ]
  },
  {
   "cell_type": "markdown",
   "metadata": {},
   "source": [
    "<br><br>\n",
    "<div style=\"color:black;font-family: Arial; font-size:1.1em;line-height:65%\">\n",
    "\n",
    "<p style=\"line-height:31px;\">First let us read the contents of the file w3_clustering.csv. The following commands read in the CSV file <br> in a table format. <br><br>\n",
    "\n",
    "\n",
    "If you want to run this command on your machine: Note that you must change the path in the following <br>\n",
    "command to 'w3_clustering.csv' to point to the location on your local machine.\n",
    "</p>\n",
    "\n",
    "</div>\n",
    "\n",
    "<br><br><br><br>"
   ]
  },
  {
   "cell_type": "code",
   "execution_count": 2,
   "metadata": {},
   "outputs": [],
   "source": [
    "sc = SparkContext()\n",
    "sqlContext = SQLContext(sc)\n",
    "data = sqlContext.read.load('Data_For_Clustering_3_Features.csv', \n",
    "                          format='com.databricks.spark.csv', \n",
    "                          header='true',inferSchema='true')"
   ]
  },
  {
   "cell_type": "code",
   "execution_count": 3,
   "metadata": {},
   "outputs": [
    {
     "data": {
      "text/html": [
       "<div>\n",
       "<style scoped>\n",
       "    .dataframe tbody tr th:only-of-type {\n",
       "        vertical-align: middle;\n",
       "    }\n",
       "\n",
       "    .dataframe tbody tr th {\n",
       "        vertical-align: top;\n",
       "    }\n",
       "\n",
       "    .dataframe thead th {\n",
       "        text-align: right;\n",
       "    }\n",
       "</style>\n",
       "<table border=\"1\" class=\"dataframe\">\n",
       "  <thead>\n",
       "    <tr style=\"text-align: right;\">\n",
       "      <th></th>\n",
       "      <th>userId</th>\n",
       "      <th>purchase_per_adclick</th>\n",
       "      <th>avg_session_duration</th>\n",
       "      <th>hit_rate</th>\n",
       "    </tr>\n",
       "  </thead>\n",
       "  <tbody>\n",
       "    <tr>\n",
       "      <th>0</th>\n",
       "      <td>0</td>\n",
       "      <td>0.000000</td>\n",
       "      <td>2632.500000</td>\n",
       "      <td>0.105535</td>\n",
       "    </tr>\n",
       "    <tr>\n",
       "      <th>1</th>\n",
       "      <td>1</td>\n",
       "      <td>0.477273</td>\n",
       "      <td>3750.988095</td>\n",
       "      <td>0.134078</td>\n",
       "    </tr>\n",
       "    <tr>\n",
       "      <th>2</th>\n",
       "      <td>2</td>\n",
       "      <td>0.000000</td>\n",
       "      <td>3834.000000</td>\n",
       "      <td>0.095238</td>\n",
       "    </tr>\n",
       "    <tr>\n",
       "      <th>3</th>\n",
       "      <td>6</td>\n",
       "      <td>0.000000</td>\n",
       "      <td>4470.000000</td>\n",
       "      <td>0.105960</td>\n",
       "    </tr>\n",
       "    <tr>\n",
       "      <th>4</th>\n",
       "      <td>8</td>\n",
       "      <td>5.300000</td>\n",
       "      <td>2400.000000</td>\n",
       "      <td>0.100000</td>\n",
       "    </tr>\n",
       "  </tbody>\n",
       "</table>\n",
       "</div>"
      ],
      "text/plain": [
       "   userId  purchase_per_adclick  avg_session_duration  hit_rate\n",
       "0       0              0.000000           2632.500000  0.105535\n",
       "1       1              0.477273           3750.988095  0.134078\n",
       "2       2              0.000000           3834.000000  0.095238\n",
       "3       6              0.000000           4470.000000  0.105960\n",
       "4       8              5.300000           2400.000000  0.100000"
      ]
     },
     "execution_count": 3,
     "metadata": {},
     "output_type": "execute_result"
    }
   ],
   "source": [
    "data.toPandas().head()"
   ]
  },
  {
   "cell_type": "markdown",
   "metadata": {},
   "source": [
    "<br><br>\n",
    "\n",
    " \n",
    "<p style=\"font-family: Arial; font-size:1.5em;color:#2462C0; font-style:bold\">\n",
    "\n",
    "Let us display the number of lines in the data:\n",
    "\n",
    "</p>\n",
    "\n",
    "<br><br>"
   ]
  },
  {
   "cell_type": "code",
   "execution_count": 4,
   "metadata": {},
   "outputs": [
    {
     "data": {
      "text/plain": [
       "1193"
      ]
     },
     "execution_count": 4,
     "metadata": {},
     "output_type": "execute_result"
    }
   ],
   "source": [
    "data.count()"
   ]
  },
  {
   "cell_type": "markdown",
   "metadata": {},
   "source": [
    "<br><br>\n",
    "\n",
    " \n",
    "<p style=\"font-family: Arial; font-size:1.5em;color:#2462C0; font-style:bold\">\n",
    "\n",
    "What does the data contain ?\n",
    "</p>\n",
    "\n",
    " \n",
    "<br><br>"
   ]
  },
  {
   "cell_type": "code",
   "execution_count": 5,
   "metadata": {},
   "outputs": [
    {
     "data": {
      "text/plain": [
       "DataFrame[userId: int, purchase_per_adclick: double, avg_session_duration: double, hit_rate: double]"
      ]
     },
     "execution_count": 5,
     "metadata": {},
     "output_type": "execute_result"
    }
   ],
   "source": [
    "data"
   ]
  },
  {
   "cell_type": "markdown",
   "metadata": {},
   "source": [
    "<br><br>\n",
    "\n",
    " \n",
    "<p style=\"font-family: Arial; font-size:1.5em;color:#2462C0; font-style:bold\">\n",
    "\n",
    "Statistics about the data:\n",
    "</p>\n",
    "\n",
    " \n",
    "<br><br>"
   ]
  },
  {
   "cell_type": "code",
   "execution_count": 6,
   "metadata": {},
   "outputs": [
    {
     "data": {
      "text/html": [
       "<div>\n",
       "<style scoped>\n",
       "    .dataframe tbody tr th:only-of-type {\n",
       "        vertical-align: middle;\n",
       "    }\n",
       "\n",
       "    .dataframe tbody tr th {\n",
       "        vertical-align: top;\n",
       "    }\n",
       "\n",
       "    .dataframe thead th {\n",
       "        text-align: right;\n",
       "    }\n",
       "</style>\n",
       "<table border=\"1\" class=\"dataframe\">\n",
       "  <thead>\n",
       "    <tr style=\"text-align: right;\">\n",
       "      <th></th>\n",
       "      <th>0</th>\n",
       "      <th>1</th>\n",
       "      <th>2</th>\n",
       "      <th>3</th>\n",
       "      <th>4</th>\n",
       "    </tr>\n",
       "  </thead>\n",
       "  <tbody>\n",
       "    <tr>\n",
       "      <th>summary</th>\n",
       "      <td>count</td>\n",
       "      <td>mean</td>\n",
       "      <td>stddev</td>\n",
       "      <td>min</td>\n",
       "      <td>max</td>\n",
       "    </tr>\n",
       "    <tr>\n",
       "      <th>userId</th>\n",
       "      <td>1193</td>\n",
       "      <td>1194.1458507963118</td>\n",
       "      <td>694.8750700218611</td>\n",
       "      <td>0</td>\n",
       "      <td>2389</td>\n",
       "    </tr>\n",
       "    <tr>\n",
       "      <th>purchase_per_adclick</th>\n",
       "      <td>1193</td>\n",
       "      <td>0.7322594954872469</td>\n",
       "      <td>1.5638370519652285</td>\n",
       "      <td>0.0</td>\n",
       "      <td>25.0</td>\n",
       "    </tr>\n",
       "    <tr>\n",
       "      <th>avg_session_duration</th>\n",
       "      <td>1193</td>\n",
       "      <td>3185.4634869410183</td>\n",
       "      <td>1365.7021428549751</td>\n",
       "      <td>0.0</td>\n",
       "      <td>5880.0</td>\n",
       "    </tr>\n",
       "    <tr>\n",
       "      <th>hit_rate</th>\n",
       "      <td>1193</td>\n",
       "      <td>0.1109326830553271</td>\n",
       "      <td>0.029146254454120384</td>\n",
       "      <td>0.0</td>\n",
       "      <td>0.5</td>\n",
       "    </tr>\n",
       "  </tbody>\n",
       "</table>\n",
       "</div>"
      ],
      "text/plain": [
       "                          0                   1                     2    3  \\\n",
       "summary               count                mean                stddev  min   \n",
       "userId                 1193  1194.1458507963118     694.8750700218611    0   \n",
       "purchase_per_adclick   1193  0.7322594954872469    1.5638370519652285  0.0   \n",
       "avg_session_duration   1193  3185.4634869410183    1365.7021428549751  0.0   \n",
       "hit_rate               1193  0.1109326830553271  0.029146254454120384  0.0   \n",
       "\n",
       "                           4  \n",
       "summary                  max  \n",
       "userId                  2389  \n",
       "purchase_per_adclick    25.0  \n",
       "avg_session_duration  5880.0  \n",
       "hit_rate                 0.5  "
      ]
     },
     "execution_count": 6,
     "metadata": {},
     "output_type": "execute_result"
    }
   ],
   "source": [
    "data.describe().toPandas().transpose()"
   ]
  },
  {
   "cell_type": "markdown",
   "metadata": {},
   "source": [
    "<br><br>\n",
    "\n",
    " \n",
    "<p style=\"font-family: Arial; font-size:1.5em;color:#2462C0; font-style:bold\">\n",
    "\n",
    "Drop all rows with NULL or NaN values\n",
    "\n",
    "</p>\n",
    "\n",
    " \n",
    "<br><br>"
   ]
  },
  {
   "cell_type": "code",
   "execution_count": 7,
   "metadata": {},
   "outputs": [],
   "source": [
    "data = data.na.drop()"
   ]
  },
  {
   "cell_type": "markdown",
   "metadata": {},
   "source": [
    "<br><br>\n",
    "\n",
    " \n",
    "<p style=\"font-family: Arial; font-size:1.5em;color:#2462C0; font-style:bold\">\n",
    "\n",
    "Let us look at the column names:\n",
    "\n",
    "</p>\n",
    "\n",
    " \n",
    " \n",
    "<br><br>"
   ]
  },
  {
   "cell_type": "code",
   "execution_count": 8,
   "metadata": {},
   "outputs": [
    {
     "data": {
      "text/plain": [
       "['userId', 'purchase_per_adclick', 'avg_session_duration', 'hit_rate']"
      ]
     },
     "execution_count": 8,
     "metadata": {},
     "output_type": "execute_result"
    }
   ],
   "source": [
    "data.columns"
   ]
  },
  {
   "cell_type": "markdown",
   "metadata": {},
   "source": [
    "<br><br>\n",
    "\n",
    " \n",
    "<p style=\"font-family: Arial; font-size:1.5em;color:#2462C0; font-style:bold\">\n",
    "\n",
    "Use VectorAssembler to gather all the features:\n",
    "\n",
    "</p>\n",
    "\n",
    " \n",
    "<br><br>"
   ]
  },
  {
   "cell_type": "code",
   "execution_count": 9,
   "metadata": {},
   "outputs": [],
   "source": [
    "featuresUsed = ['purchase_per_adclick', 'avg_session_duration', 'hit_rate']\n",
    "assembler = VectorAssembler(inputCols=featuresUsed, outputCol=\"features_unscaled\")\n",
    "assembled = assembler.transform(data)"
   ]
  },
  {
   "cell_type": "markdown",
   "metadata": {},
   "source": [
    "<br><br>\n",
    "\n",
    " \n",
    "<p style=\"font-family: Arial; font-size:1.5em;color:#2462C0; font-style:bold\">\n",
    "\n",
    "Scale the features using StandardScaler:\n",
    "\n",
    "</p>\n",
    "\n",
    " \n",
    "<br><br>"
   ]
  },
  {
   "cell_type": "code",
   "execution_count": 10,
   "metadata": {},
   "outputs": [],
   "source": [
    "scaler = StandardScaler(inputCol=\"features_unscaled\", outputCol=\"features\", withStd=True, withMean=True)\n",
    "scalerModel = scaler.fit(assembled)\n",
    "scaledData = scalerModel.transform(assembled)"
   ]
  },
  {
   "cell_type": "markdown",
   "metadata": {},
   "source": [
    "<br><br>\n",
    "\n",
    " \n",
    "<p style=\"font-family: Arial; font-size:1.5em;color:#2462C0; font-style:bold\">\n",
    "\n",
    "Select the features column make the data persist:\n",
    "\n",
    "</p>\n",
    "\n",
    " \n",
    "<br><br>"
   ]
  },
  {
   "cell_type": "code",
   "execution_count": 11,
   "metadata": {},
   "outputs": [
    {
     "data": {
      "text/plain": [
       "DataFrame[features: vector]"
      ]
     },
     "execution_count": 11,
     "metadata": {},
     "output_type": "execute_result"
    }
   ],
   "source": [
    "scaledData = scaledData.select(\"features\")\n",
    "scaledData.persist()"
   ]
  },
  {
   "cell_type": "markdown",
   "metadata": {},
   "source": [
    "<br><br>\n",
    "\n",
    " \n",
    "<p style=\"font-family: Arial; font-size:1.5em;color:#2462C0; font-style:bold\">\n",
    "\n",
    "We can now perform KMeans clustering to generate 2 clusters:\n",
    "</p>\n",
    "\n",
    " \n",
    "<br><br>"
   ]
  },
  {
   "cell_type": "code",
   "execution_count": 12,
   "metadata": {},
   "outputs": [],
   "source": [
    "kmeans = KMeans(k=4, seed=1)\n",
    "model = kmeans.fit(scaledData)\n",
    "transformed = model.transform(scaledData)"
   ]
  },
  {
   "cell_type": "markdown",
   "metadata": {},
   "source": [
    "<br><br>\n",
    "\n",
    " \n",
    "<p style=\"font-family: Arial; font-size:1.5em;color:#2462C0; font-style:bold\">\n",
    "\n",
    "Print the center of these two clusters:\n",
    "\n",
    "</p>\n",
    "\n",
    " \n",
    "<br><br>"
   ]
  },
  {
   "cell_type": "code",
   "execution_count": 13,
   "metadata": {},
   "outputs": [
    {
     "data": {
      "text/plain": [
       "[array([-0.21903156,  0.43540912, -0.0538909 ]),\n",
       " array([-0.32941065, -1.7305019 , -0.42341042]),\n",
       " array([-0.46824539, -2.23297675,  4.92736511]),\n",
       " array([2.3048937 , 0.09565116, 0.41877504])]"
      ]
     },
     "execution_count": 13,
     "metadata": {},
     "output_type": "execute_result"
    }
   ],
   "source": [
    "centers = model.clusterCenters()\n",
    "centers"
   ]
  },
  {
   "cell_type": "code",
   "execution_count": 14,
   "metadata": {},
   "outputs": [
    {
     "name": "stdout",
     "output_type": "stream",
     "text": [
      "Center of cluster number 1\n",
      "purchase_per_adclick = -0.2190\n",
      "avg_session_duration = 0.4354\n",
      "hit_rate = -0.0539\n",
      "\n",
      "Center of cluster number 2\n",
      "purchase_per_adclick = -0.3294\n",
      "avg_session_duration = -1.7305\n",
      "hit_rate = -0.4234\n",
      "\n",
      "Center of cluster number 3\n",
      "purchase_per_adclick = -0.4682\n",
      "avg_session_duration = -2.2330\n",
      "hit_rate = 4.9274\n",
      "\n",
      "Center of cluster number 4\n",
      "purchase_per_adclick = 2.3049\n",
      "avg_session_duration = 0.0957\n",
      "hit_rate = 0.4188\n",
      "\n"
     ]
    }
   ],
   "source": [
    "for i in range(4):\n",
    "    print('Center of cluster number {}'.format(i+1))\n",
    "    for j in range(3):\n",
    "        print('{} = {:.4f}'.format(featuresUsed[j], centers[i][j]))\n",
    "    print()"
   ]
  },
  {
   "cell_type": "markdown",
   "metadata": {},
   "source": [
    "<br><br>\n",
    "\n",
    " \n",
    "<p style=\"font-family: Arial; font-size:1.5em;color:#2462C0; font-style:bold\">\n",
    "\n",
    "Analyze center of these two clusters:\n",
    "\n",
    "</p>\n",
    "\n",
    " \n",
    "<br><br>"
   ]
  },
  {
   "cell_type": "markdown",
   "metadata": {},
   "source": [
    "\n",
    "<div style=\"color:black;font-family: Arial; font-size:1.1em;line-height:65%\">\n",
    "\n",
    "<p style=\"line-height:31px;\">Each array denotes the center for a cluster:<br><br>\n",
    "One Cluster is centered at   ... array([ 0.84174521,  0.51884657])<br>\n",
    "Other Cluster is centered at   ... array([-0.79780796, -0.49176392])</p>\n",
    "\n",
    "<br><br>\n",
    "\n",
    "<p style=\"line-height:31px;\"> First number (field1) in each array refers to scaled verson of the number of ad-clicks and the second number (field2) is the scaled version of the revenue per user.\n",
    "\n",
    "Compare the 1st number of each cluster to see how differently users in each cluster behave when it comes to clicking ads.\n",
    "\n",
    "Compare the 2nd number of each cluster to see how differently users in each cluster behave when it comes to buying stuff. \n",
    "\n",
    "</p><br><br>\n",
    "\n",
    "<p style=\"line-height:31px;\">In one cluster, in general, players click on ads much more often and spend more money on in-app purchases. Assuming that Eglence Inc. gets paid for showing ads and for hosting in-app purchase items, we can use this information to increase game's revenue by increasing the prices for ads we show to the frequent-clickers, and charge higher fees for hosting the in-app purchase items shown to the higher revenue generating buyers.</p>\n",
    "\n",
    "<br><br>\n",
    "<p style=\"line-height:31px;\"> <b> Note: </b>  This analysis requires you to compare the cluster centers and find any ‘significant’ differences in the corresponding feature values of the  centers. The answer to this question will depend on the features you have chosen. <br><br> Some features help distinguish the clusters remarkably while others may not tell you much. At this point, if you don’t find clear distinguishing patterns, perhaps re-running the clustering model with different numbers of clusters and revising the features you picked would be a good idea. </p>\n",
    "\n",
    "</div>\n"
   ]
  },
  {
   "cell_type": "code",
   "execution_count": null,
   "metadata": {},
   "outputs": [],
   "source": []
  }
 ],
 "metadata": {
  "kernelspec": {
   "display_name": "Python 3",
   "language": "python",
   "name": "python3"
  },
  "language_info": {
   "codemirror_mode": {
    "name": "ipython",
    "version": 3
   },
   "file_extension": ".py",
   "mimetype": "text/x-python",
   "name": "python",
   "nbconvert_exporter": "python",
   "pygments_lexer": "ipython3",
   "version": "3.6.5"
  }
 },
 "nbformat": 4,
 "nbformat_minor": 1
}
