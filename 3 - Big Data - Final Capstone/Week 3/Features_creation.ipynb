{
 "cells": [
  {
   "cell_type": "markdown",
   "metadata": {},
   "source": [
    "# Creating money spent per ad click"
   ]
  },
  {
   "cell_type": "code",
   "execution_count": 1,
   "metadata": {},
   "outputs": [],
   "source": [
    "import pandas as pd"
   ]
  },
  {
   "cell_type": "code",
   "execution_count": 2,
   "metadata": {},
   "outputs": [],
   "source": [
    "ad_clicks = pd.read_csv('ad-clicks.csv')\n",
    "buy_clicks = pd.read_csv('buy-clicks.csv')"
   ]
  },
  {
   "cell_type": "code",
   "execution_count": 3,
   "metadata": {},
   "outputs": [
    {
     "data": {
      "text/plain": [
       "userId\n",
       "1     44\n",
       "8     10\n",
       "9     37\n",
       "10    19\n",
       "12    46\n",
       "Name: txId, dtype: int64"
      ]
     },
     "execution_count": 3,
     "metadata": {},
     "output_type": "execute_result"
    }
   ],
   "source": [
    "total_adclicks_per_user = ad_clicks.groupby(by='userId').count()['txId']\n",
    "total_adclicks_per_user.head()"
   ]
  },
  {
   "cell_type": "code",
   "execution_count": 4,
   "metadata": {},
   "outputs": [
    {
     "data": {
      "text/plain": [
       "userId\n",
       "1      21.0\n",
       "8      53.0\n",
       "9      80.0\n",
       "10     11.0\n",
       "12    215.0\n",
       "Name: price, dtype: float64"
      ]
     },
     "execution_count": 4,
     "metadata": {},
     "output_type": "execute_result"
    }
   ],
   "source": [
    "purchase_per_user = buy_clicks.groupby('userId').price.sum()\n",
    "purchase_per_user.head()"
   ]
  },
  {
   "cell_type": "code",
   "execution_count": 5,
   "metadata": {},
   "outputs": [],
   "source": [
    "df_combined = pd.concat([total_adclicks_per_user, purchase_per_user], axis=1)\n",
    "df_combined['purchase_per_click'] = df_combined.price/df_combined.txId\n",
    "purchase_per_adclick_per_user  = df_combined.purchase_per_click"
   ]
  },
  {
   "cell_type": "code",
   "execution_count": 6,
   "metadata": {},
   "outputs": [
    {
     "data": {
      "text/plain": [
       "userId\n",
       "1     0.477273\n",
       "8     5.300000\n",
       "9     2.162162\n",
       "10    0.578947\n",
       "12    4.673913\n",
       "Name: purchase_per_click, dtype: float64"
      ]
     },
     "execution_count": 6,
     "metadata": {},
     "output_type": "execute_result"
    }
   ],
   "source": [
    "purchase_per_adclick_per_user.head()"
   ]
  },
  {
   "cell_type": "markdown",
   "metadata": {},
   "source": [
    "# Creating average session length"
   ]
  },
  {
   "cell_type": "code",
   "execution_count": 7,
   "metadata": {},
   "outputs": [
    {
     "data": {
      "text/html": [
       "<div>\n",
       "<style scoped>\n",
       "    .dataframe tbody tr th:only-of-type {\n",
       "        vertical-align: middle;\n",
       "    }\n",
       "\n",
       "    .dataframe tbody tr th {\n",
       "        vertical-align: top;\n",
       "    }\n",
       "\n",
       "    .dataframe thead th {\n",
       "        text-align: right;\n",
       "    }\n",
       "</style>\n",
       "<table border=\"1\" class=\"dataframe\">\n",
       "  <thead>\n",
       "    <tr style=\"text-align: right;\">\n",
       "      <th></th>\n",
       "      <th>timestamp</th>\n",
       "      <th>userSessionId</th>\n",
       "      <th>userId</th>\n",
       "      <th>teamId</th>\n",
       "      <th>assignmentId</th>\n",
       "      <th>sessionType</th>\n",
       "      <th>teamLevel</th>\n",
       "      <th>platformType</th>\n",
       "    </tr>\n",
       "  </thead>\n",
       "  <tbody>\n",
       "    <tr>\n",
       "      <th>0</th>\n",
       "      <td>2016-05-26 14:47:30</td>\n",
       "      <td>5675</td>\n",
       "      <td>170</td>\n",
       "      <td>90</td>\n",
       "      <td>5423</td>\n",
       "      <td>start</td>\n",
       "      <td>1</td>\n",
       "      <td>iphone</td>\n",
       "    </tr>\n",
       "    <tr>\n",
       "      <th>1</th>\n",
       "      <td>2016-05-27 00:06:54</td>\n",
       "      <td>5675</td>\n",
       "      <td>170</td>\n",
       "      <td>90</td>\n",
       "      <td>5423</td>\n",
       "      <td>end</td>\n",
       "      <td>1</td>\n",
       "      <td>iphone</td>\n",
       "    </tr>\n",
       "    <tr>\n",
       "      <th>2</th>\n",
       "      <td>2016-05-26 14:43:09</td>\n",
       "      <td>5795</td>\n",
       "      <td>835</td>\n",
       "      <td>39</td>\n",
       "      <td>5300</td>\n",
       "      <td>start</td>\n",
       "      <td>1</td>\n",
       "      <td>android</td>\n",
       "    </tr>\n",
       "    <tr>\n",
       "      <th>3</th>\n",
       "      <td>2016-05-27 08:06:54</td>\n",
       "      <td>5795</td>\n",
       "      <td>835</td>\n",
       "      <td>39</td>\n",
       "      <td>5300</td>\n",
       "      <td>end</td>\n",
       "      <td>1</td>\n",
       "      <td>android</td>\n",
       "    </tr>\n",
       "    <tr>\n",
       "      <th>4</th>\n",
       "      <td>2016-05-26 14:47:20</td>\n",
       "      <td>5833</td>\n",
       "      <td>624</td>\n",
       "      <td>2</td>\n",
       "      <td>5529</td>\n",
       "      <td>start</td>\n",
       "      <td>1</td>\n",
       "      <td>iphone</td>\n",
       "    </tr>\n",
       "  </tbody>\n",
       "</table>\n",
       "</div>"
      ],
      "text/plain": [
       "             timestamp  userSessionId  userId  teamId  assignmentId  \\\n",
       "0  2016-05-26 14:47:30           5675     170      90          5423   \n",
       "1  2016-05-27 00:06:54           5675     170      90          5423   \n",
       "2  2016-05-26 14:43:09           5795     835      39          5300   \n",
       "3  2016-05-27 08:06:54           5795     835      39          5300   \n",
       "4  2016-05-26 14:47:20           5833     624       2          5529   \n",
       "\n",
       "  sessionType  teamLevel platformType  \n",
       "0       start          1       iphone  \n",
       "1         end          1       iphone  \n",
       "2       start          1      android  \n",
       "3         end          1      android  \n",
       "4       start          1       iphone  "
      ]
     },
     "execution_count": 7,
     "metadata": {},
     "output_type": "execute_result"
    }
   ],
   "source": [
    "user_session = pd.read_csv('user-session.csv')\n",
    "user_session.head()"
   ]
  },
  {
   "cell_type": "code",
   "execution_count": 8,
   "metadata": {},
   "outputs": [
    {
     "data": {
      "text/html": [
       "<div>\n",
       "<style scoped>\n",
       "    .dataframe tbody tr th:only-of-type {\n",
       "        vertical-align: middle;\n",
       "    }\n",
       "\n",
       "    .dataframe tbody tr th {\n",
       "        vertical-align: top;\n",
       "    }\n",
       "\n",
       "    .dataframe thead th {\n",
       "        text-align: right;\n",
       "    }\n",
       "</style>\n",
       "<table border=\"1\" class=\"dataframe\">\n",
       "  <thead>\n",
       "    <tr style=\"text-align: right;\">\n",
       "      <th></th>\n",
       "      <th>timestamp_x</th>\n",
       "      <th>userSessionId</th>\n",
       "      <th>userId</th>\n",
       "      <th>teamId_x</th>\n",
       "      <th>assignmentId_x</th>\n",
       "      <th>sessionType_x</th>\n",
       "      <th>teamLevel_x</th>\n",
       "      <th>platformType_x</th>\n",
       "      <th>timestamp_y</th>\n",
       "      <th>teamId_y</th>\n",
       "      <th>assignmentId_y</th>\n",
       "      <th>sessionType_y</th>\n",
       "      <th>teamLevel_y</th>\n",
       "      <th>platformType_y</th>\n",
       "    </tr>\n",
       "  </thead>\n",
       "  <tbody>\n",
       "    <tr>\n",
       "      <th>0</th>\n",
       "      <td>2016-05-26 14:47:30</td>\n",
       "      <td>5675</td>\n",
       "      <td>170</td>\n",
       "      <td>90</td>\n",
       "      <td>5423</td>\n",
       "      <td>start</td>\n",
       "      <td>1</td>\n",
       "      <td>iphone</td>\n",
       "      <td>2016-05-27 00:06:54</td>\n",
       "      <td>90</td>\n",
       "      <td>5423</td>\n",
       "      <td>end</td>\n",
       "      <td>1</td>\n",
       "      <td>iphone</td>\n",
       "    </tr>\n",
       "    <tr>\n",
       "      <th>1</th>\n",
       "      <td>2016-05-26 14:43:09</td>\n",
       "      <td>5795</td>\n",
       "      <td>835</td>\n",
       "      <td>39</td>\n",
       "      <td>5300</td>\n",
       "      <td>start</td>\n",
       "      <td>1</td>\n",
       "      <td>android</td>\n",
       "      <td>2016-05-27 08:06:54</td>\n",
       "      <td>39</td>\n",
       "      <td>5300</td>\n",
       "      <td>end</td>\n",
       "      <td>1</td>\n",
       "      <td>android</td>\n",
       "    </tr>\n",
       "    <tr>\n",
       "      <th>2</th>\n",
       "      <td>2016-05-26 14:47:20</td>\n",
       "      <td>5833</td>\n",
       "      <td>624</td>\n",
       "      <td>2</td>\n",
       "      <td>5529</td>\n",
       "      <td>start</td>\n",
       "      <td>1</td>\n",
       "      <td>iphone</td>\n",
       "      <td>2016-05-27 23:06:54</td>\n",
       "      <td>2</td>\n",
       "      <td>5529</td>\n",
       "      <td>end</td>\n",
       "      <td>1</td>\n",
       "      <td>iphone</td>\n",
       "    </tr>\n",
       "    <tr>\n",
       "      <th>3</th>\n",
       "      <td>2016-05-26 14:37:33</td>\n",
       "      <td>5877</td>\n",
       "      <td>514</td>\n",
       "      <td>2</td>\n",
       "      <td>5528</td>\n",
       "      <td>start</td>\n",
       "      <td>1</td>\n",
       "      <td>windows</td>\n",
       "      <td>2016-05-27 23:06:54</td>\n",
       "      <td>2</td>\n",
       "      <td>5528</td>\n",
       "      <td>end</td>\n",
       "      <td>1</td>\n",
       "      <td>windows</td>\n",
       "    </tr>\n",
       "    <tr>\n",
       "      <th>4</th>\n",
       "      <td>2016-05-26 14:36:55</td>\n",
       "      <td>5902</td>\n",
       "      <td>2103</td>\n",
       "      <td>2</td>\n",
       "      <td>5527</td>\n",
       "      <td>start</td>\n",
       "      <td>1</td>\n",
       "      <td>iphone</td>\n",
       "      <td>2016-05-27 23:06:54</td>\n",
       "      <td>2</td>\n",
       "      <td>5527</td>\n",
       "      <td>end</td>\n",
       "      <td>1</td>\n",
       "      <td>iphone</td>\n",
       "    </tr>\n",
       "  </tbody>\n",
       "</table>\n",
       "</div>"
      ],
      "text/plain": [
       "           timestamp_x  userSessionId  userId  teamId_x  assignmentId_x  \\\n",
       "0  2016-05-26 14:47:30           5675     170        90            5423   \n",
       "1  2016-05-26 14:43:09           5795     835        39            5300   \n",
       "2  2016-05-26 14:47:20           5833     624         2            5529   \n",
       "3  2016-05-26 14:37:33           5877     514         2            5528   \n",
       "4  2016-05-26 14:36:55           5902    2103         2            5527   \n",
       "\n",
       "  sessionType_x  teamLevel_x platformType_x          timestamp_y  teamId_y  \\\n",
       "0         start            1         iphone  2016-05-27 00:06:54        90   \n",
       "1         start            1        android  2016-05-27 08:06:54        39   \n",
       "2         start            1         iphone  2016-05-27 23:06:54         2   \n",
       "3         start            1        windows  2016-05-27 23:06:54         2   \n",
       "4         start            1         iphone  2016-05-27 23:06:54         2   \n",
       "\n",
       "   assignmentId_y sessionType_y  teamLevel_y platformType_y  \n",
       "0            5423           end            1         iphone  \n",
       "1            5300           end            1        android  \n",
       "2            5529           end            1         iphone  \n",
       "3            5528           end            1        windows  \n",
       "4            5527           end            1         iphone  "
      ]
     },
     "execution_count": 8,
     "metadata": {},
     "output_type": "execute_result"
    }
   ],
   "source": [
    "user_session_start = user_session[user_session.sessionType=='start']\n",
    "user_session_end = user_session[user_session.sessionType=='end']\n",
    "user_session_depivot = pd.merge(user_session_start, user_session_end, \n",
    "                                left_on=['userId','userSessionId'], right_on=['userId','userSessionId'])\n",
    "user_session_depivot.head()"
   ]
  },
  {
   "cell_type": "code",
   "execution_count": 9,
   "metadata": {},
   "outputs": [],
   "source": [
    "from datetime import datetime as dt"
   ]
  },
  {
   "cell_type": "code",
   "execution_count": 10,
   "metadata": {},
   "outputs": [],
   "source": [
    "def convert(x):\n",
    "    y = dt.strptime(x, '%Y-%m-%d %H:%M:%S')\n",
    "    return y\n",
    "\n",
    "user_session_depivot['session_duration'] = list(map(lambda y,x: (convert(y)-convert(x)).total_seconds()/60,\n",
    "                                                   user_session_depivot.timestamp_y,\n",
    "                                                   user_session_depivot.timestamp_x))"
   ]
  },
  {
   "cell_type": "code",
   "execution_count": 11,
   "metadata": {},
   "outputs": [],
   "source": [
    "session_duration = user_session_depivot.groupby('userId').session_duration.mean()"
   ]
  },
  {
   "cell_type": "code",
   "execution_count": 12,
   "metadata": {},
   "outputs": [
    {
     "data": {
      "text/plain": [
       "userId\n",
       "0    2632.500000\n",
       "1    3750.988095\n",
       "2    3834.000000\n",
       "6    4470.000000\n",
       "8    2400.000000\n",
       "Name: session_duration, dtype: float64"
      ]
     },
     "execution_count": 12,
     "metadata": {},
     "output_type": "execute_result"
    }
   ],
   "source": [
    "session_duration.head()"
   ]
  },
  {
   "cell_type": "markdown",
   "metadata": {},
   "source": [
    "# Creating Hit Rate"
   ]
  },
  {
   "cell_type": "code",
   "execution_count": 13,
   "metadata": {},
   "outputs": [
    {
     "data": {
      "text/html": [
       "<div>\n",
       "<style scoped>\n",
       "    .dataframe tbody tr th:only-of-type {\n",
       "        vertical-align: middle;\n",
       "    }\n",
       "\n",
       "    .dataframe tbody tr th {\n",
       "        vertical-align: top;\n",
       "    }\n",
       "\n",
       "    .dataframe thead th {\n",
       "        text-align: right;\n",
       "    }\n",
       "</style>\n",
       "<table border=\"1\" class=\"dataframe\">\n",
       "  <thead>\n",
       "    <tr style=\"text-align: right;\">\n",
       "      <th></th>\n",
       "      <th>timestamp</th>\n",
       "      <th>clickId</th>\n",
       "      <th>userId</th>\n",
       "      <th>userSessionId</th>\n",
       "      <th>isHit</th>\n",
       "      <th>teamId</th>\n",
       "      <th>teamLevel</th>\n",
       "    </tr>\n",
       "  </thead>\n",
       "  <tbody>\n",
       "    <tr>\n",
       "      <th>0</th>\n",
       "      <td>2016-05-26 15:06:55</td>\n",
       "      <td>105</td>\n",
       "      <td>1038</td>\n",
       "      <td>5916</td>\n",
       "      <td>0</td>\n",
       "      <td>25</td>\n",
       "      <td>1</td>\n",
       "    </tr>\n",
       "    <tr>\n",
       "      <th>1</th>\n",
       "      <td>2016-05-26 15:07:09</td>\n",
       "      <td>154</td>\n",
       "      <td>1099</td>\n",
       "      <td>5898</td>\n",
       "      <td>0</td>\n",
       "      <td>44</td>\n",
       "      <td>1</td>\n",
       "    </tr>\n",
       "    <tr>\n",
       "      <th>2</th>\n",
       "      <td>2016-05-26 15:07:14</td>\n",
       "      <td>229</td>\n",
       "      <td>899</td>\n",
       "      <td>5757</td>\n",
       "      <td>0</td>\n",
       "      <td>71</td>\n",
       "      <td>1</td>\n",
       "    </tr>\n",
       "    <tr>\n",
       "      <th>3</th>\n",
       "      <td>2016-05-26 15:07:14</td>\n",
       "      <td>322</td>\n",
       "      <td>2197</td>\n",
       "      <td>5854</td>\n",
       "      <td>0</td>\n",
       "      <td>99</td>\n",
       "      <td>1</td>\n",
       "    </tr>\n",
       "    <tr>\n",
       "      <th>4</th>\n",
       "      <td>2016-05-26 15:07:20</td>\n",
       "      <td>22</td>\n",
       "      <td>1362</td>\n",
       "      <td>5739</td>\n",
       "      <td>0</td>\n",
       "      <td>13</td>\n",
       "      <td>1</td>\n",
       "    </tr>\n",
       "  </tbody>\n",
       "</table>\n",
       "</div>"
      ],
      "text/plain": [
       "             timestamp  clickId  userId  userSessionId  isHit  teamId  \\\n",
       "0  2016-05-26 15:06:55      105    1038           5916      0      25   \n",
       "1  2016-05-26 15:07:09      154    1099           5898      0      44   \n",
       "2  2016-05-26 15:07:14      229     899           5757      0      71   \n",
       "3  2016-05-26 15:07:14      322    2197           5854      0      99   \n",
       "4  2016-05-26 15:07:20       22    1362           5739      0      13   \n",
       "\n",
       "   teamLevel  \n",
       "0          1  \n",
       "1          1  \n",
       "2          1  \n",
       "3          1  \n",
       "4          1  "
      ]
     },
     "execution_count": 13,
     "metadata": {},
     "output_type": "execute_result"
    }
   ],
   "source": [
    "game_clicks = pd.read_csv('game-clicks.csv')\n",
    "game_clicks.head()"
   ]
  },
  {
   "cell_type": "code",
   "execution_count": 14,
   "metadata": {},
   "outputs": [],
   "source": [
    "hit_rate = game_clicks.groupby(by='userId').isHit.sum()/game_clicks.groupby(by='userId').isHit.count()"
   ]
  },
  {
   "cell_type": "code",
   "execution_count": 15,
   "metadata": {},
   "outputs": [
    {
     "data": {
      "text/plain": [
       "userId\n",
       "0    0.105535\n",
       "1    0.134078\n",
       "2    0.095238\n",
       "6    0.105960\n",
       "8    0.100000\n",
       "Name: isHit, dtype: float64"
      ]
     },
     "execution_count": 15,
     "metadata": {},
     "output_type": "execute_result"
    }
   ],
   "source": [
    "hit_rate.head()"
   ]
  },
  {
   "cell_type": "markdown",
   "metadata": {},
   "source": [
    "# Combining everything"
   ]
  },
  {
   "cell_type": "code",
   "execution_count": 16,
   "metadata": {},
   "outputs": [],
   "source": [
    "df_final = pd.concat([purchase_per_adclick_per_user, session_duration, hit_rate], axis=1)"
   ]
  },
  {
   "cell_type": "code",
   "execution_count": 17,
   "metadata": {},
   "outputs": [
    {
     "data": {
      "text/html": [
       "<div>\n",
       "<style scoped>\n",
       "    .dataframe tbody tr th:only-of-type {\n",
       "        vertical-align: middle;\n",
       "    }\n",
       "\n",
       "    .dataframe tbody tr th {\n",
       "        vertical-align: top;\n",
       "    }\n",
       "\n",
       "    .dataframe thead th {\n",
       "        text-align: right;\n",
       "    }\n",
       "</style>\n",
       "<table border=\"1\" class=\"dataframe\">\n",
       "  <thead>\n",
       "    <tr style=\"text-align: right;\">\n",
       "      <th></th>\n",
       "      <th>purchase_per_adclick</th>\n",
       "      <th>avg_session_duration</th>\n",
       "      <th>hit_rate</th>\n",
       "    </tr>\n",
       "    <tr>\n",
       "      <th>userId</th>\n",
       "      <th></th>\n",
       "      <th></th>\n",
       "      <th></th>\n",
       "    </tr>\n",
       "  </thead>\n",
       "  <tbody>\n",
       "    <tr>\n",
       "      <th>0</th>\n",
       "      <td>0.000000</td>\n",
       "      <td>2632.500000</td>\n",
       "      <td>0.105535</td>\n",
       "    </tr>\n",
       "    <tr>\n",
       "      <th>1</th>\n",
       "      <td>0.477273</td>\n",
       "      <td>3750.988095</td>\n",
       "      <td>0.134078</td>\n",
       "    </tr>\n",
       "    <tr>\n",
       "      <th>2</th>\n",
       "      <td>0.000000</td>\n",
       "      <td>3834.000000</td>\n",
       "      <td>0.095238</td>\n",
       "    </tr>\n",
       "    <tr>\n",
       "      <th>6</th>\n",
       "      <td>0.000000</td>\n",
       "      <td>4470.000000</td>\n",
       "      <td>0.105960</td>\n",
       "    </tr>\n",
       "    <tr>\n",
       "      <th>8</th>\n",
       "      <td>5.300000</td>\n",
       "      <td>2400.000000</td>\n",
       "      <td>0.100000</td>\n",
       "    </tr>\n",
       "    <tr>\n",
       "      <th>9</th>\n",
       "      <td>2.162162</td>\n",
       "      <td>3760.000000</td>\n",
       "      <td>0.122047</td>\n",
       "    </tr>\n",
       "    <tr>\n",
       "      <th>10</th>\n",
       "      <td>0.578947</td>\n",
       "      <td>3060.000000</td>\n",
       "      <td>0.109430</td>\n",
       "    </tr>\n",
       "    <tr>\n",
       "      <th>12</th>\n",
       "      <td>4.673913</td>\n",
       "      <td>3561.428571</td>\n",
       "      <td>0.130682</td>\n",
       "    </tr>\n",
       "    <tr>\n",
       "      <th>13</th>\n",
       "      <td>1.250000</td>\n",
       "      <td>4065.000000</td>\n",
       "      <td>0.102345</td>\n",
       "    </tr>\n",
       "    <tr>\n",
       "      <th>14</th>\n",
       "      <td>0.000000</td>\n",
       "      <td>3780.000000</td>\n",
       "      <td>0.059880</td>\n",
       "    </tr>\n",
       "  </tbody>\n",
       "</table>\n",
       "</div>"
      ],
      "text/plain": [
       "        purchase_per_adclick  avg_session_duration  hit_rate\n",
       "userId                                                      \n",
       "0                   0.000000           2632.500000  0.105535\n",
       "1                   0.477273           3750.988095  0.134078\n",
       "2                   0.000000           3834.000000  0.095238\n",
       "6                   0.000000           4470.000000  0.105960\n",
       "8                   5.300000           2400.000000  0.100000\n",
       "9                   2.162162           3760.000000  0.122047\n",
       "10                  0.578947           3060.000000  0.109430\n",
       "12                  4.673913           3561.428571  0.130682\n",
       "13                  1.250000           4065.000000  0.102345\n",
       "14                  0.000000           3780.000000  0.059880"
      ]
     },
     "execution_count": 17,
     "metadata": {},
     "output_type": "execute_result"
    }
   ],
   "source": [
    "df_final.fillna(value=0, inplace=True)\n",
    "df_final.columns = ['purchase_per_adclick', 'avg_session_duration', 'hit_rate']\n",
    "df_final.head(10)"
   ]
  },
  {
   "cell_type": "code",
   "execution_count": 18,
   "metadata": {},
   "outputs": [],
   "source": [
    "df_final.to_csv('Data_for_Clustering_3_Features.csv')"
   ]
  },
  {
   "cell_type": "code",
   "execution_count": 19,
   "metadata": {},
   "outputs": [
    {
     "data": {
      "text/plain": [
       "purchase_per_adclick    1193\n",
       "avg_session_duration    1193\n",
       "hit_rate                1193\n",
       "dtype: int64"
      ]
     },
     "execution_count": 19,
     "metadata": {},
     "output_type": "execute_result"
    }
   ],
   "source": [
    "df_finalalal.count()"
   ]
  },
  {
   "cell_type": "code",
   "execution_count": null,
   "metadata": {},
   "outputs": [],
   "source": []
  }
 ],
 "metadata": {
  "kernelspec": {
   "display_name": "Python 3",
   "language": "python",
   "name": "python3"
  },
  "language_info": {
   "codemirror_mode": {
    "name": "ipython",
    "version": 3
   },
   "file_extension": ".py",
   "mimetype": "text/x-python",
   "name": "python",
   "nbconvert_exporter": "python",
   "pygments_lexer": "ipython3",
   "version": "3.6.5"
  }
 },
 "nbformat": 4,
 "nbformat_minor": 2
}
